{
  "nbformat": 4,
  "nbformat_minor": 0,
  "metadata": {
    "colab": {
      "provenance": [],
      "collapsed_sections": [
        "xTD02_v8OgCG",
        "hxspQNsbO_bL",
        "LAiCfGJyawCS",
        "jnN8GLwjPQb0",
        "1JGgYTRO9oVu",
        "p0-oK0xH_1tw",
        "a-3e0SwBgSUR",
        "S55EwiO-2f1x",
        "B_UHawoGrU4p",
        "apWWx1gAc-rf",
        "yhMylq7W55GV",
        "Ez0GR0hf-aQU",
        "jIrEhmwpZev_"
      ],
      "toc_visible": true
    },
    "kernelspec": {
      "display_name": "Python 3",
      "name": "python3"
    },
    "language_info": {
      "name": "python"
    }
  },
  "cells": [
    {
      "cell_type": "markdown",
      "metadata": {
        "id": "RWYAx5HYrMRq"
      },
      "source": [
        "# **IMPORTING REQUIRED LIBRARIES**\n",
        "\n",
        "\n"
      ]
    },
    {
      "cell_type": "code",
      "metadata": {
        "id": "X3Ew3H2NrPkO"
      },
      "source": [
        "import pandas as pd\n",
        "import numpy as np \n",
        "import seaborn as sns \n",
        "import matplotlib.pyplot as plt\n",
        "import warnings\n",
        "import random\n",
        "import pydotplus\n",
        "\n",
        "warnings.filterwarnings('ignore') \n",
        "%matplotlib inline\n",
        "\n",
        "from sklearn import preprocessing\n",
        "from sklearn.model_selection import train_test_split \n",
        "from sklearn.preprocessing import StandardScaler  \n",
        "from sklearn.neighbors import KNeighborsClassifier\n",
        "from sklearn.svm import SVC\n",
        "from sklearn.tree import DecisionTreeClassifier\n",
        "from sklearn.ensemble import RandomForestClassifier\n",
        "from sklearn.linear_model import LogisticRegression\n",
        "from sklearn.naive_bayes import GaussianNB\n",
        "from sklearn.preprocessing import StandardScaler\n",
        "from sklearn.tree import export_graphviz\n",
        "from six import StringIO  \n",
        "from IPython.display import Image  \n",
        "from pylab import rcParams \n",
        "from matplotlib.cm import rainbow\n",
        "from prettytable import PrettyTable \n",
        "# from sklearn.metrics import jaccard_similarity_score\n",
        "from sklearn.preprocessing import MinMaxScaler\n",
        "from sklearn.metrics import accuracy_score, f1_score, precision_score, recall_score, classification_report, confusion_matrix\n"
      ],
      "execution_count": null,
      "outputs": []
    },
    {
      "cell_type": "markdown",
      "metadata": {
        "id": "BpR5l3HKrWNd"
      },
      "source": [
        "# **IMPORTING THE DATASET**"
      ]
    },
    {
      "cell_type": "code",
      "metadata": {
        "id": "aZzdjx5Dd_K5",
        "colab": {
          "base_uri": "https://localhost:8080/"
        },
        "outputId": "f49fe894-24ca-41fd-a847-1d6d23a15de6"
      },
      "source": [
        "#importing the dataset\n",
        "df = pd.read_csv('/content/heart(303).csv')\n",
        "df = pd.DataFrame(df)\n",
        "df.head()\n"
      ],
      "execution_count": null,
      "outputs": [
        {
          "output_type": "execute_result",
          "data": {
            "text/html": [
              "<div>\n",
              "<style scoped>\n",
              "    .dataframe tbody tr th:only-of-type {\n",
              "        vertical-align: middle;\n",
              "    }\n",
              "\n",
              "    .dataframe tbody tr th {\n",
              "        vertical-align: top;\n",
              "    }\n",
              "\n",
              "    .dataframe thead th {\n",
              "        text-align: right;\n",
              "    }\n",
              "</style>\n",
              "<table border=\"1\" class=\"dataframe\">\n",
              "  <thead>\n",
              "    <tr style=\"text-align: right;\">\n",
              "      <th></th>\n",
              "      <th>age</th>\n",
              "      <th>sex</th>\n",
              "      <th>cp</th>\n",
              "      <th>trestbps</th>\n",
              "      <th>chol</th>\n",
              "      <th>fbs</th>\n",
              "      <th>restecg</th>\n",
              "      <th>thalach</th>\n",
              "      <th>exang</th>\n",
              "      <th>oldpeak</th>\n",
              "      <th>slope</th>\n",
              "      <th>ca</th>\n",
              "      <th>thal</th>\n",
              "      <th>target</th>\n",
              "    </tr>\n",
              "  </thead>\n",
              "  <tbody>\n",
              "    <tr>\n",
              "      <th>0</th>\n",
              "      <td>63</td>\n",
              "      <td>1</td>\n",
              "      <td>3</td>\n",
              "      <td>145</td>\n",
              "      <td>233</td>\n",
              "      <td>1</td>\n",
              "      <td>0</td>\n",
              "      <td>150</td>\n",
              "      <td>0</td>\n",
              "      <td>2.3</td>\n",
              "      <td>0</td>\n",
              "      <td>0</td>\n",
              "      <td>1</td>\n",
              "      <td>1</td>\n",
              "    </tr>\n",
              "    <tr>\n",
              "      <th>1</th>\n",
              "      <td>37</td>\n",
              "      <td>1</td>\n",
              "      <td>2</td>\n",
              "      <td>130</td>\n",
              "      <td>250</td>\n",
              "      <td>0</td>\n",
              "      <td>1</td>\n",
              "      <td>187</td>\n",
              "      <td>0</td>\n",
              "      <td>3.5</td>\n",
              "      <td>0</td>\n",
              "      <td>0</td>\n",
              "      <td>2</td>\n",
              "      <td>1</td>\n",
              "    </tr>\n",
              "    <tr>\n",
              "      <th>2</th>\n",
              "      <td>41</td>\n",
              "      <td>0</td>\n",
              "      <td>1</td>\n",
              "      <td>130</td>\n",
              "      <td>204</td>\n",
              "      <td>0</td>\n",
              "      <td>0</td>\n",
              "      <td>172</td>\n",
              "      <td>0</td>\n",
              "      <td>1.4</td>\n",
              "      <td>2</td>\n",
              "      <td>0</td>\n",
              "      <td>2</td>\n",
              "      <td>1</td>\n",
              "    </tr>\n",
              "    <tr>\n",
              "      <th>3</th>\n",
              "      <td>56</td>\n",
              "      <td>1</td>\n",
              "      <td>1</td>\n",
              "      <td>120</td>\n",
              "      <td>236</td>\n",
              "      <td>0</td>\n",
              "      <td>1</td>\n",
              "      <td>178</td>\n",
              "      <td>0</td>\n",
              "      <td>0.8</td>\n",
              "      <td>2</td>\n",
              "      <td>0</td>\n",
              "      <td>2</td>\n",
              "      <td>1</td>\n",
              "    </tr>\n",
              "    <tr>\n",
              "      <th>4</th>\n",
              "      <td>57</td>\n",
              "      <td>0</td>\n",
              "      <td>0</td>\n",
              "      <td>120</td>\n",
              "      <td>354</td>\n",
              "      <td>0</td>\n",
              "      <td>1</td>\n",
              "      <td>163</td>\n",
              "      <td>1</td>\n",
              "      <td>0.6</td>\n",
              "      <td>2</td>\n",
              "      <td>0</td>\n",
              "      <td>2</td>\n",
              "      <td>1</td>\n",
              "    </tr>\n",
              "  </tbody>\n",
              "</table>\n",
              "</div>"
            ],
            "text/plain": [
              "   age  sex  cp  trestbps  chol  fbs  ...  exang  oldpeak  slope  ca  thal  target\n",
              "0   63    1   3       145   233    1  ...      0      2.3      0   0     1       1\n",
              "1   37    1   2       130   250    0  ...      0      3.5      0   0     2       1\n",
              "2   41    0   1       130   204    0  ...      0      1.4      2   0     2       1\n",
              "3   56    1   1       120   236    0  ...      0      0.8      2   0     2       1\n",
              "4   57    0   0       120   354    0  ...      1      0.6      2   0     2       1\n",
              "\n",
              "[5 rows x 14 columns]"
            ]
          },
          "metadata": {},
          "execution_count": 2
        }
      ]
    },
    {
      "cell_type": "code",
      "metadata": {
        "id": "KD-1MJzWnW3M",
        "colab": {
          "base_uri": "https://localhost:8080/"
        },
        "outputId": "7feccbd6-b1e3-4746-c5ae-c17ad260f3e0"
      },
      "source": [
        "#specifies rows and columns\n",
        "df.shape"
      ],
      "execution_count": null,
      "outputs": [
        {
          "output_type": "execute_result",
          "data": {
            "text/plain": [
              "(303, 14)"
            ]
          },
          "metadata": {},
          "execution_count": 3
        }
      ]
    },
    {
      "cell_type": "code",
      "metadata": {
        "id": "FFZE1swNrqXA",
        "colab": {
          "base_uri": "https://localhost:8080/"
        },
        "outputId": "c3ee1d1d-b6d6-4bd2-bdaa-a0346381e167"
      },
      "source": [
        "#to check if the data is balanced\n",
        "sns.countplot(df['target'],palette=['#432371',\"#FAAE7B\"])#Show the counts of observations\n",
        "plt.show()"
      ],
      "execution_count": null,
      "outputs": [
        {
          "output_type": "display_data",
          "data": {
            "image/png": "[encoded data removed]",
            "text/plain": [
              "<Figure size 432x288 with 1 Axes>"
            ]
          },
          "metadata": {
            "needs_background": "light"
          }
        }
      ]
    },
    {
      "cell_type": "code",
      "metadata": {
        "id": "g3TfDNf2mDkm",
        "colab": {
          "base_uri": "https://localhost:8080/"
        },
        "outputId": "945a73ec-e98a-4e29-caa0-6a288d804ee2"
      },
      "source": [
        "print(\"Null values :: \")\n",
        "print(df.isnull() .sum())"
      ],
      "execution_count": null,
      "outputs": [
        {
          "output_type": "stream",
          "name": "stdout",
          "text": [
            "Null values :: \n",
            "age         0\n",
            "sex         0\n",
            "cp          0\n",
            "trestbps    0\n",
            "chol        0\n",
            "fbs         0\n",
            "restecg     0\n",
            "thalach     0\n",
            "exang       0\n",
            "oldpeak     0\n",
            "slope       0\n",
            "ca          0\n",
            "thal        0\n",
            "target      0\n",
            "dtype: int64\n"
          ]
        }
      ]
    },
    {
      "cell_type": "markdown",
      "metadata": {
        "id": "bwLR6fD4jfFE"
      },
      "source": [
        "DUPLICATION CHECK"
      ]
    },
    {
      "cell_type": "code",
      "metadata": {
        "id": "-QI8eq72hthf"
      },
      "source": [
        "#Check duplicate rows in data\n",
        "# duplicate_rows = df[df.duplicated()]\n",
        "# print(\"Number of duplicate rows :: \", duplicate_rows.shape)\n",
        "# print(duplicate_rows)\n"
      ],
      "execution_count": null,
      "outputs": []
    },
    {
      "cell_type": "code",
      "metadata": {
        "id": "_kj4Oa7HjGzW"
      },
      "source": [
        "# #Removing the duplicate row\n",
        "# df = df.drop_duplicates()\n",
        "# duplicate_rows = df[df.duplicated()]\n",
        "# print(\"Number of duplicate rows :: \", duplicate_rows.shape)\n",
        "# print(duplicate_rows)\n"
      ],
      "execution_count": null,
      "outputs": []
    },
    {
      "cell_type": "code",
      "metadata": {
        "id": "4KFpo5CkgOeK",
        "colab": {
          "base_uri": "https://localhost:8080/"
        },
        "outputId": "ceba2595-ba61-425a-9e6a-e4aef3228cdc"
      },
      "source": [
        "df.info()\n"
      ],
      "execution_count": null,
      "outputs": [
        {
          "output_type": "stream",
          "name": "stdout",
          "text": [
            "<class 'pandas.core.frame.DataFrame'>\n",
            "RangeIndex: 303 entries, 0 to 302\n",
            "Data columns (total 14 columns):\n",
            " #   Column    Non-Null Count  Dtype  \n",
            "---  ------    --------------  -----  \n",
            " 0   age       303 non-null    int64  \n",
            " 1   sex       303 non-null    int64  \n",
            " 2   cp        303 non-null    int64  \n",
            " 3   trestbps  303 non-null    int64  \n",
            " 4   chol      303 non-null    int64  \n",
            " 5   fbs       303 non-null    int64  \n",
            " 6   restecg   303 non-null    int64  \n",
            " 7   thalach   303 non-null    int64  \n",
            " 8   exang     303 non-null    int64  \n",
            " 9   oldpeak   303 non-null    float64\n",
            " 10  slope     303 non-null    int64  \n",
            " 11  ca        303 non-null    int64  \n",
            " 12  thal      303 non-null    int64  \n",
            " 13  target    303 non-null    int64  \n",
            "dtypes: float64(1), int64(13)\n",
            "memory usage: 33.3 KB\n"
          ]
        }
      ]
    },
    {
      "cell_type": "markdown",
      "metadata": {
        "id": "VUgqsHsM1QdH"
      },
      "source": [
        "# **CORRELATION MATRIX**"
      ]
    },
    {
      "cell_type": "code",
      "metadata": {
        "id": "wHKMHwvLQ5JU",
        "colab": {
          "base_uri": "https://localhost:8080/"
        },
        "outputId": "4196b155-7865-4390-c69a-87207427ba62"
      },
      "source": [
        "#Visualization of Correlation of attributes with HeatMap \n",
        "plt.figure(figsize = (20,10))\n",
        "c = df.corr()\n",
        "sns.heatmap(c, cmap = 'RdBu', annot = True)\n",
        "plt.show()\n"
      ],
      "execution_count": null,
      "outputs": [
        {
          "output_type": "display_data",
          "data": {
            "image/png": "[encoded data removed]",
            "text/plain": [
              "<Figure size 1440x720 with 2 Axes>"
            ]
          },
          "metadata": {
            "needs_background": "light"
          }
        }
      ]
    },
    {
      "cell_type": "markdown",
      "metadata": {
        "id": "wcDtRZmJ2_pQ"
      },
      "source": [
        "# **ONE HOT ENCODING**"
      ]
    },
    {
      "cell_type": "code",
      "metadata": {
        "id": "X_XheQI33Af0"
      },
      "source": [
        "x= df.iloc[:,:-1] \n",
        "y= df.iloc[:,-1] \n",
        "\n",
        "#df = pd.get_dummies(df, columns = ['cp','restecg','slope','ca','thal'])\n",
        "\n",
        "# standardScaler = StandardScaler() #removes the mean and scales each feature/variable to unit variance.\n",
        "# columns_to_scale = ['age','trestbps','chol','thalach','exang','oldpeak']\n",
        "# df[columns_to_scale] = standardScaler.fit_transform(df[columns_to_scale])#fit_transform() is used for the initial fitting of parameters on the training set x, while also returning the transformed x\n",
        "# display(df)\n"
      ],
      "execution_count": null,
      "outputs": []
    },
    {
      "cell_type": "code",
      "metadata": {
        "colab": {
          "base_uri": "https://localhost:8080/"
        },
        "id": "BPkCqGerY2sM",
        "outputId": "eee20459-8567-42d4-d4fe-d8e68f4925c3"
      },
      "source": [
        "df.hist(figsize=(15, 15),color='#ff7994',edgecolor='purple')\n",
        "plt.show()"
      ],
      "execution_count": null,
      "outputs": [
        {
          "output_type": "display_data",
          "data": {
            "image/png": "[encoded data removed]",
            "text/plain": [
              "<Figure size 1080x1080 with 16 Axes>"
            ]
          },
          "metadata": {
            "needs_background": "light"
          }
        }
      ]
    },
    {
      "cell_type": "markdown",
      "metadata": {
        "id": "z0T4X8YDGhhJ"
      },
      "source": [
        "# **NORMALIZATION**"
      ]
    },
    {
      "cell_type": "code",
      "metadata": {
        "colab": {
          "base_uri": "https://localhost:8080/"
        },
        "id": "pHn-abSwxiDn",
        "outputId": "d9610042-37b3-472c-a942-81984fa5bb1c"
      },
      "source": [
        "cols_to_norm = ['age','trestbps','chol','thalach','oldpeak','cp','restecg','slope','ca','thal']\n",
        "df[cols_to_norm] = df[cols_to_norm].apply(lambda x: (x - x.min()) / (x.max() - x.min()))\n",
        "display(df)\n",
        "# df[cols_to_norm] = df[cols_to_norm].apply(lambda x: (x - np.mean(x)) / (np.std(x)))\n",
        "# display(df)  "
      ],
      "execution_count": null,
      "outputs": [
        {
          "output_type": "display_data",
          "data": {
            "text/html": [
              "<div>\n",
              "<style scoped>\n",
              "    .dataframe tbody tr th:only-of-type {\n",
              "        vertical-align: middle;\n",
              "    }\n",
              "\n",
              "    .dataframe tbody tr th {\n",
              "        vertical-align: top;\n",
              "    }\n",
              "\n",
              "    .dataframe thead th {\n",
              "        text-align: right;\n",
              "    }\n",
              "</style>\n",
              "<table border=\"1\" class=\"dataframe\">\n",
              "  <thead>\n",
              "    <tr style=\"text-align: right;\">\n",
              "      <th></th>\n",
              "      <th>age</th>\n",
              "      <th>sex</th>\n",
              "      <th>cp</th>\n",
              "      <th>trestbps</th>\n",
              "      <th>chol</th>\n",
              "      <th>fbs</th>\n",
              "      <th>restecg</th>\n",
              "      <th>thalach</th>\n",
              "      <th>exang</th>\n",
              "      <th>oldpeak</th>\n",
              "      <th>slope</th>\n",
              "      <th>ca</th>\n",
              "      <th>thal</th>\n",
              "      <th>target</th>\n",
              "    </tr>\n",
              "  </thead>\n",
              "  <tbody>\n",
              "    <tr>\n",
              "      <th>0</th>\n",
              "      <td>0.708333</td>\n",
              "      <td>1</td>\n",
              "      <td>1.000000</td>\n",
              "      <td>0.481132</td>\n",
              "      <td>0.244292</td>\n",
              "      <td>1</td>\n",
              "      <td>0.0</td>\n",
              "      <td>0.603053</td>\n",
              "      <td>0</td>\n",
              "      <td>0.370968</td>\n",
              "      <td>0.0</td>\n",
              "      <td>0.00</td>\n",
              "      <td>0.333333</td>\n",
              "      <td>1</td>\n",
              "    </tr>\n",
              "    <tr>\n",
              "      <th>1</th>\n",
              "      <td>0.166667</td>\n",
              "      <td>1</td>\n",
              "      <td>0.666667</td>\n",
              "      <td>0.339623</td>\n",
              "      <td>0.283105</td>\n",
              "      <td>0</td>\n",
              "      <td>0.5</td>\n",
              "      <td>0.885496</td>\n",
              "      <td>0</td>\n",
              "      <td>0.564516</td>\n",
              "      <td>0.0</td>\n",
              "      <td>0.00</td>\n",
              "      <td>0.666667</td>\n",
              "      <td>1</td>\n",
              "    </tr>\n",
              "    <tr>\n",
              "      <th>2</th>\n",
              "      <td>0.250000</td>\n",
              "      <td>0</td>\n",
              "      <td>0.333333</td>\n",
              "      <td>0.339623</td>\n",
              "      <td>0.178082</td>\n",
              "      <td>0</td>\n",
              "      <td>0.0</td>\n",
              "      <td>0.770992</td>\n",
              "      <td>0</td>\n",
              "      <td>0.225806</td>\n",
              "      <td>1.0</td>\n",
              "      <td>0.00</td>\n",
              "      <td>0.666667</td>\n",
              "      <td>1</td>\n",
              "    </tr>\n",
              "    <tr>\n",
              "      <th>3</th>\n",
              "      <td>0.562500</td>\n",
              "      <td>1</td>\n",
              "      <td>0.333333</td>\n",
              "      <td>0.245283</td>\n",
              "      <td>0.251142</td>\n",
              "      <td>0</td>\n",
              "      <td>0.5</td>\n",
              "      <td>0.816794</td>\n",
              "      <td>0</td>\n",
              "      <td>0.129032</td>\n",
              "      <td>1.0</td>\n",
              "      <td>0.00</td>\n",
              "      <td>0.666667</td>\n",
              "      <td>1</td>\n",
              "    </tr>\n",
              "    <tr>\n",
              "      <th>4</th>\n",
              "      <td>0.583333</td>\n",
              "      <td>0</td>\n",
              "      <td>0.000000</td>\n",
              "      <td>0.245283</td>\n",
              "      <td>0.520548</td>\n",
              "      <td>0</td>\n",
              "      <td>0.5</td>\n",
              "      <td>0.702290</td>\n",
              "      <td>1</td>\n",
              "      <td>0.096774</td>\n",
              "      <td>1.0</td>\n",
              "      <td>0.00</td>\n",
              "      <td>0.666667</td>\n",
              "      <td>1</td>\n",
              "    </tr>\n",
              "    <tr>\n",
              "      <th>...</th>\n",
              "      <td>...</td>\n",
              "      <td>...</td>\n",
              "      <td>...</td>\n",
              "      <td>...</td>\n",
              "      <td>...</td>\n",
              "      <td>...</td>\n",
              "      <td>...</td>\n",
              "      <td>...</td>\n",
              "      <td>...</td>\n",
              "      <td>...</td>\n",
              "      <td>...</td>\n",
              "      <td>...</td>\n",
              "      <td>...</td>\n",
              "      <td>...</td>\n",
              "    </tr>\n",
              "    <tr>\n",
              "      <th>298</th>\n",
              "      <td>0.583333</td>\n",
              "      <td>0</td>\n",
              "      <td>0.000000</td>\n",
              "      <td>0.433962</td>\n",
              "      <td>0.262557</td>\n",
              "      <td>0</td>\n",
              "      <td>0.5</td>\n",
              "      <td>0.396947</td>\n",
              "      <td>1</td>\n",
              "      <td>0.032258</td>\n",
              "      <td>0.5</td>\n",
              "      <td>0.00</td>\n",
              "      <td>1.000000</td>\n",
              "      <td>0</td>\n",
              "    </tr>\n",
              "    <tr>\n",
              "      <th>299</th>\n",
              "      <td>0.333333</td>\n",
              "      <td>1</td>\n",
              "      <td>1.000000</td>\n",
              "      <td>0.150943</td>\n",
              "      <td>0.315068</td>\n",
              "      <td>0</td>\n",
              "      <td>0.5</td>\n",
              "      <td>0.465649</td>\n",
              "      <td>0</td>\n",
              "      <td>0.193548</td>\n",
              "      <td>0.5</td>\n",
              "      <td>0.00</td>\n",
              "      <td>1.000000</td>\n",
              "      <td>0</td>\n",
              "    </tr>\n",
              "    <tr>\n",
              "      <th>300</th>\n",
              "      <td>0.812500</td>\n",
              "      <td>1</td>\n",
              "      <td>0.000000</td>\n",
              "      <td>0.471698</td>\n",
              "      <td>0.152968</td>\n",
              "      <td>1</td>\n",
              "      <td>0.5</td>\n",
              "      <td>0.534351</td>\n",
              "      <td>0</td>\n",
              "      <td>0.548387</td>\n",
              "      <td>0.5</td>\n",
              "      <td>0.50</td>\n",
              "      <td>1.000000</td>\n",
              "      <td>0</td>\n",
              "    </tr>\n",
              "    <tr>\n",
              "      <th>301</th>\n",
              "      <td>0.583333</td>\n",
              "      <td>1</td>\n",
              "      <td>0.000000</td>\n",
              "      <td>0.339623</td>\n",
              "      <td>0.011416</td>\n",
              "      <td>0</td>\n",
              "      <td>0.5</td>\n",
              "      <td>0.335878</td>\n",
              "      <td>1</td>\n",
              "      <td>0.193548</td>\n",
              "      <td>0.5</td>\n",
              "      <td>0.25</td>\n",
              "      <td>1.000000</td>\n",
              "      <td>0</td>\n",
              "    </tr>\n",
              "    <tr>\n",
              "      <th>302</th>\n",
              "      <td>0.583333</td>\n",
              "      <td>0</td>\n",
              "      <td>0.333333</td>\n",
              "      <td>0.339623</td>\n",
              "      <td>0.251142</td>\n",
              "      <td>0</td>\n",
              "      <td>0.0</td>\n",
              "      <td>0.786260</td>\n",
              "      <td>0</td>\n",
              "      <td>0.000000</td>\n",
              "      <td>0.5</td>\n",
              "      <td>0.25</td>\n",
              "      <td>0.666667</td>\n",
              "      <td>0</td>\n",
              "    </tr>\n",
              "  </tbody>\n",
              "</table>\n",
              "<p>303 rows × 14 columns</p>\n",
              "</div>"
            ],
            "text/plain": [
              "          age  sex        cp  trestbps  ...  slope    ca      thal  target\n",
              "0    0.708333    1  1.000000  0.481132  ...    0.0  0.00  0.333333       1\n",
              "1    0.166667    1  0.666667  0.339623  ...    0.0  0.00  0.666667       1\n",
              "2    0.250000    0  0.333333  0.339623  ...    1.0  0.00  0.666667       1\n",
              "3    0.562500    1  0.333333  0.245283  ...    1.0  0.00  0.666667       1\n",
              "4    0.583333    0  0.000000  0.245283  ...    1.0  0.00  0.666667       1\n",
              "..        ...  ...       ...       ...  ...    ...   ...       ...     ...\n",
              "298  0.583333    0  0.000000  0.433962  ...    0.5  0.00  1.000000       0\n",
              "299  0.333333    1  1.000000  0.150943  ...    0.5  0.00  1.000000       0\n",
              "300  0.812500    1  0.000000  0.471698  ...    0.5  0.50  1.000000       0\n",
              "301  0.583333    1  0.000000  0.339623  ...    0.5  0.25  1.000000       0\n",
              "302  0.583333    0  0.333333  0.339623  ...    0.5  0.25  0.666667       0\n",
              "\n",
              "[303 rows x 14 columns]"
            ]
          },
          "metadata": {}
        }
      ]
    },
    {
      "cell_type": "code",
      "metadata": {
        "id": "h1dTJZ2yfIp1",
        "colab": {
          "base_uri": "https://localhost:8080/"
        },
        "outputId": "dd42b7bc-471e-4eec-b42b-043b2a009a12"
      },
      "source": [
        "df.hist(figsize=(15, 15),color='#ff7994',edgecolor='purple')\n",
        "plt.show()"
      ],
      "execution_count": null,
      "outputs": [
        {
          "output_type": "display_data",
          "data": {
            "image/png": "[encoded data removed]",
            "text/plain": [
              "<Figure size 1080x1080 with 16 Axes>"
            ]
          },
          "metadata": {
            "needs_background": "light"
          }
        }
      ]
    },
    {
      "cell_type": "code",
      "metadata": {
        "id": "bjpBVuMnGgZK"
      },
      "source": [
        "# normalized = preprocessing.normalize(df)#converts into array\n",
        "# print(\"Normalized Data =\\n\",normalized)\n",
        "\n",
        "# # without converting\n",
        "# n = preprocessing.normalize(df)\n",
        "# scalled_n = pd.DataFrame(n)\n",
        "# scalled_n.head()"
      ],
      "execution_count": null,
      "outputs": []
    },
    {
      "cell_type": "markdown",
      "metadata": {
        "id": "Bh35FjkX29PG"
      },
      "source": [
        "MIN MAX"
      ]
    },
    {
      "cell_type": "code",
      "metadata": {
        "id": "G03bURfu28ln"
      },
      "source": [
        "# scaler = preprocessing.MinMaxScaler()\n",
        "# d = scaler.fit_transform(df)\n",
        "# scaled_df = pd.DataFrame(d)\n",
        "# scaled_df.head()"
      ],
      "execution_count": null,
      "outputs": []
    },
    {
      "cell_type": "markdown",
      "metadata": {
        "id": "AGzh4pfV5EMr"
      },
      "source": [
        "Z SCORE"
      ]
    },
    {
      "cell_type": "code",
      "metadata": {
        "id": "Y1YWDPxf5GBR"
      },
      "source": [
        "# # copy the data\n",
        "# z_scaled = df.copy()\n",
        "  \n",
        "# # apply normalization techniques\n",
        "# for column in z_scaled.columns:\n",
        "#     z_scaled[column] = (z_scaled[column] -z_scaled[column].mean()) / z_scaled[column].std()    \n",
        "  \n",
        "# # view normalized data   \n",
        "# display(z_scaled)"
      ],
      "execution_count": null,
      "outputs": []
    },
    {
      "cell_type": "markdown",
      "metadata": {
        "id": "1HJ_zq-8ry6y"
      },
      "source": [
        "# **SPLITTING THE DATASET INTO TRAINING AND TESTING**"
      ]
    },
    {
      "cell_type": "code",
      "metadata": {
        "id": "5A7M51G0rz_j"
      },
      "source": [
        "# random.seed(10) \n",
        "# x_train, x_test, y_train, y_test= train_test_split(x, y, test_size= 0.2, random_state=10)\n",
        "# st_x= StandardScaler()    \n",
        "# x_train= st_x.fit_transform(x_train)    \n",
        "# x_test= st_x.transform(x_test) \n"
      ],
      "execution_count": null,
      "outputs": []
    },
    {
      "cell_type": "code",
      "metadata": {
        "colab": {
          "base_uri": "https://localhost:8080/"
        },
        "id": "LjQ1Flz2Pbkv",
        "outputId": "c2aac6bd-b6a6-4c87-ff28-3f123ef8ec62"
      },
      "source": [
        "df.hist(figsize=(15, 15),color='#ff7994',edgecolor='purple')\n",
        "plt.show()"
      ],
      "execution_count": null,
      "outputs": [
        {
          "output_type": "display_data",
          "data": {
            "image/png": "[encoded data removed]",
            "text/plain": [
              "<Figure size 1080x1080 with 16 Axes>"
            ]
          },
          "metadata": {
            "needs_background": "light"
          }
        }
      ]
    },
    {
      "cell_type": "markdown",
      "metadata": {
        "id": "-86JmAOJ7POD"
      },
      "source": [
        "# **CROSS VALIDATION**"
      ]
    },
    {
      "cell_type": "code",
      "metadata": {
        "id": "ZeeIeFGA7POF",
        "colab": {
          "base_uri": "https://localhost:8080/"
        },
        "outputId": "ade5c104-e547-4f5f-b72f-7331abf06d03"
      },
      "source": [
        "#Importing required libraries\n",
        "from sklearn.datasets import load_breast_cancer\n",
        "import pandas as pd\n",
        "from sklearn.model_selection import KFold \n",
        "from sklearn.linear_model import LogisticRegression\n",
        "from sklearn.metrics import accuracy_score\n",
        " \n",
        " \n",
        "#Implementing cross validation\n",
        " \n",
        "k = 5\n",
        "kf = KFold(n_splits=k, random_state=None)\n",
        " \n",
        "for train_index , test_index in kf.split(x):\n",
        "    x_train , x_test = x.iloc[train_index,:],x.iloc[test_index,:]\n",
        "    y_train , y_test = y[train_index] , y[test_index]\n",
        "    print(\"%s %s\" % (train_index, test_index))\n",
        "\n",
        "# scoresT = cross_val_score(df, x, y, cv=5)\n",
        "# print(scoresT)"
      ],
      "execution_count": null,
      "outputs": [
        {
          "output_type": "stream",
          "name": "stdout",
          "text": [
            "[ 61  62  63  64  65  66  67  68  69  70  71  72  73  74  75  76  77  78\n",
            "  79  80  81  82  83  84  85  86  87  88  89  90  91  92  93  94  95  96\n",
            "  97  98  99 100 101 102 103 104 105 106 107 108 109 110 111 112 113 114\n",
            " 115 116 117 118 119 120 121 122 123 124 125 126 127 128 129 130 131 132\n",
            " 133 134 135 136 137 138 139 140 141 142 143 144 145 146 147 148 149 150\n",
            " 151 152 153 154 155 156 157 158 159 160 161 162 163 164 165 166 167 168\n",
            " 169 170 171 172 173 174 175 176 177 178 179 180 181 182 183 184 185 186\n",
            " 187 188 189 190 191 192 193 194 195 196 197 198 199 200 201 202 203 204\n",
            " 205 206 207 208 209 210 211 212 213 214 215 216 217 218 219 220 221 222\n",
            " 223 224 225 226 227 228 229 230 231 232 233 234 235 236 237 238 239 240\n",
            " 241 242 243 244 245 246 247 248 249 250 251 252 253 254 255 256 257 258\n",
            " 259 260 261 262 263 264 265 266 267 268 269 270 271 272 273 274 275 276\n",
            " 277 278 279 280 281 282 283 284 285 286 287 288 289 290 291 292 293 294\n",
            " 295 296 297 298 299 300 301 302] [ 0  1  2  3  4  5  6  7  8  9 10 11 12 13 14 15 16 17 18 19 20 21 22 23\n",
            " 24 25 26 27 28 29 30 31 32 33 34 35 36 37 38 39 40 41 42 43 44 45 46 47\n",
            " 48 49 50 51 52 53 54 55 56 57 58 59 60]\n",
            "[  0   1   2   3   4   5   6   7   8   9  10  11  12  13  14  15  16  17\n",
            "  18  19  20  21  22  23  24  25  26  27  28  29  30  31  32  33  34  35\n",
            "  36  37  38  39  40  41  42  43  44  45  46  47  48  49  50  51  52  53\n",
            "  54  55  56  57  58  59  60 122 123 124 125 126 127 128 129 130 131 132\n",
            " 133 134 135 136 137 138 139 140 141 142 143 144 145 146 147 148 149 150\n",
            " 151 152 153 154 155 156 157 158 159 160 161 162 163 164 165 166 167 168\n",
            " 169 170 171 172 173 174 175 176 177 178 179 180 181 182 183 184 185 186\n",
            " 187 188 189 190 191 192 193 194 195 196 197 198 199 200 201 202 203 204\n",
            " 205 206 207 208 209 210 211 212 213 214 215 216 217 218 219 220 221 222\n",
            " 223 224 225 226 227 228 229 230 231 232 233 234 235 236 237 238 239 240\n",
            " 241 242 243 244 245 246 247 248 249 250 251 252 253 254 255 256 257 258\n",
            " 259 260 261 262 263 264 265 266 267 268 269 270 271 272 273 274 275 276\n",
            " 277 278 279 280 281 282 283 284 285 286 287 288 289 290 291 292 293 294\n",
            " 295 296 297 298 299 300 301 302] [ 61  62  63  64  65  66  67  68  69  70  71  72  73  74  75  76  77  78\n",
            "  79  80  81  82  83  84  85  86  87  88  89  90  91  92  93  94  95  96\n",
            "  97  98  99 100 101 102 103 104 105 106 107 108 109 110 111 112 113 114\n",
            " 115 116 117 118 119 120 121]\n",
            "[  0   1   2   3   4   5   6   7   8   9  10  11  12  13  14  15  16  17\n",
            "  18  19  20  21  22  23  24  25  26  27  28  29  30  31  32  33  34  35\n",
            "  36  37  38  39  40  41  42  43  44  45  46  47  48  49  50  51  52  53\n",
            "  54  55  56  57  58  59  60  61  62  63  64  65  66  67  68  69  70  71\n",
            "  72  73  74  75  76  77  78  79  80  81  82  83  84  85  86  87  88  89\n",
            "  90  91  92  93  94  95  96  97  98  99 100 101 102 103 104 105 106 107\n",
            " 108 109 110 111 112 113 114 115 116 117 118 119 120 121 183 184 185 186\n",
            " 187 188 189 190 191 192 193 194 195 196 197 198 199 200 201 202 203 204\n",
            " 205 206 207 208 209 210 211 212 213 214 215 216 217 218 219 220 221 222\n",
            " 223 224 225 226 227 228 229 230 231 232 233 234 235 236 237 238 239 240\n",
            " 241 242 243 244 245 246 247 248 249 250 251 252 253 254 255 256 257 258\n",
            " 259 260 261 262 263 264 265 266 267 268 269 270 271 272 273 274 275 276\n",
            " 277 278 279 280 281 282 283 284 285 286 287 288 289 290 291 292 293 294\n",
            " 295 296 297 298 299 300 301 302] [122 123 124 125 126 127 128 129 130 131 132 133 134 135 136 137 138 139\n",
            " 140 141 142 143 144 145 146 147 148 149 150 151 152 153 154 155 156 157\n",
            " 158 159 160 161 162 163 164 165 166 167 168 169 170 171 172 173 174 175\n",
            " 176 177 178 179 180 181 182]\n",
            "[  0   1   2   3   4   5   6   7   8   9  10  11  12  13  14  15  16  17\n",
            "  18  19  20  21  22  23  24  25  26  27  28  29  30  31  32  33  34  35\n",
            "  36  37  38  39  40  41  42  43  44  45  46  47  48  49  50  51  52  53\n",
            "  54  55  56  57  58  59  60  61  62  63  64  65  66  67  68  69  70  71\n",
            "  72  73  74  75  76  77  78  79  80  81  82  83  84  85  86  87  88  89\n",
            "  90  91  92  93  94  95  96  97  98  99 100 101 102 103 104 105 106 107\n",
            " 108 109 110 111 112 113 114 115 116 117 118 119 120 121 122 123 124 125\n",
            " 126 127 128 129 130 131 132 133 134 135 136 137 138 139 140 141 142 143\n",
            " 144 145 146 147 148 149 150 151 152 153 154 155 156 157 158 159 160 161\n",
            " 162 163 164 165 166 167 168 169 170 171 172 173 174 175 176 177 178 179\n",
            " 180 181 182 243 244 245 246 247 248 249 250 251 252 253 254 255 256 257\n",
            " 258 259 260 261 262 263 264 265 266 267 268 269 270 271 272 273 274 275\n",
            " 276 277 278 279 280 281 282 283 284 285 286 287 288 289 290 291 292 293\n",
            " 294 295 296 297 298 299 300 301 302] [183 184 185 186 187 188 189 190 191 192 193 194 195 196 197 198 199 200\n",
            " 201 202 203 204 205 206 207 208 209 210 211 212 213 214 215 216 217 218\n",
            " 219 220 221 222 223 224 225 226 227 228 229 230 231 232 233 234 235 236\n",
            " 237 238 239 240 241 242]\n",
            "[  0   1   2   3   4   5   6   7   8   9  10  11  12  13  14  15  16  17\n",
            "  18  19  20  21  22  23  24  25  26  27  28  29  30  31  32  33  34  35\n",
            "  36  37  38  39  40  41  42  43  44  45  46  47  48  49  50  51  52  53\n",
            "  54  55  56  57  58  59  60  61  62  63  64  65  66  67  68  69  70  71\n",
            "  72  73  74  75  76  77  78  79  80  81  82  83  84  85  86  87  88  89\n",
            "  90  91  92  93  94  95  96  97  98  99 100 101 102 103 104 105 106 107\n",
            " 108 109 110 111 112 113 114 115 116 117 118 119 120 121 122 123 124 125\n",
            " 126 127 128 129 130 131 132 133 134 135 136 137 138 139 140 141 142 143\n",
            " 144 145 146 147 148 149 150 151 152 153 154 155 156 157 158 159 160 161\n",
            " 162 163 164 165 166 167 168 169 170 171 172 173 174 175 176 177 178 179\n",
            " 180 181 182 183 184 185 186 187 188 189 190 191 192 193 194 195 196 197\n",
            " 198 199 200 201 202 203 204 205 206 207 208 209 210 211 212 213 214 215\n",
            " 216 217 218 219 220 221 222 223 224 225 226 227 228 229 230 231 232 233\n",
            " 234 235 236 237 238 239 240 241 242] [243 244 245 246 247 248 249 250 251 252 253 254 255 256 257 258 259 260\n",
            " 261 262 263 264 265 266 267 268 269 270 271 272 273 274 275 276 277 278\n",
            " 279 280 281 282 283 284 285 286 287 288 289 290 291 292 293 294 295 296\n",
            " 297 298 299 300 301 302]\n"
          ]
        }
      ]
    },
    {
      "cell_type": "markdown",
      "metadata": {
        "id": "NvEjWEX1qEr_"
      },
      "source": [
        "# **K-NEAREST NEIGHBORS**"
      ]
    },
    {
      "cell_type": "markdown",
      "metadata": {
        "id": "BRWF51Xtr8Rz"
      },
      "source": [
        "**CHECKING FOR THE BEST K VALUE**"
      ]
    },
    {
      "cell_type": "code",
      "metadata": {
        "id": "iBSnagz1r9O4",
        "colab": {
          "base_uri": "https://localhost:8080/",
          "height": 422
        },
        "outputId": "eb2e7ad0-a412-456a-eb27-41a9ca52f6ab"
      },
      "source": [
        "error = []\n",
        "\n",
        "# Calculating error for K values between 1 and 30\n",
        "for i in range(1, 10):\n",
        "    knn = KNeighborsClassifier(n_neighbors=i)\n",
        "    knn.fit(x_train, y_train)\n",
        "    pred_i = knn.predict(x_test)\n",
        "    error.append(np.mean(pred_i != y_test))\n",
        "    #print(error.append(np.mean(pred_i != y_test)))\n",
        "\n",
        "plt.figure(figsize=(12, 6))\n",
        "plt.plot(range(1, 10), error, color='red', linestyle='dashed', marker='o',\n",
        "         markerfacecolor='blue', markersize=10)\n",
        "plt.title('Error Rate K Value')\n",
        "plt.xlabel('K Value')\n",
        "plt.ylabel('Mean Error')\n",
        "print(\"Minimum error:-\",min(error),\"at K =\",error.index(min(error))+1)\n"
      ],
      "execution_count": null,
      "outputs": [
        {
          "output_type": "stream",
          "name": "stdout",
          "text": [
            "Minimum error:- 0.38333333333333336 at K = 2\n"
          ]
        },
        {
          "output_type": "display_data",
          "data": {
            "image/png": "[encoded data removed]",
            "text/plain": [
              "<Figure size 864x432 with 1 Axes>"
            ]
          },
          "metadata": {
            "needs_background": "light"
          }
        }
      ]
    },
    {
      "cell_type": "markdown",
      "metadata": {
        "id": "7hTurErtsKlh"
      },
      "source": [
        "**TRAINING**"
      ]
    },
    {
      "cell_type": "code",
      "metadata": {
        "id": "B1y42jDRY5oE"
      },
      "source": [
        "#print(pd.DataFrame(x_train))\n"
      ],
      "execution_count": null,
      "outputs": []
    },
    {
      "cell_type": "markdown",
      "metadata": {
        "id": "7W9c4_KctnXc"
      },
      "source": [
        "3 METRICS OF KNN"
      ]
    },
    {
      "cell_type": "code",
      "metadata": {
        "id": "U-Jgq2kQsLu8",
        "colab": {
          "base_uri": "https://localhost:8080/"
        },
        "outputId": "d891af37-1e44-4c65-b72b-94e9777a8b32"
      },
      "source": [
        "#3 metrics\n",
        "KNN_mi= KNeighborsClassifier(n_neighbors=5, metric = 'minkowski') \n",
        "KNN_e= KNeighborsClassifier(n_neighbors=5, metric = 'euclidean')\n",
        "KNN_ma= KNeighborsClassifier(n_neighbors=5, metric = 'manhattan',weights='uniform')\n",
        "KNN_j= KNeighborsClassifier(n_neighbors=5, metric = 'jaccard')\n",
        "KNN_h= KNeighborsClassifier(n_neighbors=5, metric = 'hamming')\n",
        "KNN_c= KNeighborsClassifier(n_neighbors=5, metric = 'cosine')\n",
        "\n",
        "KNN_mi.fit(x_train, y_train)\n",
        "KNN_e.fit(x_train, y_train)\n",
        "KNN_ma.fit(x_train, y_train)\n",
        "KNN_j.fit(x_train, y_train)\n",
        "KNN_h.fit(x_train, y_train)\n",
        "KNN_c.fit(x_train, y_train)\n",
        "\n",
        "y_pred_mi= KNN_mi.predict(x_test)\n",
        "y_pred_e= KNN_e.predict(x_test)\n",
        "y_pred_ma= KNN_ma.predict(x_test)\n",
        "y_pred_j= KNN_j.predict(x_test)\n",
        "y_pred_h= KNN_h.predict(x_test)\n",
        "y_pred_c= KNN_c.predict(x_test)\n",
        "\n",
        "print('\\nKNN Minkowski Prediction:\\n',y_pred_mi)\n",
        "print('\\nKNN Euclidean Prediction:\\n',y_pred_e)\n",
        "print('\\nKNN Manhattan Prediction:\\n',y_pred_ma)\n",
        "print('\\nKNN Jaccard Prediction:\\n',y_pred_j)\n",
        "print('\\nKNN Hamming Prediction:\\n',y_pred_h)\n",
        "print('\\nKNN Cosine Prediction:\\n',y_pred_c)\n"
      ],
      "execution_count": null,
      "outputs": [
        {
          "output_type": "stream",
          "name": "stdout",
          "text": [
            "\n",
            "KNN Minkowski Prediction:\n",
            " [0 1 1 1 1 1 0 1 1 0 1 0 1 0 1 1 1 1 0 0 1 1 1 0 1 0 0 1 1 0 1 0 1 1 0 1 0\n",
            " 1 1 1 1 0 1 1 1 1 1 1 0 1 1 1 1 1 0 1 1 0 0 1]\n",
            "\n",
            "KNN Euclidean Prediction:\n",
            " [0 1 1 1 1 1 0 1 1 0 1 0 1 0 1 1 1 1 0 0 1 1 1 0 1 0 0 1 1 0 1 0 1 1 0 1 0\n",
            " 1 1 1 1 0 1 1 1 1 1 1 0 1 1 1 1 1 0 1 1 0 0 1]\n",
            "\n",
            "KNN Manhattan Prediction:\n",
            " [0 0 1 1 1 1 0 1 0 0 1 0 1 0 1 1 1 1 0 0 1 1 1 0 1 0 0 1 1 0 1 1 1 0 0 1 0\n",
            " 1 1 1 1 0 1 1 1 0 1 1 0 1 1 0 0 1 0 0 1 0 0 1]\n",
            "\n",
            "KNN Jaccard Prediction:\n",
            " [0 0 1 0 1 1 0 0 0 1 0 1 0 0 0 0 1 0 1 0 0 0 0 0 0 0 0 1 1 1 0 0 0 0 1 1 0\n",
            " 1 0 1 1 0 0 1 1 0 0 1 0 0 1 0 0 1 0 0 1 0 0 1]\n",
            "\n",
            "KNN Hamming Prediction:\n",
            " [0 0 0 0 1 1 0 0 0 1 0 1 0 0 0 1 0 0 1 0 1 0 0 1 1 0 0 0 1 1 1 0 1 0 1 1 1\n",
            " 0 1 1 1 0 0 1 1 0 0 0 0 0 1 0 0 1 0 1 1 0 0 1]\n",
            "\n",
            "KNN Cosine Prediction:\n",
            " [0 1 1 0 0 0 0 1 1 0 1 0 1 0 0 0 1 1 1 0 1 1 1 0 1 1 0 0 1 0 1 0 1 0 0 1 0\n",
            " 0 1 1 1 0 1 1 0 1 0 1 1 0 1 1 1 1 1 1 1 1 0 1]\n"
          ]
        }
      ]
    },
    {
      "cell_type": "markdown",
      "metadata": {
        "id": "OUszcWDkswcI"
      },
      "source": [
        "**CONFUSION MATRIX**"
      ]
    },
    {
      "cell_type": "markdown",
      "metadata": {
        "id": "38sG0m1Zt7Uy"
      },
      "source": [
        "Manhattan Metric"
      ]
    },
    {
      "cell_type": "code",
      "metadata": {
        "id": "enM1p73CuAMu",
        "colab": {
          "base_uri": "https://localhost:8080/",
          "height": 693
        },
        "outputId": "ee2864fd-2c4e-4513-c128-2461a794b25b"
      },
      "source": [
        "cm_ma=confusion_matrix(y_test, y_pred_ma)\n",
        "print('\\n CLASSIFICATION REPORT OF MANHATTAN METRIC:\\n\\n',classification_report(y_test, y_pred_ma))\n",
        "cm_ma = pd.DataFrame(data = cm_ma, columns = ['Predicted:0', 'Predicted:1'], index =['Actual:0', 'Actual:1'])\n",
        "KNN_ma_r=recall_score(y_test, y_pred_ma)\n",
        "KNN_ma_p= precision_score(y_test, y_pred_ma)\n",
        "KNN_ma_f1=f1_score(y_test, y_pred_ma)\n",
        "print('\\n RECALL SCORE OF MANHATTAN METRIC : ',recall_score(y_test, y_pred_ma))\n",
        "print('\\n PRECISION SCORE OF MANHATTAN METRIC : ', precision_score(y_test, y_pred_ma))\n",
        "print('\\n F1 SCORE OF MANHATTAN METRIC : ', f1_score(y_test, y_pred_ma))\n",
        "print('\\n')\n",
        "plt.figure(figsize = (5, 5))\n",
        "sns.heatmap(cm_ma, annot = True, fmt ='d', cmap = \"Greens\")\n",
        "plt.show()\n"
      ],
      "execution_count": null,
      "outputs": [
        {
          "output_type": "stream",
          "name": "stdout",
          "text": [
            "\n",
            " CLASSIFICATION REPORT OF MANHATTAN METRIC:\n",
            "\n",
            "               precision    recall  f1-score   support\n",
            "\n",
            "           0       1.00      0.42      0.59        60\n",
            "           1       0.00      0.00      0.00         0\n",
            "\n",
            "    accuracy                           0.42        60\n",
            "   macro avg       0.50      0.21      0.29        60\n",
            "weighted avg       1.00      0.42      0.59        60\n",
            "\n",
            "\n",
            " RECALL SCORE OF MANHATTAN METRIC :  0.0\n",
            "\n",
            " PRECISION SCORE OF MANHATTAN METRIC :  0.0\n",
            "\n",
            " F1 SCORE OF MANHATTAN METRIC :  0.0\n",
            "\n",
            "\n"
          ]
        },
        {
          "output_type": "display_data",
          "data": {
            "image/png": "[encoded data removed]",
            "text/plain": [
              "<Figure size 360x360 with 2 Axes>"
            ]
          },
          "metadata": {
            "needs_background": "light"
          }
        }
      ]
    },
    {
      "cell_type": "markdown",
      "metadata": {
        "id": "cHKd1oKXtsl8"
      },
      "source": [
        "Minkowski Metric"
      ]
    },
    {
      "cell_type": "code",
      "metadata": {
        "id": "rxdYxuSUue4k",
        "colab": {
          "base_uri": "https://localhost:8080/",
          "height": 688
        },
        "outputId": "64738090-4248-4c88-8511-2449825ce88a"
      },
      "source": [
        "cm_mi=confusion_matrix(y_test, y_pred_mi)\n",
        "print('\\n CLASSIFICATION REPORT OF MINKOWSKI METRIC:\\n\\n',classification_report(y_test, y_pred_mi))\n",
        "cm_mi = pd.DataFrame(data = cm_mi, columns = ['Predicted:0', 'Predicted:1'], index =['Actual:0', 'Actual:1'])\n",
        "KNN_mi_r=recall_score(y_test, y_pred_mi)\n",
        "KNN_mi_p=precision_score(y_test, y_pred_mi)\n",
        "KNN_mi_f1=f1_score(y_test, y_pred_mi)\n",
        "print('\\n RECALL SCORE OF MINKOWSKI METRIC : ', recall_score(y_test, y_pred_mi))\n",
        "print('\\n PRECISION SCORE OF MINKOWSKI METRIC : ', precision_score(y_test, y_pred_mi))\n",
        "print('\\n F1 SCORE OF MINKOWSKI METRIC : ', f1_score(y_test, y_pred_mi))\n",
        "print('\\n')\n",
        "plt.figure(figsize = (5, 5))\n",
        "sns.heatmap(cm_mi, annot = True, fmt ='d', cmap = \"Greens\")\n",
        "plt.show()\n"
      ],
      "execution_count": null,
      "outputs": [
        {
          "output_type": "stream",
          "name": "stdout",
          "text": [
            "\n",
            " CLASSIFICATION REPORT OF MINKOWSKI METRIC:\n",
            "\n",
            "               precision    recall  f1-score   support\n",
            "\n",
            "           0       1.00      0.32      0.48        60\n",
            "           1       0.00      0.00      0.00         0\n",
            "\n",
            "    accuracy                           0.32        60\n",
            "   macro avg       0.50      0.16      0.24        60\n",
            "weighted avg       1.00      0.32      0.48        60\n",
            "\n",
            "\n",
            " RECALL SCORE OF MINKOWSKI METRIC :  0.0\n",
            "\n",
            " PRECISION SCORE OF MINKOWSKI METRIC :  0.0\n",
            "\n",
            " F1 SCORE OF MINKOWSKI METRIC :  0.0\n",
            "\n",
            "\n"
          ]
        },
        {
          "output_type": "display_data",
          "data": {
            "image/png": "[encoded data removed]",
            "text/plain": [
              "<Figure size 360x360 with 2 Axes>"
            ]
          },
          "metadata": {
            "needs_background": "light"
          }
        }
      ]
    },
    {
      "cell_type": "markdown",
      "metadata": {
        "id": "OiqR5J0IuZU_"
      },
      "source": [
        "Euclidean Metric"
      ]
    },
    {
      "cell_type": "code",
      "metadata": {
        "id": "xSgzS13KszBq",
        "colab": {
          "base_uri": "https://localhost:8080/",
          "height": 688
        },
        "outputId": "62783190-c981-4133-d894-27a57da52885"
      },
      "source": [
        "cm_e=confusion_matrix(y_test, y_pred_e)\n",
        "print('\\n CLASSIFICATION REPORT OF EUCLIDEAN METRIC:\\n\\n',classification_report(y_test, y_pred_e))\n",
        "cm_e = pd.DataFrame(data = cm_e, columns = ['Predicted:0', 'Predicted:1'], index =['Actual:0', 'Actual:1'])\n",
        "KNN_e_r=recall_score(y_test, y_pred_e)\n",
        "KNN_e_p=precision_score(y_test, y_pred_e)\n",
        "KNN_e_f1=f1_score(y_test, y_pred_e)\n",
        "print('\\n RECALL SCORE OF EUCLIDEAN METRIC : ', recall_score(y_test, y_pred_e))\n",
        "print('\\n PRECISION SCORE OF EUCLIDEAN METRIC : ', precision_score(y_test, y_pred_e))\n",
        "print('\\n F1 SCORE OF EUCLIDEAN METRIC : ', f1_score(y_test, y_pred_e))\n",
        "print('\\n')\n",
        "plt.figure(figsize = (5, 5))\n",
        "sns.heatmap(cm_e, annot = True, fmt ='d', cmap = \"Greens\")\n",
        "plt.show()\n"
      ],
      "execution_count": null,
      "outputs": [
        {
          "output_type": "stream",
          "name": "stdout",
          "text": [
            "\n",
            " CLASSIFICATION REPORT OF EUCLIDEAN METRIC:\n",
            "\n",
            "               precision    recall  f1-score   support\n",
            "\n",
            "           0       1.00      0.32      0.48        60\n",
            "           1       0.00      0.00      0.00         0\n",
            "\n",
            "    accuracy                           0.32        60\n",
            "   macro avg       0.50      0.16      0.24        60\n",
            "weighted avg       1.00      0.32      0.48        60\n",
            "\n",
            "\n",
            " RECALL SCORE OF EUCLIDEAN METRIC :  0.0\n",
            "\n",
            " PRECISION SCORE OF EUCLIDEAN METRIC :  0.0\n",
            "\n",
            " F1 SCORE OF EUCLIDEAN METRIC :  0.0\n",
            "\n",
            "\n"
          ]
        },
        {
          "output_type": "display_data",
          "data": {
            "image/png": "[encoded data removed]",
            "text/plain": [
              "<Figure size 360x360 with 2 Axes>"
            ]
          },
          "metadata": {
            "needs_background": "light"
          }
        }
      ]
    },
    {
      "cell_type": "markdown",
      "metadata": {
        "id": "1zfK7X6pc7ak"
      },
      "source": [
        "Jaccard Metric"
      ]
    },
    {
      "cell_type": "code",
      "metadata": {
        "id": "_TdF0J0qc6Z1",
        "colab": {
          "base_uri": "https://localhost:8080/",
          "height": 688
        },
        "outputId": "4f4f1fd8-9d38-443c-ed0c-119fb606d54e"
      },
      "source": [
        "cm_j=confusion_matrix(y_test, y_pred_j)\n",
        "print('\\n CLASSIFICATION REPORT OF JACCARD METRIC:\\n\\n',classification_report(y_test, y_pred_j))\n",
        "cm_j = pd.DataFrame(data = cm_j, columns = ['Predicted:0', 'Predicted:1'], index =['Actual:0', 'Actual:1'])\n",
        "KNN_j_r=recall_score(y_test, y_pred_j)\n",
        "KNN_j_p=precision_score(y_test, y_pred_j)\n",
        "KNN_j_f1=f1_score(y_test, y_pred_j)\n",
        "print('\\n RECALL SCORE OF JACCARD METRIC : ', recall_score(y_test, y_pred_j))\n",
        "print('\\n PRECISION SCORE OF JACCARD METRIC : ', precision_score(y_test, y_pred_j))\n",
        "print('\\n F1 SCORE OF JACCARD METRIC : ', f1_score(y_test, y_pred_j))\n",
        "print('\\n')\n",
        "plt.figure(figsize = (5, 5))\n",
        "sns.heatmap(cm_j, annot = True, fmt ='d', cmap = \"Greens\")\n",
        "plt.show()\n"
      ],
      "execution_count": null,
      "outputs": [
        {
          "output_type": "stream",
          "name": "stdout",
          "text": [
            "\n",
            " CLASSIFICATION REPORT OF JACCARD METRIC:\n",
            "\n",
            "               precision    recall  f1-score   support\n",
            "\n",
            "           0       1.00      0.63      0.78        60\n",
            "           1       0.00      0.00      0.00         0\n",
            "\n",
            "    accuracy                           0.63        60\n",
            "   macro avg       0.50      0.32      0.39        60\n",
            "weighted avg       1.00      0.63      0.78        60\n",
            "\n",
            "\n",
            " RECALL SCORE OF JACCARD METRIC :  0.0\n",
            "\n",
            " PRECISION SCORE OF JACCARD METRIC :  0.0\n",
            "\n",
            " F1 SCORE OF JACCARD METRIC :  0.0\n",
            "\n",
            "\n"
          ]
        },
        {
          "output_type": "display_data",
          "data": {
            "image/png": "[encoded data removed]",
            "text/plain": [
              "<Figure size 360x360 with 2 Axes>"
            ]
          },
          "metadata": {
            "needs_background": "light"
          }
        }
      ]
    },
    {
      "cell_type": "markdown",
      "metadata": {
        "id": "0wQIUvXpfqOi"
      },
      "source": [
        "Hamming Metric"
      ]
    },
    {
      "cell_type": "code",
      "metadata": {
        "id": "R02fkxv7fsLe",
        "colab": {
          "base_uri": "https://localhost:8080/",
          "height": 688
        },
        "outputId": "e5b118a9-f771-4c98-e60c-18e92f417adf"
      },
      "source": [
        "cm_h=confusion_matrix(y_test, y_pred_h)\n",
        "print('\\n CLASSIFICATION REPORT OF HAMMING METRIC:\\n\\n',classification_report(y_test, y_pred_h))\n",
        "cm_h = pd.DataFrame(data = cm_h, columns = ['Predicted:0', 'Predicted:1'], index =['Actual:0', 'Actual:1'])\n",
        "KNN_h_r=recall_score(y_test, y_pred_h)\n",
        "KNN_h_p=precision_score(y_test, y_pred_h)\n",
        "KNN_h_f1=f1_score(y_test, y_pred_h)\n",
        "print('\\n RECALL SCORE OF HAMMING METRIC : ', recall_score(y_test, y_pred_h))\n",
        "print('\\n PRECISION SCORE OF HAMMING METRIC : ', precision_score(y_test, y_pred_h))\n",
        "print('\\n F1 SCORE OF HAMMING METRIC : ', f1_score(y_test, y_pred_h))\n",
        "print('\\n')\n",
        "plt.figure(figsize = (5, 5))\n",
        "sns.heatmap(cm_h, annot = True, fmt ='d', cmap = \"Greens\")\n",
        "plt.show()\n"
      ],
      "execution_count": null,
      "outputs": [
        {
          "output_type": "stream",
          "name": "stdout",
          "text": [
            "\n",
            " CLASSIFICATION REPORT OF HAMMING METRIC:\n",
            "\n",
            "               precision    recall  f1-score   support\n",
            "\n",
            "           0       1.00      0.57      0.72        60\n",
            "           1       0.00      0.00      0.00         0\n",
            "\n",
            "    accuracy                           0.57        60\n",
            "   macro avg       0.50      0.28      0.36        60\n",
            "weighted avg       1.00      0.57      0.72        60\n",
            "\n",
            "\n",
            " RECALL SCORE OF HAMMING METRIC :  0.0\n",
            "\n",
            " PRECISION SCORE OF HAMMING METRIC :  0.0\n",
            "\n",
            " F1 SCORE OF HAMMING METRIC :  0.0\n",
            "\n",
            "\n"
          ]
        },
        {
          "output_type": "display_data",
          "data": {
            "image/png": "[encoded data removed]",
            "text/plain": [
              "<Figure size 360x360 with 2 Axes>"
            ]
          },
          "metadata": {
            "needs_background": "light"
          }
        }
      ]
    },
    {
      "cell_type": "markdown",
      "metadata": {
        "id": "59lq5da2gFmk"
      },
      "source": [
        "Cosine Metric"
      ]
    },
    {
      "cell_type": "code",
      "metadata": {
        "id": "YslirRUqgIY8",
        "colab": {
          "base_uri": "https://localhost:8080/",
          "height": 688
        },
        "outputId": "2daa3fb0-d585-4546-d209-742966e312b0"
      },
      "source": [
        "cm_c=confusion_matrix(y_test, y_pred_c)\n",
        "print('\\n CLASSIFICATION REPORT OF COSINE METRIC:\\n\\n',classification_report(y_test, y_pred_c))\n",
        "cm_c = pd.DataFrame(data = cm_h, columns = ['Predicted:0', 'Predicted:1'], index =['Actual:0', 'Actual:1'])\n",
        "KNN_c_r=recall_score(y_test, y_pred_c)\n",
        "KNN_c_p=precision_score(y_test, y_pred_c)\n",
        "KNN_c_f1=f1_score(y_test, y_pred_c)\n",
        "print('\\n RECALL SCORE OF COSINE METRIC : ', recall_score(y_test, y_pred_c))\n",
        "print('\\n PRECISION SCORE OF COSINE METRIC : ', precision_score(y_test, y_pred_c))\n",
        "print('\\n F1 SCORE OF COSINE METRIC : ', f1_score(y_test, y_pred_c))\n",
        "print('\\n')\n",
        "plt.figure(figsize = (5, 5))\n",
        "sns.heatmap(cm_c, annot = True, fmt ='d', cmap = \"Greens\")\n",
        "plt.show()\n"
      ],
      "execution_count": null,
      "outputs": [
        {
          "output_type": "stream",
          "name": "stdout",
          "text": [
            "\n",
            " CLASSIFICATION REPORT OF COSINE METRIC:\n",
            "\n",
            "               precision    recall  f1-score   support\n",
            "\n",
            "           0       1.00      0.42      0.59        60\n",
            "           1       0.00      0.00      0.00         0\n",
            "\n",
            "    accuracy                           0.42        60\n",
            "   macro avg       0.50      0.21      0.29        60\n",
            "weighted avg       1.00      0.42      0.59        60\n",
            "\n",
            "\n",
            " RECALL SCORE OF COSINE METRIC :  0.0\n",
            "\n",
            " PRECISION SCORE OF COSINE METRIC :  0.0\n",
            "\n",
            " F1 SCORE OF COSINE METRIC :  0.0\n",
            "\n",
            "\n"
          ]
        },
        {
          "output_type": "display_data",
          "data": {
            "image/png": "[encoded data removed]",
            "text/plain": [
              "<Figure size 360x360 with 2 Axes>"
            ]
          },
          "metadata": {
            "needs_background": "light"
          }
        }
      ]
    },
    {
      "cell_type": "markdown",
      "metadata": {
        "id": "se74hGqGTPwx"
      },
      "source": [
        "**TESTING**"
      ]
    },
    {
      "cell_type": "code",
      "metadata": {
        "id": "rQgYjHBSRsYn"
      },
      "source": [
        "# # Predicting a new result - target 0\n",
        "# print(\"MANHATTAN:\",KNN_ma.predict(st_x.transform([[68,\t1,\t0,\t144,\t193,\t1,\t1,\t141,\t0,\t3.4,\t1,\t2,\t3\t]])))\n",
        "# print(\"MINKOWSKI:\",KNN_mi.predict(st_x.transform([[68,\t1,\t0,\t144,\t193,\t1,\t1,\t141,\t0,\t3.4,\t1,\t2,\t3\t]])))\n",
        "# print(\"EUCLIDEAN:\",KNN_e.predict(st_x.transform([[68,\t1,\t0,\t144,\t193,\t1,\t1,\t141,\t0,\t3.4,\t1,\t2,\t3\t]])))\n",
        "# print(\"COSINE :\",KNN_c.predict(st_x.transform([[68,\t1,\t0,\t144,\t193,\t1,\t1,\t141,\t0,\t3.4,\t1,\t2,\t3\t]])))\n",
        "# print(\"HAMMING:\",KNN_h.predict(st_x.transform([[68,\t1,\t0,\t144,\t193,\t1,\t1,\t141,\t0,\t3.4,\t1,\t2,\t3\t]])))\n",
        "# print(\"JACCARD:\",KNN_j.predict(st_x.transform([[68,\t1,\t0,\t144,\t193,\t1,\t1,\t141,\t0,\t3.4,\t1,\t2,\t3\t]])))"
      ],
      "execution_count": null,
      "outputs": []
    },
    {
      "cell_type": "code",
      "metadata": {
        "id": "i1_7HpFspG9D"
      },
      "source": [
        "# # Predicting a new result - target 1\n",
        "# print(\"MANHATTAN:\",KNN_ma.predict(st_x.transform([[63,\t1,\t3,\t145,\t233,\t1,\t0,\t150,\t0,\t2.3,\t0,\t0,\t1\t]])))\n",
        "# print(\"MINKOWSKI:\",KNN_mi.predict(st_x.transform([[63,\t1,\t3,\t145,\t233,\t1,\t0,\t150,\t0,\t2.3,\t0,\t0,\t1\t]])))\n",
        "# print(\"EUCLIDEAN:\",KNN_e.predict(st_x.transform([[63,\t1,\t3,\t145,\t233,\t1,\t0,\t150,\t0,\t2.3,\t0,\t0,\t1\t]])))\n",
        "# print(\"HAMMING:\",KNN_h.predict(st_x.transform([[63,\t1,\t3,\t145,\t233,\t1,\t0,\t150,\t0,\t2.3,\t0,\t0,\t1\t]])))\n",
        "# print(\"COSINE :\",KNN_c.predict(st_x.transform([[63,\t1,\t3,\t145,\t233,\t1,\t0,\t150,\t0,\t2.3,\t0,\t0,\t1\t]])))\n",
        "# print(\"JACCARD:\",KNN_j.predict(st_x.transform([[63,\t1,\t3,\t145,\t233,\t1,\t0,\t150,\t0,\t2.3,\t0,\t0,\t1\t]])))"
      ],
      "execution_count": null,
      "outputs": []
    },
    {
      "cell_type": "markdown",
      "metadata": {
        "id": "KfC0fQ23sp3c"
      },
      "source": [
        "**ACCURACY**"
      ]
    },
    {
      "cell_type": "code",
      "metadata": {
        "id": "HYgWS_CDsqn-",
        "colab": {
          "base_uri": "https://localhost:8080/",
          "height": 245
        },
        "outputId": "2c223c71-9b98-4c12-8ef4-5da9c81ee88b"
      },
      "source": [
        "KNN_ma_acc=accuracy_score(y_test, y_pred_ma)\n",
        "KNN_mi_acc=accuracy_score(y_test, y_pred_mi)\n",
        "KNN_e_acc=accuracy_score(y_test, y_pred_e)\n",
        "KNN_j_acc=accuracy_score(y_test, y_pred_j)\n",
        "KNN_h_acc=accuracy_score(y_test, y_pred_h)\n",
        "KNN_c_acc=accuracy_score(y_test, y_pred_c)\n"
      ],
      "execution_count": null,
      "outputs": [
        {
          "output_type": "error",
          "ename": "NameError",
          "evalue": "ignored",
          "traceback": [
            "\u001b[0;31m---------------------------------------------------------------------------\u001b[0m",
            "\u001b[0;31mNameError\u001b[0m                                 Traceback (most recent call last)",
            "\u001b[0;32m<ipython-input-31-175742a4b296>\u001b[0m in \u001b[0;36m<module>\u001b[0;34m()\u001b[0m\n\u001b[0;32m----> 1\u001b[0;31m \u001b[0mKNN_ma_acc\u001b[0m\u001b[0;34m=\u001b[0m\u001b[0mcross_val_score\u001b[0m\u001b[0;34m(\u001b[0m\u001b[0mKNN_ma\u001b[0m\u001b[0;34m,\u001b[0m \u001b[0mx\u001b[0m\u001b[0;34m,\u001b[0m \u001b[0my\u001b[0m\u001b[0;34m,\u001b[0m \u001b[0mscoring\u001b[0m\u001b[0;34m=\u001b[0m\u001b[0;34m\"accuracy\"\u001b[0m\u001b[0;34m,\u001b[0m \u001b[0mcv\u001b[0m \u001b[0;34m=\u001b[0m \u001b[0;36m5\u001b[0m\u001b[0;34m)\u001b[0m\u001b[0;34m.\u001b[0m\u001b[0mmean\u001b[0m\u001b[0;34m(\u001b[0m\u001b[0;34m)\u001b[0m\u001b[0;34m\u001b[0m\u001b[0;34m\u001b[0m\u001b[0m\n\u001b[0m\u001b[1;32m      2\u001b[0m \u001b[0mKNN_mi_acc\u001b[0m\u001b[0;34m=\u001b[0m\u001b[0mcross_val_score\u001b[0m\u001b[0;34m(\u001b[0m\u001b[0mKNN_mi\u001b[0m\u001b[0;34m,\u001b[0m \u001b[0mx\u001b[0m\u001b[0;34m,\u001b[0m \u001b[0my\u001b[0m\u001b[0;34m,\u001b[0m \u001b[0mscoring\u001b[0m\u001b[0;34m=\u001b[0m\u001b[0;34m\"accuracy\"\u001b[0m\u001b[0;34m,\u001b[0m \u001b[0mcv\u001b[0m \u001b[0;34m=\u001b[0m \u001b[0;36m5\u001b[0m\u001b[0;34m)\u001b[0m\u001b[0;34m.\u001b[0m\u001b[0mmean\u001b[0m\u001b[0;34m(\u001b[0m\u001b[0;34m)\u001b[0m\u001b[0;34m\u001b[0m\u001b[0;34m\u001b[0m\u001b[0m\n\u001b[1;32m      3\u001b[0m \u001b[0mKNN_e_acc\u001b[0m\u001b[0;34m=\u001b[0m\u001b[0mcross_val_score\u001b[0m\u001b[0;34m(\u001b[0m\u001b[0mKNN_e\u001b[0m\u001b[0;34m,\u001b[0m \u001b[0mx\u001b[0m\u001b[0;34m,\u001b[0m \u001b[0my\u001b[0m\u001b[0;34m,\u001b[0m \u001b[0mscoring\u001b[0m\u001b[0;34m=\u001b[0m\u001b[0;34m\"accuracy\"\u001b[0m\u001b[0;34m,\u001b[0m \u001b[0mcv\u001b[0m \u001b[0;34m=\u001b[0m \u001b[0;36m5\u001b[0m\u001b[0;34m)\u001b[0m\u001b[0;34m.\u001b[0m\u001b[0mmean\u001b[0m\u001b[0;34m(\u001b[0m\u001b[0;34m)\u001b[0m\u001b[0;34m\u001b[0m\u001b[0;34m\u001b[0m\u001b[0m\n\u001b[1;32m      4\u001b[0m \u001b[0mKNN_j_acc\u001b[0m\u001b[0;34m=\u001b[0m\u001b[0mcross_val_score\u001b[0m\u001b[0;34m(\u001b[0m\u001b[0mKNN_j\u001b[0m\u001b[0;34m,\u001b[0m \u001b[0mx\u001b[0m\u001b[0;34m,\u001b[0m \u001b[0my\u001b[0m\u001b[0;34m,\u001b[0m \u001b[0mscoring\u001b[0m\u001b[0;34m=\u001b[0m\u001b[0;34m\"accuracy\"\u001b[0m\u001b[0;34m,\u001b[0m \u001b[0mcv\u001b[0m \u001b[0;34m=\u001b[0m \u001b[0;36m5\u001b[0m\u001b[0;34m)\u001b[0m\u001b[0;34m.\u001b[0m\u001b[0mmean\u001b[0m\u001b[0;34m(\u001b[0m\u001b[0;34m)\u001b[0m\u001b[0;34m\u001b[0m\u001b[0;34m\u001b[0m\u001b[0m\n\u001b[1;32m      5\u001b[0m \u001b[0mKNN_h_acc\u001b[0m\u001b[0;34m=\u001b[0m\u001b[0mcross_val_score\u001b[0m\u001b[0;34m(\u001b[0m\u001b[0mKNN_h\u001b[0m\u001b[0;34m,\u001b[0m \u001b[0mx\u001b[0m\u001b[0;34m,\u001b[0m \u001b[0my\u001b[0m\u001b[0;34m,\u001b[0m \u001b[0mscoring\u001b[0m\u001b[0;34m=\u001b[0m\u001b[0;34m\"accuracy\"\u001b[0m\u001b[0;34m,\u001b[0m \u001b[0mcv\u001b[0m \u001b[0;34m=\u001b[0m \u001b[0;36m5\u001b[0m\u001b[0;34m)\u001b[0m\u001b[0;34m.\u001b[0m\u001b[0mmean\u001b[0m\u001b[0;34m(\u001b[0m\u001b[0;34m)\u001b[0m\u001b[0;34m\u001b[0m\u001b[0;34m\u001b[0m\u001b[0m\n",
            "\u001b[0;31mNameError\u001b[0m: name 'cross_val_score' is not defined"
          ]
        }
      ]
    },
    {
      "cell_type": "code",
      "metadata": {
        "id": "efoG4qZGqP-s"
      },
      "source": [
        "# Specify the Column Names while initializing the Table \n",
        "myTable = PrettyTable([\"METRICS\", \"ACCURACY\",\"PRECISION SCORE\",\"RECALL SCORE\",\"F1 SCORE\"]) \n",
        "  \n",
        "# Add rows \n",
        "myTable.add_row([\"Manhattan\",KNN_ma_acc,KNN_ma_p,KNN_ma_r,KNN_ma_f1]) \n",
        "myTable.add_row([\"Minkowski\",KNN_mi_acc,KNN_mi_p,KNN_mi_r,KNN_mi_f1]) \n",
        "myTable.add_row([\"Euclidean\",KNN_e_acc,KNN_e_p,KNN_e_r,KNN_e_f1]) \n",
        "myTable.add_row([\"Jaccard\",KNN_j_acc,KNN_j_p,KNN_j_r,KNN_j_f1]) \n",
        "myTable.add_row([\"Hamming\",KNN_h_acc,KNN_h_p,KNN_h_r,KNN_h_f1]) \n",
        "myTable.add_row([\"Cosine\",KNN_c_acc,KNN_c_p,KNN_c_r,KNN_c_f1]) \n",
        "  \n",
        "print(myTable)\n"
      ],
      "execution_count": null,
      "outputs": []
    },
    {
      "cell_type": "markdown",
      "metadata": {
        "id": "V7yJKlnlpwmj"
      },
      "source": [
        "# **SUPPORT VECTOR MACHINE**\n"
      ]
    },
    {
      "cell_type": "markdown",
      "metadata": {
        "id": "8ZA-FBv8yfaX"
      },
      "source": [
        "**TRAINING**"
      ]
    },
    {
      "cell_type": "markdown",
      "metadata": {
        "id": "BBnMpQhOq-Fv"
      },
      "source": [
        "Linear kernel"
      ]
    },
    {
      "cell_type": "code",
      "metadata": {
        "id": "2Mskf9-6q9CL"
      },
      "source": [
        "SVM = SVC(kernel='linear')\n",
        "SVM.fit(x_train,y_train)\n",
        "SVM_l_pred = SVM.predict(x_test)\n",
        "SVM_l_Score = accuracy_score(y_test,SVM_l_pred)\n",
        "SVM_l_precision_score = precision_score(y_test,SVM_l_pred)\n",
        "SVM_l_recall_score = recall_score(y_test,SVM_l_pred)\n",
        "SVM_l_f1_Score = f1_score(y_test,SVM_l_pred)\n",
        "print('Prediction:',SVM_l_pred)\n"
      ],
      "execution_count": null,
      "outputs": []
    },
    {
      "cell_type": "markdown",
      "metadata": {
        "id": "uEaundooHB2I"
      },
      "source": [
        "Gaussian radial basis function Kernel"
      ]
    },
    {
      "cell_type": "code",
      "metadata": {
        "id": "PiSm9DeHrlmc"
      },
      "source": [
        "SVM = SVC(kernel='rbf')\n",
        "SVM.fit(x_train,y_train)\n",
        "SVM_g_pred = SVM.predict(x_test)\n",
        "SVM_g_Score = accuracy_score(y_test,SVM_g_pred)\n",
        "SVM_g_precision_score = precision_score(y_test,SVM_g_pred)\n",
        "SVM_g_recall_score = recall_score(y_test,SVM_g_pred)\n",
        "SVM_g_f1_Score = f1_score(y_test,SVM_g_pred)\n",
        "print('Prediction:',SVM_g_pred)\n"
      ],
      "execution_count": null,
      "outputs": []
    },
    {
      "cell_type": "markdown",
      "metadata": {
        "id": "CVuNl2hUJEVO"
      },
      "source": [
        "Polynomial Kernel"
      ]
    },
    {
      "cell_type": "code",
      "metadata": {
        "id": "O0yJJWo51ppB"
      },
      "source": [
        "SVM = SVC(kernel='poly', degree=1)\n",
        "SVM.fit(x_train,y_train)\n",
        "SVM_p_pred = SVM.predict(x_test)\n",
        "SVM_p_Score = accuracy_score(y_test,SVM_p_pred)\n",
        "SVM_p_precision_score = precision_score(y_test,SVM_p_pred)\n",
        "SVM_p_recall_score = recall_score(y_test,SVM_p_pred)\n",
        "SVM_p_f1_Score = f1_score(y_test,SVM_p_pred)\n",
        "print('Prediction:',SVM_p_pred)\n"
      ],
      "execution_count": null,
      "outputs": []
    },
    {
      "cell_type": "markdown",
      "metadata": {
        "id": "n9_JkJ7L2MFx"
      },
      "source": [
        "Sigmoid Kernel"
      ]
    },
    {
      "cell_type": "code",
      "metadata": {
        "id": "Nh0vLZdv2wS9"
      },
      "source": [
        "SVM = SVC(kernel='sigmoid')\n",
        "SVM.fit(x_train,y_train)\n",
        "SVM_s_pred = SVM.predict(x_test)\n",
        "SVM_s_Score = accuracy_score(y_test,SVM_s_pred)\n",
        "SVM_s_precision_score = precision_score(y_test,SVM_s_pred)\n",
        "SVM_s_recall_score = recall_score(y_test,SVM_s_pred)\n",
        "SVM_s_f1_Score = f1_score(y_test,SVM_s_pred)\n",
        "print('Prediction:',SVM_s_pred)\n"
      ],
      "execution_count": null,
      "outputs": []
    },
    {
      "cell_type": "markdown",
      "metadata": {
        "id": "pzqASbA5soY-"
      },
      "source": [
        "**CONFUSION MATRIX**"
      ]
    },
    {
      "cell_type": "markdown",
      "metadata": {
        "id": "YxLsm1LHqiyy"
      },
      "source": [
        "Linear kernel"
      ]
    },
    {
      "cell_type": "code",
      "metadata": {
        "id": "a16UCtCPqlRS"
      },
      "source": [
        "cm_l= confusion_matrix(y_test, SVM_l_pred)\n",
        "print('\\n CLASSIFICATION REPORT\\n\\n', classification_report(y_test, SVM_l_pred))\n",
        "cm_l= pd.DataFrame(data = cm_l, columns = ['Predicted:0', 'Predicted:1'], index =['Actual:0', 'Actual:1'])\n",
        "SVM_l_r=recall_score(y_test, SVM_l_pred)\n",
        "SVM_l_p=precision_score(y_test, SVM_l_pred)\n",
        "SVM_l_f1=f1_score(y_test, SVM_l_pred)\n",
        "print('\\n RECALL SCORE  : ', recall_score(y_test, SVM_l_pred))\n",
        "print('\\n PRECISION SCORE : ', precision_score(y_test, SVM_l_pred))\n",
        "print('\\n F1 SCORE  : ', f1_score(y_test, SVM_l_pred))\n",
        "print('\\n')\n",
        "plt.figure(figsize = (5, 5))\n",
        "sns.heatmap(cm_l, annot = True, cmap = \"Greens\")\n",
        "plt.show()\n",
        "#print('Confusion matrix (before tuning):\\n', cm)\n"
      ],
      "execution_count": null,
      "outputs": []
    },
    {
      "cell_type": "markdown",
      "metadata": {
        "id": "2beL5xyhIWjP"
      },
      "source": [
        "Gaussian radial basis function Kernel"
      ]
    },
    {
      "cell_type": "code",
      "metadata": {
        "id": "Zz8ZA8VSsiPa"
      },
      "source": [
        "cm_g= confusion_matrix(y_test, SVM_g_pred)\n",
        "print('\\n CLASSIFICATION REPORT\\n\\n', classification_report(y_test, SVM_g_pred))\n",
        "cm_g= pd.DataFrame(data = cm_g, columns = ['Predicted:0', 'Predicted:1'], index =['Actual:0', 'Actual:1'])\n",
        "SVM_g_r=recall_score(y_test, SVM_g_pred)\n",
        "SVM_g_p=precision_score(y_test, SVM_g_pred)\n",
        "SVM_g_f1=f1_score(y_test, SVM_g_pred)\n",
        "print('\\n RECALL SCORE  : ', recall_score(y_test, SVM_g_pred))\n",
        "print('\\n PRECISION SCORE : ', precision_score(y_test, SVM_g_pred))\n",
        "print('\\n F1 SCORE  : ', f1_score(y_test, SVM_g_pred))\n",
        "print('\\n')\n",
        "plt.figure(figsize = (5, 5))\n",
        "sns.heatmap(cm_g, annot = True, cmap = \"Greens\")\n",
        "plt.show()\n",
        "#print('Confusion matrix (before tuning):\\n', cm)\n"
      ],
      "execution_count": null,
      "outputs": []
    },
    {
      "cell_type": "markdown",
      "metadata": {
        "id": "cHNWu0G7JF1O"
      },
      "source": [
        "Polynomial Kernel"
      ]
    },
    {
      "cell_type": "code",
      "metadata": {
        "id": "jcc8p8fI29Si"
      },
      "source": [
        "cm_p= confusion_matrix(y_test, SVM_p_pred)\n",
        "print('\\n CLASSIFICATION REPORT\\n\\n', classification_report(y_test, SVM_p_pred))\n",
        "cm_p= pd.DataFrame(data = cm_p, columns = ['Predicted:0', 'Predicted:1'], index =['Actual:0', 'Actual:1'])\n",
        "SVM_p_r=recall_score(y_test, SVM_p_pred)\n",
        "SVM_p_p=precision_score(y_test, SVM_p_pred)\n",
        "SVM_p_f1=f1_score(y_test, SVM_p_pred)\n",
        "print('\\n RECALL SCORE  : ', recall_score(y_test, SVM_p_pred))\n",
        "print('\\n PRECISION SCORE : ', precision_score(y_test, SVM_p_pred))\n",
        "print('\\n F1 SCORE  : ', f1_score(y_test, SVM_p_pred))\n",
        "print('\\n')\n",
        "plt.figure(figsize = (5, 5))\n",
        "sns.heatmap(cm_p, annot = True, cmap = \"Greens\")\n",
        "plt.show()\n",
        "#print('Confusion matrix (before tuning):\\n', cm)\n"
      ],
      "execution_count": null,
      "outputs": []
    },
    {
      "cell_type": "markdown",
      "metadata": {
        "id": "5XcmRahO3teW"
      },
      "source": [
        "Sigmoid Kernel"
      ]
    },
    {
      "cell_type": "code",
      "metadata": {
        "id": "MK89PFo63wo1"
      },
      "source": [
        "cm_s= confusion_matrix(y_test, SVM_s_pred)\n",
        "print('\\n CLASSIFICATION REPORT\\n\\n', classification_report(y_test, SVM_s_pred))\n",
        "cm_s= pd.DataFrame(data = cm_s, columns = ['Predicted:0', 'Predicted:1'], index =['Actual:0', 'Actual:1'])\n",
        "SVM_s_r=recall_score(y_test, SVM_s_pred)\n",
        "SVM_s_p=precision_score(y_test, SVM_s_pred)\n",
        "SVM_s_f1=f1_score(y_test, SVM_s_pred)\n",
        "print('\\n RECALL SCORE  : ', recall_score(y_test, SVM_s_pred))\n",
        "print('\\n PRECISION SCORE : ', precision_score(y_test, SVM_s_pred))\n",
        "print('\\n F1 SCORE  : ', f1_score(y_test, SVM_s_pred))\n",
        "print('\\n')\n",
        "plt.figure(figsize = (5, 5))\n",
        "sns.heatmap(cm_s, annot = True, cmap = \"Greens\")\n",
        "plt.show()\n"
      ],
      "execution_count": null,
      "outputs": []
    },
    {
      "cell_type": "markdown",
      "metadata": {
        "id": "7-9DrVOnyyzT"
      },
      "source": [
        "**TESTING**"
      ]
    },
    {
      "cell_type": "code",
      "metadata": {
        "id": "zuX_GJlv3Edp"
      },
      "source": [
        "# # Predicting a new result - target 0\n",
        "# print(SVM.predict(st_x.transform([[68,\t1,\t0,\t144,\t193,\t1,\t1,\t141,\t0,\t3.4,\t1,\t2,\t3\t]])))\n"
      ],
      "execution_count": null,
      "outputs": []
    },
    {
      "cell_type": "code",
      "metadata": {
        "id": "BtwXVYjN3i02"
      },
      "source": [
        "# # Predicting a new result - target 1\n",
        "# print(SVM.predict(st_x.transform([[63,\t1,\t3,\t145,\t233,\t1,\t0,\t150,\t0,\t2.3,\t0,\t0,\t1\t]])))\n"
      ],
      "execution_count": null,
      "outputs": []
    },
    {
      "cell_type": "code",
      "metadata": {
        "id": "ru4xE053_clX"
      },
      "source": [
        "# import joblib\n",
        "# model = joblib.load('model.pkl')\n",
        "# model.predict(previously_loaded_data)\n",
        "# clf = load('filename.joblib') "
      ],
      "execution_count": null,
      "outputs": []
    },
    {
      "cell_type": "markdown",
      "metadata": {
        "id": "YnDDvL8i3ALc"
      },
      "source": [
        "**ACCURACY**"
      ]
    },
    {
      "cell_type": "code",
      "metadata": {
        "id": "XOGhV2FP8vtN"
      },
      "source": [
        "# print(\"Linear:\",SVM_l_Score)\n",
        "# print(\"RBF:\",SVM_g_Score)\n",
        "# print(\"POLYNOMIAL:\",SVM_p_Score)\n",
        "# print(\"SIGMOID:\",SVM_s_Score)\n"
      ],
      "execution_count": null,
      "outputs": []
    },
    {
      "cell_type": "code",
      "metadata": {
        "id": "gC7lqfFqN3aW"
      },
      "source": [
        "# Specify the Column Names while initializing the Table \n",
        "myTable = PrettyTable([\"KERNELS\", \"ACCURACY\",\"PRECISION SCORE\",\"RECALL SCORE\",\"F1 SCORE\"]) \n",
        "  \n",
        "# Add rows \n",
        "myTable.add_row([\"Linear\",SVM_l_Score,SVM_l_p,SVM_l_r,SVM_l_f1]) \n",
        "myTable.add_row([\"RBF\",SVM_g_Score,SVM_g_p,SVM_g_r,SVM_g_f1]) \n",
        "myTable.add_row([\"Polynomial\",SVM_p_Score,SVM_p_p,SVM_p_r,SVM_p_f1]) \n",
        "myTable.add_row([\"Sigmoid\",SVM_s_Score,SVM_s_p,SVM_s_r,SVM_s_f1])  \n",
        "print(myTable)\n"
      ],
      "execution_count": null,
      "outputs": []
    },
    {
      "cell_type": "markdown",
      "metadata": {
        "id": "xTD02_v8OgCG"
      },
      "source": [
        "# **DECISION TREE ALGORITHM**"
      ]
    },
    {
      "cell_type": "code",
      "metadata": {
        "id": "yJUg91yH3vfZ"
      },
      "source": [
        "# To find the accuracy result for DTA\n",
        "from sklearn.tree import DecisionTreeClassifier\n",
        "\n",
        "DT = DecisionTreeClassifier()\n",
        "DT.fit(x_train, y_train)\n",
        "DT_Pred = DT.predict(x_test)\n",
        "DT_accuracy = accuracy_score(y_test, DT_Pred)\n",
        "DT_precision = precision_score(y_test, DT_Pred)\n",
        "DT_recall_score = recall_score(y_test,DT_Pred)\n",
        "DT_f1_score = f1_score(y_test,DT_Pred)\n",
        "print('\\n CLASSIFICATION REPORT\\n', classification_report(y_test, DT_Pred))\n",
        "print('\\n CONFUSION MATRIX\\n')\n",
        "cm= confusion_matrix(y_test,DT_Pred)\n",
        "cm = pd.DataFrame(data = cm, columns = ['Predicted:0', 'Predicted:1'], index =['Actual:0', 'Actual:1'])\n",
        "plt.figure(figsize = (5, 5))\n",
        "sns.heatmap(cm, annot = True, fmt = 'd', cmap = \"Greens\")\n",
        "plt.show()\n",
        "print('\\n ACCURACY SCORE  : ', accuracy_score(y_test, DT_Pred))\n",
        "print('\\n PRECISION SCORE : ', precision_score(y_test, DT_Pred))\n",
        "print('\\n RECALL SCORE : ', DT_recall_score)\n",
        "print('\\n F1 SCORE : ', DT_f1_score)\n",
        "\n"
      ],
      "execution_count": null,
      "outputs": []
    },
    {
      "cell_type": "code",
      "metadata": {
        "id": "MeOAcCOX331o"
      },
      "source": [
        "#Tree Prediction\n",
        "dot_data = StringIO()\n",
        "export_graphviz(DT, out_file=dot_data,filled=True, rounded=True,special_characters=True,class_names=['0','1'])\n",
        "graph = pydotplus.graph_from_dot_data(dot_data.getvalue())  \n",
        "Image(graph.create_png())\n"
      ],
      "execution_count": null,
      "outputs": []
    },
    {
      "cell_type": "code",
      "metadata": {
        "id": "Kj750vij38iA"
      },
      "source": [
        "# To find the accuracy result for DTA using ENTROPY algorithm used for calculating information gain...\n",
        "from sklearn.tree import DecisionTreeClassifier\n",
        "\n",
        "E_DT = DecisionTreeClassifier(criterion='entropy',splitter ='best',max_depth=None,random_state=0)\n",
        "E_DT = E_DT.fit(x_train, y_train)\n",
        "E_DT_Pred = E_DT.predict(x_test)\n",
        "E_DT_accuracy = accuracy_score(y_test, E_DT_Pred)\n",
        "E_DT_precision = precision_score(y_test, E_DT_Pred)\n",
        "E_DT_recall_score = recall_score(y_test,E_DT_Pred)\n",
        "E_DT_f1_score = f1_score(y_test,E_DT_Pred)\n",
        "print('\\n CLASSIFICATION REPORT :', classification_report(y_test, E_DT_Pred))\n",
        "print('\\n CONFUSION MATRIX\\n')\n",
        "cm= confusion_matrix(y_test,E_DT_Pred)\n",
        "cm = pd.DataFrame(data = cm, columns = ['Predicted:0', 'Predicted:1'], index =['Actual:0', 'Actual:1'])\n",
        "plt.figure(figsize = (5, 5))\n",
        "sns.heatmap(cm, annot = True, fmt = 'd', cmap = \"Greens\")\n",
        "plt.show()\n",
        "print('\\n ACCURACY SCORE  : ', accuracy_score(y_test, E_DT_Pred))\n",
        "print('\\n PRECISION SCORE : ', precision_score(y_test, E_DT_Pred))\n",
        "print('\\n RECALL SCORE : ',recall_score(y_test,E_DT_Pred))\n",
        "print('\\n F1 SCORE :',f1_score(y_test,E_DT_Pred))"
      ],
      "execution_count": null,
      "outputs": []
    },
    {
      "cell_type": "code",
      "metadata": {
        "id": "Szjy5Rpv4AjC"
      },
      "source": [
        "# To find the accuracy result for DTA using GINI algorithm used for calculating Gini index...\n",
        "from sklearn.tree import DecisionTreeClassifier\n",
        "\n",
        "GI_DT = DecisionTreeClassifier(criterion='gini',splitter ='best',max_depth=None,random_state=0)\n",
        "GI_DT.fit(x_train, y_train)\n",
        "GI_DT_Pred = GI_DT.predict(x_test)\n",
        "GI_DT_accuracy = accuracy_score(y_test, GI_DT_Pred)\n",
        "GI_DT_precision = precision_score(y_test, GI_DT_Pred)\n",
        "GI_DT_recall_score = recall_score(y_test,GI_DT_Pred)\n",
        "GI_DT_f1_score = f1_score(y_test,GI_DT_Pred)\n",
        "print('\\n CLASSIFICATION REPORT :', classification_report(y_test,GI_DT_Pred))\n",
        "print('\\n CONFUSION MATRIX\\n')\n",
        "cm= confusion_matrix(y_test,GI_DT_Pred)\n",
        "cm = pd.DataFrame(data = cm, columns = ['Predicted:0', 'Predicted:1'], index =['Actual:0', 'Actual:1'])\n",
        "plt.figure(figsize = (5, 5))\n",
        "sns.heatmap(cm, annot = True, fmt = 'd', cmap = \"Greens\")\n",
        "plt.show()\n",
        "print('\\n ACCURACY SCORE  : ', accuracy_score(y_test,GI_DT_Pred))\n",
        "print('\\n PRECISION SCORE : ', precision_score(y_test,GI_DT_Pred))\n",
        "print('\\n RECALL SCORE : ',recall_score(y_test,GI_DT_Pred))\n",
        "print('\\n F1 SCORE :',f1_score(y_test,GI_DT_Pred))"
      ],
      "execution_count": null,
      "outputs": []
    },
    {
      "cell_type": "markdown",
      "metadata": {
        "id": "jTYHSPsq4IqA"
      },
      "source": [
        "RESULT:"
      ]
    },
    {
      "cell_type": "code",
      "metadata": {
        "id": "dIvXP1Np3x-m"
      },
      "source": [
        "# Specify the Column Names while initializing the Table \n",
        "myTable = PrettyTable([\"CRITERIA\",\"Accuracy\",\"Precision\", \"Recall\", \"F1\"]) \n",
        "  \n",
        "# Add rows \n",
        "myTable.add_row(['Information Gain',E_DT_accuracy,E_DT_precision ,E_DT_recall_score ,E_DT_f1_score]) \n",
        "myTable.add_row(['Gini Index',GI_DT_accuracy, GI_DT_precision ,GI_DT_recall_score ,GI_DT_f1_score])  \n",
        "print(myTable)"
      ],
      "execution_count": null,
      "outputs": []
    },
    {
      "cell_type": "markdown",
      "metadata": {
        "id": "j-d4XTiJ4NMD"
      },
      "source": [
        "PREDECTION:"
      ]
    },
    {
      "cell_type": "code",
      "metadata": {
        "id": "Jw2FgcoB4Ue4"
      },
      "source": [
        "print(\"The prediction value for Entropy Method : \")\n",
        "print(E_DT_Pred)"
      ],
      "execution_count": null,
      "outputs": []
    },
    {
      "cell_type": "code",
      "metadata": {
        "id": "yeo51ZS24X_Q"
      },
      "source": [
        "print(\"The prediction value for Gini Index Method : \")\n",
        "print(GI_DT_Pred)"
      ],
      "execution_count": null,
      "outputs": []
    },
    {
      "cell_type": "markdown",
      "metadata": {
        "id": "I0vuPex44bns"
      },
      "source": [
        "TESTING:"
      ]
    },
    {
      "cell_type": "code",
      "metadata": {
        "id": "C3xVoa3p4fuI"
      },
      "source": [
        "# # Predicting a new result - target 0\n",
        "# print(DT.predict(st_x.transform([[68,\t1,\t0,\t144,\t193,\t1,\t1,\t141,\t0,\t3.4,\t1,\t2,\t3\t]])))\n",
        "# print(E_DT.predict(st_x.transform([[68,\t1,\t0,\t144,\t193,\t1,\t1,\t141,\t0,\t3.4,\t1,\t2,\t3\t]])))\n",
        "# print(GI_DT.predict(st_x.transform([[68,\t1,\t0,\t144,\t193,\t1,\t1,\t141,\t0,\t3.4,\t1,\t2,\t3\t]])))"
      ],
      "execution_count": null,
      "outputs": []
    },
    {
      "cell_type": "code",
      "metadata": {
        "id": "AqXitmjF4iNV"
      },
      "source": [
        "# # Predicting a new result - target 1\n",
        "# print(DT.predict(st_x.transform([[63,\t1,\t3,\t145,\t233,\t1,\t0,\t150,\t0,\t2.3,\t0,\t0,\t1\t]])))\n",
        "# print(E_DT.predict(st_x.transform([[63,\t1,\t3,\t145,\t233,\t1,\t0,\t150,\t0,\t2.3,\t0,\t0,\t1\t]])))\n",
        "# print(E_DT.predict(st_x.transform([[63,\t1,\t3,\t145,\t233,\t1,\t0,\t150,\t0,\t2.3,\t0,\t0,\t1\t]])))"
      ],
      "execution_count": null,
      "outputs": []
    },
    {
      "cell_type": "markdown",
      "metadata": {
        "id": "hxspQNsbO_bL"
      },
      "source": [
        "# **RANDOM FOREST ALGORITHM**\n"
      ]
    },
    {
      "cell_type": "code",
      "metadata": {
        "id": "u-21pjxnPBFm"
      },
      "source": [
        "# To find the accuracy for RFA\n",
        "from sklearn.ensemble import RandomForestClassifier\n",
        "    \n",
        "RDF = RandomForestClassifier()\n",
        "RDF.fit(x_train,y_train)\n",
        "RDF_pred = RDF.predict(x_test)\n",
        "RDF_accuracy = accuracy_score(y_test, RDF_pred)\n",
        "RDF_precision = precision_score(y_test, RDF_pred)\n",
        "RDF_recall_score = recall_score(y_test,RDF_pred)\n",
        "RDF_Score = f1_score(y_test,RDF_pred)\n",
        "print('\\n CLASSIFICATION REPORT\\n', classification_report(y_test, RDF_pred))\n",
        "print('\\n CONFUSION MATRIX\\n', confusion_matrix(y_test, RDF_pred))\n",
        "print('\\n ACCURACY SCORE  : ', accuracy_score(y_test, RDF_pred))\n",
        "print('\\n PRECISION SCORE : ', precision_score(y_test, RDF_pred))\n",
        "print('\\n RECALL SCORE : ',recall_score(y_test,RDF_pred))\n",
        "print('\\n F1 SCORE :',f1_score(y_test,RDF_pred))\n",
        "cm= confusion_matrix(y_test, RDF_pred)\n",
        "cm = pd.DataFrame(data = cm, columns = ['Predicted:0', 'Predicted:1'], index =['Actual:0', 'Actual:1'])\n",
        "plt.figure(figsize = (5, 5))\n",
        "sns.heatmap(cm, annot = True, fmt = 'd', cmap = \"Greens\")\n",
        "plt.show()\n"
      ],
      "execution_count": null,
      "outputs": []
    },
    {
      "cell_type": "code",
      "metadata": {
        "id": "390K_Rm_5fu_"
      },
      "source": [
        "#Tree Prediction\n",
        "from sklearn.ensemble import RandomForestClassifier\n",
        "from sklearn import tree\n",
        "model = RandomForestClassifier(n_estimators=100)\n",
        "model.fit(x_train,y_train)\n",
        "\n",
        "# Extract single tree\n",
        "estimator = model.estimators_[50]\n",
        "\n",
        "from sklearn.tree import export_graphviz\n",
        "dot_data = StringIO()\n",
        "export_graphviz(estimator, out_file=dot_data,filled=True, rounded=True,special_characters=True,class_names=['0','1'])\n",
        "graph = pydotplus.graph_from_dot_data(dot_data.getvalue())  \n",
        "Image(graph.create_png())\n"
      ],
      "execution_count": null,
      "outputs": []
    },
    {
      "cell_type": "code",
      "metadata": {
        "id": "FYCZ9neJ5wj6"
      },
      "source": [
        "#Splited based on the sub-tree graph\n",
        "from matplotlib.cm import rainbow\n",
        "\n",
        "rf_scores = []\n",
        "estimators = [10, 100, 200, 500, 1000]\n",
        "for i in estimators:\n",
        "    rf_classifier = RandomForestClassifier(n_estimators = i, random_state = 0)\n",
        "    rf_classifier.fit(x_train, y_train)\n",
        "    rf_scores.append(rf_classifier.score(x_test, y_test))\n",
        "colors = rainbow(np.linspace(0, 1, len(estimators)))\n",
        "plt.bar([i for i in range(len(estimators))], rf_scores, color = colors, width = 0.8)\n",
        "for i in range(len(estimators)):\n",
        "     plt.text(i,round(rf_scores[i],3),round(rf_scores[i],3))\n",
        "plt.xticks(ticks = [i for i in range(len(estimators))], labels = [str(estimator) for estimator in estimators])\n",
        "plt.xlabel('Number of estimators')\n",
        "plt.ylabel('Scores')\n",
        "plt.title('Random Forest Classifier scores for different number of estimators')\n"
      ],
      "execution_count": null,
      "outputs": []
    },
    {
      "cell_type": "code",
      "metadata": {
        "id": "EuwZ5RjO555E"
      },
      "source": [
        "# To find the accuracy result for DTA using ENTROPY algorithm used for calculating Information gain...\n",
        "from sklearn.ensemble import RandomForestClassifier\n",
        "    \n",
        "RDF_E = RandomForestClassifier(criterion='entropy',random_state=0)\n",
        "RDF_E.fit(x_train,y_train)\n",
        "RDF_pred_E = RDF_E.predict(x_test)\n",
        "RDF_accuracy_E = accuracy_score(y_test, RDF_pred_E)\n",
        "RDF_precision_E = precision_score(y_test, RDF_pred_E)\n",
        "RDF_recall_score_E = recall_score(y_test,RDF_pred_E)\n",
        "RDF_Score_E = f1_score(y_test,RDF_pred_E)\n",
        "print('\\n CLASSIFICATION REPORT\\n', classification_report(y_test, RDF_pred_E))\n",
        "print('\\n CONFUSION MATRIX : \\n')\n",
        "cm= confusion_matrix(y_test, RDF_pred_E)\n",
        "cm = pd.DataFrame(data = cm, columns = ['Predicted:0', 'Predicted:1'], index =['Actual:0', 'Actual:1'])\n",
        "plt.figure(figsize = (5, 5))\n",
        "sns.heatmap(cm, annot = True, fmt = 'd', cmap = \"Greens\")\n",
        "plt.show()\n",
        "print('\\n ACCURACY SCORE  : ', accuracy_score(y_test, RDF_pred_E))\n",
        "print('\\n PRECISION SCORE : ', precision_score(y_test, RDF_pred_E))\n",
        "print('\\n PRECISION SCORE : ', precision_score(y_test, RDF_pred_E))\n",
        "print('\\n RECALL SCORE : ',recall_score(y_test,RDF_pred_E))\n",
        "print('\\n F1 SCORE :',f1_score(y_test,RDF_pred_E))"
      ],
      "execution_count": null,
      "outputs": []
    },
    {
      "cell_type": "code",
      "metadata": {
        "id": "LSwOq8Td59ih"
      },
      "source": [
        "# To find the accuracy result for DTA using CART algorithm used for calculating Gini index...\n",
        "from sklearn.ensemble import RandomForestClassifier\n",
        "    \n",
        "RDF_GI = RandomForestClassifier(criterion='gini', random_state=0)\n",
        "RDF_GI.fit(x_train,y_train)\n",
        "RDF_pred_GI= RDF.predict(x_test)\n",
        "RDF_accuracy_GI = accuracy_score(y_test, RDF_pred_GI)\n",
        "RDF_precision_GI = precision_score(y_test, RDF_pred_GI)\n",
        "RDF_recall_score_GI = recall_score(y_test,RDF_pred_GI)\n",
        "RDF_Score_GI = f1_score(y_test,RDF_pred_GI)\n",
        "print('\\n CLASSIFICATION REPORT\\n', classification_report(y_test, RDF_pred_GI))\n",
        "print('\\n CONFUSION MATRIX : \\n')\n",
        "cm= confusion_matrix(y_test, RDF_pred_GI)\n",
        "cm = pd.DataFrame(data = cm, columns = ['Predicted:0', 'Predicted:1'], index =['Actual:0', 'Actual:1'])\n",
        "plt.figure(figsize = (5, 5))\n",
        "sns.heatmap(cm, annot = True, fmt = 'd', cmap = \"Greens\")\n",
        "plt.show()\n",
        "print('\\n ACCURACY SCORE  : ', accuracy_score(y_test, RDF_pred_GI))\n",
        "print('\\n PRECISION SCORE : ', precision_score(y_test, RDF_pred_GI))\n",
        "print('\\n PRECISION SCORE : ', precision_score(y_test, RDF_pred_GI))\n",
        "print('\\n RECALL SCORE : ',recall_score(y_test,RDF_pred_GI))\n",
        "print('\\n F1 SCORE :',f1_score(y_test,RDF_pred_GI))"
      ],
      "execution_count": null,
      "outputs": []
    },
    {
      "cell_type": "markdown",
      "metadata": {
        "id": "wlzjNC8Q7TaV"
      },
      "source": [
        "RESULT"
      ]
    },
    {
      "cell_type": "code",
      "metadata": {
        "id": "u9d3-4Nd6Dfe"
      },
      "source": [
        "# Specify the Column Names while initializing the Table \n",
        "myTable = PrettyTable([\"CRITERIA\",\"Accuracy\",\"Precision\", \"Recall\", \"F1\"]) \n",
        "  \n",
        "# Add rows \n",
        "myTable.add_row(['Information Gain',RDF_accuracy_E,RDF_precision_E ,RDF_recall_score_E ,RDF_Score_E]) \n",
        "myTable.add_row(['Gini Index',RDF_accuracy_GI,RDF_precision_GI ,RDF_recall_score_GI ,RDF_Score_GI])   \n",
        "print(myTable)"
      ],
      "execution_count": null,
      "outputs": []
    },
    {
      "cell_type": "markdown",
      "metadata": {
        "id": "LHBBvfRv7PJP"
      },
      "source": [
        "PREDICTION"
      ]
    },
    {
      "cell_type": "code",
      "metadata": {
        "id": "FXNhQOts6H7V"
      },
      "source": [
        "print(\"The prediction value for Entropy Method : \")\n",
        "print(RDF_pred_E)"
      ],
      "execution_count": null,
      "outputs": []
    },
    {
      "cell_type": "code",
      "metadata": {
        "id": "273RE5RZ6Ix0"
      },
      "source": [
        "print(\"The prediction value for Entropy Method : \")\n",
        "print(RDF_pred_GI)"
      ],
      "execution_count": null,
      "outputs": []
    },
    {
      "cell_type": "markdown",
      "metadata": {
        "id": "QR-M87f07Kns"
      },
      "source": [
        "TESTING"
      ]
    },
    {
      "cell_type": "code",
      "metadata": {
        "id": "xsPdLEJh6Mv-"
      },
      "source": [
        "# # Predicting a new result - target 0\n",
        "# print(RDF.predict(st_x.transform([[68,\t1,\t0,\t144,\t193,\t1,\t1,\t141,\t0,\t3.4,\t1,\t2,\t3\t]])))\n",
        "# print(RDF_E.predict(st_x.transform([[68,\t1,\t0,\t144,\t193,\t1,\t1,\t141,\t0,\t3.4,\t1,\t2,\t3\t]])))\n",
        "# print(RDF_GI.predict(st_x.transform([[68,\t1,\t0,\t144,\t193,\t1,\t1,\t141,\t0,\t3.4,\t1,\t2,\t3\t]])))"
      ],
      "execution_count": null,
      "outputs": []
    },
    {
      "cell_type": "code",
      "metadata": {
        "id": "rEdIgebb6PEB"
      },
      "source": [
        "# # Predicting a new result - target 1\n",
        "# print(RDF.predict(st_x.transform([[63,\t1,\t3,\t145,\t233,\t1,\t0,\t150,\t0,\t2.3,\t0,\t0,\t1\t]])))\n",
        "# print(RDF_E.predict(st_x.transform([[63,\t1,\t3,\t145,\t233,\t1,\t0,\t150,\t0,\t2.3,\t0,\t0,\t1\t]])))\n",
        "# print(RDF_GI.predict(st_x.transform([[63,\t1,\t3,\t145,\t233,\t1,\t0,\t150,\t0,\t2.3,\t0,\t0,\t1\t]])))"
      ],
      "execution_count": null,
      "outputs": []
    },
    {
      "cell_type": "markdown",
      "metadata": {
        "id": "LAiCfGJyawCS"
      },
      "source": [
        "# **NAIVE BAYES**"
      ]
    },
    {
      "cell_type": "code",
      "metadata": {
        "id": "VBEnV0C1WXeT"
      },
      "source": [
        "from sklearn.naive_bayes import GaussianNB\n",
        "from sklearn import metrics\n",
        "classifier = GaussianNB()\n",
        "classifier.fit(x_train, y_train)\n",
        "y_pred = classifier.predict(x_test)\n",
        "\n",
        "bayes_accuracy = accuracy_score(y_test, y_pred)\n",
        "bayes_precision = precision_score(y_test, y_pred)\n",
        "bayes_recall_score = recall_score(y_test,y_pred)\n",
        "bayes_Score = f1_score(y_test,y_pred)\n",
        "print('\\n CLASSIFICATION REPORT\\n', classification_report(y_test, y_pred))\n",
        "print('\\n CONFUSION MATRIX\\n', confusion_matrix(y_test, y_pred))\n",
        "print('\\n ACCURACY SCORE  : ', accuracy_score(y_test, y_pred))\n",
        "print('\\n PRECISION SCORE : ', precision_score(y_test, y_pred))\n",
        "print('\\n RECALL SCORE : ',recall_score(y_test,y_pred))\n",
        "print('\\n F1 SCORE :',f1_score(y_test,y_pred))\n",
        "cm= confusion_matrix(y_test, y_pred)\n",
        "cm = pd.DataFrame(data = cm, columns = ['Predicted:0', 'Predicted:1'], index =['Actual:0', 'Actual:1'])\n",
        "plt.figure(figsize = (5, 5))\n",
        "sns.heatmap(cm, annot = True, fmt = 'd', cmap = \"Greens\")\n",
        "plt.show()\n"
      ],
      "execution_count": null,
      "outputs": []
    },
    {
      "cell_type": "code",
      "metadata": {
        "id": "SAb_JCWifm2C"
      },
      "source": [
        "myTable = PrettyTable([\"METRICS\", \"ACCURACY\",\"PRECISION SCORE\",\"RECALL SCORE\",\"F1 SCORE\"]) \n",
        "  \n",
        "# Add rows \n",
        "myTable.add_row([\"Naive Bayes\",bayes_accuracy,bayes_precision,bayes_recall_score,bayes_Score])\n",
        "print(myTable)"
      ],
      "execution_count": null,
      "outputs": []
    },
    {
      "cell_type": "code",
      "metadata": {
        "id": "xTsdZeo6WCf7"
      },
      "source": [
        "print(\"The prediction value for NB Method : \")\n",
        "print(y_pred)"
      ],
      "execution_count": null,
      "outputs": []
    },
    {
      "cell_type": "code",
      "metadata": {
        "id": "I_e5X04rWtm1"
      },
      "source": [
        "# # Predicting a new result - target 0\n",
        "# print(classifier.predict(st_x.transform([[68,\t1,\t0,\t144,\t193,\t1,\t1,\t141,\t0,\t3.4,\t1,\t2,\t3\t]])))"
      ],
      "execution_count": null,
      "outputs": []
    },
    {
      "cell_type": "code",
      "metadata": {
        "id": "_xt732dKXVL5"
      },
      "source": [
        "# # Predicting a new result - target 1\n",
        "# print(classifier.predict(st_x.transform([[63,\t1,\t3,\t145,\t233,\t1,\t0,\t150,\t0,\t2.3,\t0,\t0,\t1\t]])))"
      ],
      "execution_count": null,
      "outputs": []
    },
    {
      "cell_type": "markdown",
      "metadata": {
        "id": "jnN8GLwjPQb0"
      },
      "source": [
        "# **LOGISTIC REGRESSION**\n"
      ]
    },
    {
      "cell_type": "code",
      "metadata": {
        "id": "8TZok-8kqjMZ"
      },
      "source": [
        "from sklearn.linear_model import LogisticRegression\n",
        "logreg = LogisticRegression()\n",
        "logreg.fit(x_train, y_train)\n",
        "logreg_Pred= logreg.predict(x_test)\n",
        "logreg_accuracy = accuracy_score(y_test, logreg_Pred)\n",
        "logreg_precision = precision_score(y_test, logreg_Pred)\n",
        "logreg_recall_score = recall_score(y_test,logreg_Pred)\n",
        "logreg_f1_score = f1_score(y_test,logreg_Pred)\n",
        "print('\\n CLASSIFICATION REPORT\\n', classification_report(y_test, logreg_Pred))\n",
        "print('\\n CONFUSION MATRIX\\n', confusion_matrix(y_test, logreg_Pred))\n",
        "print('\\n ACCURACY SCORE  : ', accuracy_score(y_test, logreg_Pred))\n",
        "print('\\n PRECISION SCORE : ', precision_score(y_test, logreg_Pred))\n",
        "print('\\n RECALL SCORE : ', logreg_recall_score)\n",
        "print('\\n F1 SCORE : ', logreg_f1_score)\n",
        "print('\\n CONFUSION MATRIX\\n')\n",
        "cm= confusion_matrix(y_test,logreg_Pred)\n",
        "cm = pd.DataFrame(data = cm, columns = ['Predicted:0', 'Predicted:1'], index =['Actual:0', 'Actual:1'])\n",
        "plt.figure(figsize = (5, 5))\n",
        "sns.heatmap(cm, annot = True, fmt = 'd', cmap = \"Greens\")\n",
        "plt.show()"
      ],
      "execution_count": null,
      "outputs": []
    },
    {
      "cell_type": "code",
      "metadata": {
        "id": "ZX28LjVnqobk"
      },
      "source": [
        "from sklearn.linear_model import LogisticRegression\n",
        "logreg_M= LogisticRegression(multi_class='multinomial', solver='lbfgs')\n",
        "logreg_M.fit(x_train, y_train)\n",
        "logreg_Pred_M= logreg_M.predict(x_test)\n",
        "logreg_accuracy_M= accuracy_score(y_test, logreg_Pred_M)\n",
        "logreg_precision_M= precision_score(y_test, logreg_Pred_M)\n",
        "logreg_recall_score_M = recall_score(y_test,logreg_Pred_M)\n",
        "logreg_f1_score_M = f1_score(y_test,logreg_Pred_M)\n",
        "print('\\n CLASSIFICATION REPORT\\n', classification_report(y_test, logreg_Pred_M))\n",
        "print('\\n CONFUSION MATRIX\\n', confusion_matrix(y_test, logreg_Pred_M))\n",
        "print('\\n ACCURACY SCORE  : ', accuracy_score(y_test, logreg_Pred_M))\n",
        "print('\\n PRECISION SCORE : ', precision_score(y_test, logreg_Pred_M))\n",
        "print('\\n RECALL SCORE : ', logreg_recall_score_M)\n",
        "print('\\n F1 SCORE : ', logreg_f1_score_M)\n",
        "print('\\n CONFUSION MATRIX\\n')\n",
        "cm= confusion_matrix(y_test,logreg_Pred_M)\n",
        "cm = pd.DataFrame(data = cm, columns = ['Predicted:0', 'Predicted:1'], index =['Actual:0', 'Actual:1'])\n",
        "plt.figure(figsize = (5, 5))\n",
        "sns.heatmap(cm, annot = True, fmt = 'd', cmap = \"Greens\")\n",
        "plt.show()"
      ],
      "execution_count": null,
      "outputs": []
    },
    {
      "cell_type": "code",
      "metadata": {
        "id": "VoWpj5QfqvsY"
      },
      "source": [
        "# Specify the Column Names while initializing the Table \n",
        "myTable = PrettyTable([\"CRITERIA\",\"Accuracy\",\"Precision\", \"Recall\", \"F1\"]) \n",
        "  \n",
        "# Add rows \n",
        "myTable.add_row(['Logistic Regression',logreg_accuracy, logreg_precision, logreg_recall_score, logreg_f1_score]) \n",
        "myTable.add_row(['MultinomialRegression ',logreg_accuracy_M,logreg_precision_M,logreg_recall_score_M,logreg_recall_score_M])   \n",
        "print(myTable)"
      ],
      "execution_count": null,
      "outputs": []
    },
    {
      "cell_type": "code",
      "metadata": {
        "id": "s9NcKPsSq5h7"
      },
      "source": [
        "# # Predicting a new result - target 0\n",
        "# print(logreg.predict(st_x.transform([[68,\t1,\t0,\t144,\t193,\t1,\t1,\t141,\t0,\t3.4,\t1,\t2,\t3\t]])))"
      ],
      "execution_count": null,
      "outputs": []
    },
    {
      "cell_type": "code",
      "metadata": {
        "id": "ZP84P6bCrX95"
      },
      "source": [
        "# # Predicting a new result - target 1\n",
        "# print(logreg.predict(st_x.transform([[63,\t1,\t3,\t145,\t233,\t1,\t0,\t150,\t0,\t2.3,\t0,\t0,\t1\t]])))"
      ],
      "execution_count": null,
      "outputs": []
    },
    {
      "cell_type": "markdown",
      "metadata": {
        "id": "1JGgYTRO9oVu"
      },
      "source": [
        "# **XGBOOST**"
      ]
    },
    {
      "cell_type": "code",
      "metadata": {
        "id": "5zzvMnXJ9txx"
      },
      "source": [
        "from xgboost import XGBClassifier\n",
        "\n",
        "XG = XGBClassifier()\n",
        "\n",
        "XG.fit(x_train,y_train)\n",
        "\n",
        "XG_Pred = XG.predict(x_test)\n",
        "XG_accuracy = accuracy_score(y_test, XG_Pred)\n",
        "XG_precision = precision_score(y_test, XG_Pred)\n",
        "XG_recall_score = recall_score(y_test,XG_Pred)\n",
        "XG_f1_score = f1_score(y_test,XG_Pred)\n",
        "print('\\n CLASSIFICATION REPORT\\n', classification_report(y_test, XG_Pred))\n",
        "print('\\n CONFUSION MATRIX\\n', confusion_matrix(y_test, XG_Pred))\n",
        "print('\\n ACCURACY SCORE  : ', accuracy_score(y_test, XG_Pred))\n",
        "print('\\n PRECISION SCORE : ', precision_score(y_test, XG_Pred))\n",
        "print('\\n RECALL SCORE : ', XG_recall_score)\n",
        "print('\\n F1 SCORE : ', XG_f1_score)\n",
        "print('\\n CONFUSION MATRIX\\n')\n",
        "cm= confusion_matrix(y_test,XG_Pred)\n",
        "cm = pd.DataFrame(data = cm, columns = ['Predicted:0', 'Predicted:1'], index =['Actual:0', 'Actual:1'])\n",
        "plt.figure(figsize = (5, 5))\n",
        "sns.heatmap(cm, annot = True, fmt = 'd', cmap = \"Greens\")\n",
        "plt.show()"
      ],
      "execution_count": null,
      "outputs": []
    },
    {
      "cell_type": "code",
      "metadata": {
        "id": "KIHbk5zmz_jv"
      },
      "source": [
        "from prettytable import PrettyTable \n",
        "\n",
        "myTable = PrettyTable([\"METRICS\", \"ACCURACY SCORE\",\"PRECISION SCORE\",\"RECALL SCORE\",\"F1 SCORE\"]) \n",
        "  \n",
        "# Add rows \n",
        "myTable.add_row(['XGBoosting',XG_accuracy,XG_precision ,XG_recall_score ,XG_f1_score]) \n",
        "\n",
        "print(myTable)"
      ],
      "execution_count": null,
      "outputs": []
    },
    {
      "cell_type": "markdown",
      "metadata": {
        "id": "p0-oK0xH_1tw"
      },
      "source": [
        "# **GRADIENT BOOST**"
      ]
    },
    {
      "cell_type": "code",
      "metadata": {
        "id": "pIPnmbcN6cIT"
      },
      "source": [
        "from numpy import mean\n",
        "from numpy import std\n",
        "from sklearn.model_selection import RepeatedStratifiedKFold\n",
        "from sklearn.ensemble import GradientBoostingClassifier\n",
        "from sklearn.model_selection import cross_val_score\n",
        "GB = GradientBoostingClassifier()\n",
        "GB.fit(x_train,y_train)\n",
        "GB_Pred = GB.predict(x_test)\n",
        "GB_accuracy = accuracy_score(y_test, GB_Pred)\n",
        "GB_precision = precision_score(y_test, GB_Pred)\n",
        "GB_recall_score = recall_score(y_test,GB_Pred)\n",
        "GB_f1_score = f1_score(y_test,GB_Pred)\n",
        "print('\\n CLASSIFICATION REPORT\\n', classification_report(y_test, GB_Pred))\n",
        "print('\\n CONFUSION MATRIX\\n', confusion_matrix(y_test, GB_Pred))\n",
        "print('\\n ACCURACY SCORE  : ', accuracy_score(y_test, GB_Pred))\n",
        "print('\\n PRECISION SCORE : ', precision_score(y_test, GB_Pred))\n",
        "print('\\n RECALL SCORE : ', GB_recall_score)\n",
        "print('\\n F1 SCORE : ', GB_f1_score)\n",
        "print('\\n CONFUSION MATRIX\\n')\n",
        "cm= confusion_matrix(y_test,GB_Pred)\n",
        "cm = pd.DataFrame(data = cm, columns = ['Predicted:0', 'Predicted:1'], index =['Actual:0', 'Actual:1'])\n",
        "plt.figure(figsize = (5, 5))\n",
        "sns.heatmap(cm, annot = True, fmt = 'd', cmap = \"Greens\")\n",
        "plt.show()"
      ],
      "execution_count": null,
      "outputs": []
    },
    {
      "cell_type": "code",
      "metadata": {
        "id": "INmGWDu600JP"
      },
      "source": [
        "from prettytable import PrettyTable \n",
        "\n",
        "myTable = PrettyTable([\"METRICS\", \"ACCURACY SCORE\",\"PRECISION SCORE\",\"RECALL SCORE\",\"F1 SCORE\"]) \n",
        "  \n",
        "# Add rows \n",
        "myTable.add_row(['Gradient Boosting',GB_accuracy,GB_precision ,GB_recall_score ,GB_f1_score]) \n",
        "\n",
        "print(myTable)"
      ],
      "execution_count": null,
      "outputs": []
    },
    {
      "cell_type": "markdown",
      "metadata": {
        "id": "a-3e0SwBgSUR"
      },
      "source": [
        "# **ADABOOST**"
      ]
    },
    {
      "cell_type": "code",
      "metadata": {
        "id": "BR_lhMsXgZLV"
      },
      "source": [
        "from sklearn.preprocessing import LabelEncoder\n",
        "le=LabelEncoder()\n",
        "y=le.fit_transform(y)"
      ],
      "execution_count": null,
      "outputs": []
    },
    {
      "cell_type": "code",
      "metadata": {
        "id": "vwZts00zgw7H"
      },
      "source": [
        "from sklearn.ensemble import AdaBoostClassifier\n",
        "abc = AdaBoostClassifier()\n",
        "model1 = abc.fit(x_train, y_train)\n",
        "y_pred = model1.predict(x_test)\n",
        "\n",
        "ada_accuracy = accuracy_score(y_test, y_pred)\n",
        "ada_precision = precision_score(y_test, y_pred)\n",
        "ada_recall_score = recall_score(y_test,y_pred)\n",
        "ada_f1_score = f1_score(y_test,y_pred)\n",
        "print('\\n CLASSIFICATION REPORT\\n', classification_report(y_test, y_pred))\n",
        "print('\\n CONFUSION MATRIX\\n', confusion_matrix(y_test, y_pred))\n",
        "print('\\n ACCURACY SCORE  : ', accuracy_score(y_test, y_pred))\n",
        "print('\\n PRECISION SCORE : ', precision_score(y_test, y_pred))\n",
        "print('\\n RECALL SCORE : ', ada_recall_score)\n",
        "print('\\n F1 SCORE : ', ada_f1_score)\n",
        "print('\\n CONFUSION MATRIX\\n')\n",
        "cm= confusion_matrix(y_test,y_pred)\n",
        "cm = pd.DataFrame(data = cm, columns = ['Predicted:0', 'Predicted:1'], index =['Actual:0', 'Actual:1'])\n",
        "plt.figure(figsize = (5, 5))\n",
        "sns.heatmap(cm, annot = True, fmt = 'd', cmap = \"Greens\")\n",
        "plt.show()\n",
        "\n"
      ],
      "execution_count": null,
      "outputs": []
    },
    {
      "cell_type": "code",
      "metadata": {
        "id": "Lot0R13DaSqc"
      },
      "source": [
        "print(classification_report(y_test,y_pred))\n"
      ],
      "execution_count": null,
      "outputs": []
    },
    {
      "cell_type": "code",
      "metadata": {
        "id": "JiTYHLVpsYhM"
      },
      "source": [
        "from prettytable import PrettyTable \n",
        "\n",
        "myTable = PrettyTable([\"METRICS\", \"ACCURACY SCORE\",\"PRECISION SCORE\",\"RECALL SCORE\",\"F1 SCORE\"]) \n",
        "  \n",
        "# Add rows \n",
        "myTable.add_row(['AdaBoosting',ada_accuracy,ada_precision ,ada_recall_score ,ada_f1_score]) \n",
        "\n",
        "print(myTable)"
      ],
      "execution_count": null,
      "outputs": []
    },
    {
      "cell_type": "markdown",
      "metadata": {
        "id": "S55EwiO-2f1x"
      },
      "source": [
        "# **MODEL ACCURACY**"
      ]
    },
    {
      "cell_type": "code",
      "metadata": {
        "id": "KWl4I1nIFz9e"
      },
      "source": [
        "myTable = PrettyTable([\"    KNN_NB-METRICS    \", \"ACCURACY\",\"PRECISION SCORE\",\"RECALL SCORE\",\"F1 SCORE\"])  \n",
        "# Add rows \n",
        "myTable.add_row([\"Manhattan\",KNN_ma_acc,KNN_ma_p,KNN_ma_r,KNN_ma_f1]) \n",
        "myTable.add_row([\"Minkowski\",KNN_mi_acc,KNN_mi_p,KNN_mi_r,KNN_mi_f1]) \n",
        "myTable.add_row([\"Euclidean\",KNN_e_acc,KNN_e_p,KNN_e_r,KNN_e_f1]) \n",
        "myTable.add_row([\"Jaccard\",KNN_j_acc,KNN_j_p,KNN_j_r,KNN_j_f1]) \n",
        "myTable.add_row([\"Hamming\",KNN_h_acc,KNN_h_p,KNN_h_r,KNN_h_f1]) \n",
        "myTable.add_row([\"Cosine\",KNN_c_acc,KNN_c_p,KNN_c_r,KNN_c_f1]) \n",
        "# Add rows \n",
        "myTable.add_row([\"Naive Bayes\",bayes_accuracy,bayes_precision,bayes_recall_score,bayes_Score])\n",
        "print(myTable)\n",
        "# Specify the Column Names while initializing the Table \n",
        "myTable = PrettyTable([\"     SVM-KERNELS      \", \"ACCURACY\",\"PRECISION SCORE\",\"RECALL SCORE\",\"F1 SCORE\"]) \n",
        "# Add rows \n",
        "myTable.add_row([\"Linear\",SVM_l_Score,SVM_l_p,SVM_l_r,SVM_l_f1]) \n",
        "myTable.add_row([\"RBF\",SVM_g_Score,SVM_g_p,SVM_g_r,SVM_g_f1]) \n",
        "myTable.add_row([\"Polynomial\",SVM_p_Score,SVM_p_p,SVM_p_r,SVM_p_f1]) \n",
        "myTable.add_row([\"Sigmoid\",SVM_s_Score,SVM_s_p,SVM_s_r,SVM_s_f1])  \n",
        "print(myTable)\n",
        "# Specify the Column Names while initializing the Table \n",
        "myTable = PrettyTable([\"DT_RF_LR-CRITERIA\",\"Accuracy\",\"Precision\", \"Recall\", \"F1\"])   \n",
        "# Add rows \n",
        "myTable.add_row(['DT-Information Gain',E_DT_accuracy,E_DT_precision ,E_DT_recall_score ,E_DT_f1_score]) \n",
        "myTable.add_row(['DT-Gini Index',GI_DT_accuracy, GI_DT_precision ,GI_DT_recall_score ,GI_DT_f1_score])  \n",
        "# Add rows \n",
        "myTable.add_row(['RF-Information Gain',RDF_accuracy_E,RDF_precision_E ,RDF_recall_score_E ,RDF_Score_E]) \n",
        "myTable.add_row(['RF-Gini Index',RDF_accuracy_GI,RDF_precision_GI ,RDF_recall_score_GI ,RDF_Score_GI])   \n",
        "# Add rows \n",
        "myTable.add_row(['Logistic Regression',logreg_accuracy, logreg_precision, logreg_recall_score, logreg_f1_score]) \n",
        "myTable.add_row(['MultinomialRegression ',logreg_accuracy_M,logreg_precision_M,logreg_recall_score_M,logreg_recall_score_M])   \n",
        "print(myTable)\n"
      ],
      "execution_count": null,
      "outputs": []
    },
    {
      "cell_type": "code",
      "metadata": {
        "id": "b36RM2Kmv--f"
      },
      "source": [
        "model_accuracy = pd.Series(data=[KNN_ma_acc,KNN_mi_acc,KNN_e_acc,KNN_j_acc,KNN_h_acc,KNN_c_acc,SVM_l_Score,SVM_g_Score,SVM_p_Score,SVM_s_Score,E_DT_accuracy,GI_DT_accuracy,RDF_accuracy_E,RDF_accuracy_GI,logreg_accuracy,logreg_accuracy_M,bayes_accuracy], \n",
        "                index=['KNN-Manhattan Metric','KNN-Minkowski Metric','KNN-Euclidean Metric','KNN-Jaccard Metric','KNN-Hamming Metric','KNN-Cosine Metric','SVM-Linear Kernal','SVM-RBF Kernel','SVM-Polynomial Kernel','SVM-Sigmoid Kernel','DT-Information Gain','DT-Gini Index','RDF-Information Gain','RDF-Gini Index','LR-Binomial','LR-Multinomial','Naive Bayes'])\n",
        "fig= plt.figure(figsize=(10,10))\n",
        "model_accuracy.sort_values().plot.barh(color={ \"#00C3af\"})\n",
        "plt.title('Model Accuracy')"
      ],
      "execution_count": null,
      "outputs": []
    },
    {
      "cell_type": "markdown",
      "metadata": {
        "id": "B_UHawoGrU4p"
      },
      "source": [
        "# **BOOSTING MODEL ACCURACY**"
      ]
    },
    {
      "cell_type": "code",
      "metadata": {
        "id": "XCg5lUD8K_Cq"
      },
      "source": [
        "from prettytable import PrettyTable \n",
        "\n",
        "myTable = PrettyTable([\"METRICS\", \"ACCURACY SCORE\",\"PRECISION SCORE\",\"RECALL SCORE\",\"F1 SCORE\"]) \n",
        "  \n",
        "# Add rows \n",
        "myTable.add_row(['AdaBoosting',ada_accuracy,ada_precision ,ada_recall_score ,ada_f1_score]) \n",
        "myTable.add_row(['XGBoosting',XG_accuracy,XG_precision ,XG_recall_score ,XG_f1_score]) \n",
        "myTable.add_row(['GBBoosting',GB_accuracy,GB_precision ,GB_recall_score ,GB_f1_score]) \n",
        "print(myTable)"
      ],
      "execution_count": null,
      "outputs": []
    },
    {
      "cell_type": "code",
      "metadata": {
        "id": "2VB6Pd9prfXP"
      },
      "source": [
        "model_accuracy = pd.Series(data=[ada_accuracy,GB_accuracy,XG_accuracy], \n",
        "                index=['AdaBoost','GradientBoost','XGBoost'])\n",
        "fig= plt.figure(figsize=(10,10))\n",
        "model_accuracy.sort_values().plot.barh(color={ \"#00C3af\"})\n",
        "plt.title('Model Accuracy')"
      ],
      "execution_count": null,
      "outputs": []
    },
    {
      "cell_type": "markdown",
      "metadata": {
        "id": "apWWx1gAc-rf"
      },
      "source": [
        "# **IMPORTING DATASET CONSISTING ACCURACIES**"
      ]
    },
    {
      "cell_type": "code",
      "metadata": {
        "id": "EHCsi6hsTe-P"
      },
      "source": [
        "# print(\"MINKOWSKI:\",KNN_mi.predict(st_x.transform([[62,\t0,\t0,\t140,\t268,\t0,\t0,\t160,\t0,\t3.6\t,0,\t2,\t2\t]])))\n",
        "# print(\"SVM      :\",SVM.predict(st_x.transform([[62,\t0,\t0,\t140,\t268,\t0,\t0,\t160,\t0,\t3.6\t,0,\t2,\t2\t]])))\n",
        "# print(\"DT       :\",E_DT.predict(st_x.transform([[62,\t0,\t0,\t140,\t268,\t0,\t0,\t160,\t0,\t3.6\t,0,\t2,\t2\t]])))\n",
        "# print(\"RDF      :\",RDF_E.predict(st_x.transform([[62,\t0,\t0,\t140,\t268,\t0,\t0,\t160,\t0,\t3.6\t,0,\t2,\t2\t\t]])))\n",
        "# print(\"NB       :\",classifier.predict(st_x.transform([[62,\t0,\t0,\t140,\t268,\t0,\t0,\t160,\t0,\t3.6\t,0,\t2,\t2\t]])))\n",
        "# print(\"LR       :\",logreg.predict(st_x.transform([[62,\t0,\t0,\t140,\t268,\t0,\t0,\t160,\t0,\t3.6\t,0,\t2,\t2\t]])))"
      ],
      "execution_count": null,
      "outputs": []
    },
    {
      "cell_type": "code",
      "metadata": {
        "id": "vUgI23FLs41a"
      },
      "source": [
        "# #Importing required libraries\n",
        "# from sklearn.datasets import load_breast_cancer\n",
        "# import pandas as pd\n",
        "# from sklearn.model_selection import KFold \n",
        "# from sklearn.linear_model import LogisticRegression\n",
        "# from sklearn.metrics import accuracy_score\n",
        " \n",
        "# #Loading the dataset\n",
        "# df = pd.read_csv('/content/heart(303).csv')\n",
        "# x = df.iloc[:,:-1]\n",
        "# y = df.iloc[:,-1]\n",
        " \n",
        "# #Implementing cross validation\n",
        " \n",
        "# k = 5\n",
        "# kf = KFold(n_splits=k, random_state=None)\n",
        "# model = LogisticRegression(solver= 'liblinear')\n",
        " \n",
        "# acc_score = []\n",
        " \n",
        "# for train_index , test_index in kf.split(x):\n",
        "#     x_train , x_test = x.iloc[train_index,:],x.iloc[test_index,:]\n",
        "#     y_train , y_test = y[train_index] , y[test_index]\n",
        "     \n",
        "#     model.fit(x_train,y_train)\n",
        "#     pred_values = model.predict(x_test)\n",
        "     \n",
        "#     acc = accuracy_score(pred_values , y_test)\n",
        "#     acc_score.append(acc)\n",
        "     \n",
        "# avg_acc_score = sum(acc_score)/k\n",
        " \n",
        "# print('accuracy of each fold - {}'.format(acc_score))\n",
        "# print('Avg accuracy : {}'.format(avg_acc_score))"
      ],
      "execution_count": null,
      "outputs": []
    },
    {
      "cell_type": "code",
      "metadata": {
        "id": "guWBNcmOuGN0"
      },
      "source": [
        "#3 metrics\n",
        "KNN_mi= KNeighborsClassifier(n_neighbors=5, metric = 'minkowski') \n",
        "KNN_e= KNeighborsClassifier(n_neighbors=5, metric = 'euclidean')\n",
        "KNN_ma= KNeighborsClassifier(n_neighbors=5, metric = 'manhattan',weights='uniform')\n",
        "KNN_j= KNeighborsClassifier(n_neighbors=5, metric = 'jaccard')\n",
        "KNN_h= KNeighborsClassifier(n_neighbors=5, metric = 'hamming')\n",
        "KNN_c= KNeighborsClassifier(n_neighbors=5, metric = 'cosine')\n",
        "E_DT = DecisionTreeClassifier(criterion='entropy',splitter ='best',max_depth=None,random_state=0)\n",
        "GI_DT = DecisionTreeClassifier(criterion='gini',splitter ='best',max_depth=None,random_state=0)\n",
        "\n",
        "KNN_mi.fit(x_train, y_train)\n",
        "KNN_e.fit(x_train, y_train)\n",
        "KNN_ma.fit(x_train, y_train)\n",
        "KNN_j.fit(x_train, y_train)\n",
        "KNN_h.fit(x_train, y_train)\n",
        "KNN_c.fit(x_train, y_train)\n",
        "E_DT = E_DT.fit(x_train, y_train)\n",
        "GI_DT = GI_DT.fit(x_train, y_train)\n",
        "\n",
        "y_pred_mi= KNN_mi.predict(x_test)\n",
        "y_pred_e= KNN_e.predict(x_test)\n",
        "y_pred_ma= KNN_ma.predict(x_test)\n",
        "y_pred_j= KNN_j.predict(x_test)\n",
        "y_pred_h= KNN_h.predict(x_test)\n",
        "y_pred_c= KNN_c.predict(x_test)\n",
        "E_DT_Pred = E_DT.predict(x_test)\n",
        "GI_DT_Pred = GI_DT.predict(x_test)\n",
        "\n",
        "\n",
        "KNN_ma_acc=accuracy_score(y_test, y_pred_ma)\n",
        "KNN_mi_acc=accuracy_score(y_test, y_pred_mi)\n",
        "KNN_e_acc=accuracy_score(y_test, y_pred_e)\n",
        "KNN_j_acc=accuracy_score(y_test, y_pred_j)\n",
        "KNN_h_acc=accuracy_score(y_test, y_pred_h)\n",
        "KNN_c_acc=accuracy_score(y_test, y_pred_c)\n",
        "E_DT_accuracy = accuracy_score(y_test, E_DT_Pred)\n",
        "GI_DT_accuracy = accuracy_score(y_test, E_DT_Pred)\n"
      ],
      "execution_count": null,
      "outputs": []
    },
    {
      "cell_type": "code",
      "metadata": {
        "id": "uC8wQAqMtX-B"
      },
      "source": [
        "# Specify the Column Names while initializing the Table \n",
        "myTable = PrettyTable([\"METRICS\", \"ACCURACY\"]) \n",
        "  \n",
        "# Add rows \n",
        "myTable.add_row([\"Manhattan\",KNN_ma_acc]) \n",
        "myTable.add_row([\"Minkowski\",KNN_mi_acc]) \n",
        "myTable.add_row([\"Euclidean\",KNN_e_acc]) \n",
        "myTable.add_row([\"Jaccard\",KNN_j_acc]) \n",
        "myTable.add_row([\"Hamming\",KNN_h_acc]) \n",
        "myTable.add_row([\"Cosine\",KNN_c_acc])\n",
        "myTable.add_row([\"Entropy\",E_DT_accuracy])\n",
        "myTable.add_row([\"Gini Index\",GI_DT_accuracy]) \n",
        "\n",
        "  \n",
        "print(myTable)"
      ],
      "execution_count": null,
      "outputs": []
    },
    {
      "cell_type": "markdown",
      "metadata": {
        "id": "yhMylq7W55GV"
      },
      "source": [
        "# **CORRELATION MATRIX**"
      ]
    },
    {
      "cell_type": "code",
      "metadata": {
        "id": "-3EYOobu7IrQ"
      },
      "source": [
        "#importing the dataset\n",
        "data = pd.read_csv('/content/Prediction - both testing and traning.csv')\n",
        "display(data)\n",
        "all(data)"
      ],
      "execution_count": null,
      "outputs": []
    },
    {
      "cell_type": "code",
      "metadata": {
        "id": "0qis8ZdapDXn"
      },
      "source": [
        "cor={'KNN':0,'SVM':1,'DT':2,'RF':3,'NB':4,'LR':5} #index value "
      ],
      "execution_count": null,
      "outputs": []
    },
    {
      "cell_type": "code",
      "metadata": {
        "id": "vHy2v5Z93XWu"
      },
      "source": [
        "rows, cols = (7, 7)\n",
        "val = [[0 for i in range(cols)] for j in range(rows)] #creating the double array\n",
        "for i in range(1,7):\n",
        "  for j in range(1,7):\n",
        "    tt=0\n",
        "    tf=0\n",
        "    ft=0\n",
        "    ff=0\n",
        "    for count in range(62):\n",
        "      if data.iloc[count,i] == data['TARGET'][count] and data.iloc[count,j] == data['TARGET'][count]:\n",
        "        tt=tt+1\n",
        "      elif data.iloc[count,i] == data['TARGET'][count] and data.iloc[count,j] != data['TARGET'][count]:\n",
        "        tf=tf+1\n",
        "      elif data.iloc[count,i] != data['TARGET'][count] and data.iloc[count,j] == data['TARGET'][count]:\n",
        "        ft=ft+1\n",
        "      elif data.iloc[count,i] != data['TARGET'][count] and data.iloc[count,j] != data['TARGET'][count]:\n",
        "        ff=ff+1\n",
        "    try:\n",
        "      correlation = int (2*ff)/int (tf+ft+(2*ff))\n",
        "    except ZeroDivisionError:\n",
        "\t    correlation = 0\n",
        "    val[i][j] = correlation\n",
        "    # print('\\n')"
      ],
      "execution_count": null,
      "outputs": []
    },
    {
      "cell_type": "code",
      "metadata": {
        "id": "vw0uvf1xHJSe"
      },
      "source": [
        "for i in range(1,7):\n",
        "  print(f\"         {data.columns[i]}\",end=\"\")\n",
        "print(\"\\n\")\n",
        "\n",
        "for i in range(1,7):\n",
        "  print(data.columns[i],end =\"       \")\n",
        "  for j in range(1,7):\n",
        "    print(round(val[i][j],2),end = \"       \")\n",
        "  print('\\n')\n",
        "\n",
        "\n",
        "\n",
        "# NB - LR = 0.89\n",
        "# 0.78 0.77\n",
        "\n",
        "# KNN - NB and KNN - LR = 0.74\n",
        "# SVM - NB and SVM - LR = 0.73\n",
        "\n",
        "# SVM - KNN = 0.7\n",
        "# 0.80  0.85\n",
        "\n",
        "# RF - NB and RF - LR = 0.5\n",
        "# KNN - RF =  0.46\n",
        "# DT - RF = 0.4\n",
        "# SVM - RF = 0.38\n",
        "# KNN - DT = 0.35\n",
        "# DT - SVM = 0.3\n",
        "\n",
        "#KNN-LR=0.91\n",
        "#SVM-KNN=0.75\n",
        "#SVM-LR=0.67\n",
        "#KNN-NB=0.6\n",
        "#NB-LR=0.55"
      ],
      "execution_count": null,
      "outputs": []
    },
    {
      "cell_type": "code",
      "metadata": {
        "id": "o84mMxHwlkBV"
      },
      "source": [
        "data = pd.read_csv('/content/Prediction - both testing and traning.csv',usecols=['TARGET','KNN','DT','RF','NB'])\n",
        "\n",
        "rows, cols = (7, 7)\n",
        "val = [[0 for i in range(cols)] for j in range(rows)] #creating the double array\n",
        "for i in range(1,5):\n",
        "  for j in range(1,5):\n",
        "    tt=0\n",
        "    tf=0\n",
        "    ft=0\n",
        "    ff=0\n",
        "    for count in range(62):\n",
        "      if data.iloc[count,i] == data['TARGET'][count] and data.iloc[count,j] == data['TARGET'][count]:\n",
        "        tt=tt+1\n",
        "      elif data.iloc[count,i] == data['TARGET'][count] and data.iloc[count,j] != data['TARGET'][count]:\n",
        "        tf=tf+1\n",
        "      elif data.iloc[count,i] != data['TARGET'][count] and data.iloc[count,j] == data['TARGET'][count]:\n",
        "        ft=ft+1\n",
        "      elif data.iloc[count,i] != data['TARGET'][count] and data.iloc[count,j] != data['TARGET'][count]:\n",
        "        ff=ff+1\n",
        "    try:\n",
        "      correlation = int (2*ff)/int (tf+ft+(2*ff))\n",
        "    except ZeroDivisionError:\n",
        "\t    correlation = 0\n",
        "    val[i][j] = correlation"
      ],
      "execution_count": null,
      "outputs": []
    },
    {
      "cell_type": "code",
      "metadata": {
        "id": "aC0hg51_ouHh"
      },
      "source": [
        "for i in range(1,5):\n",
        "  print(f\"        {data.columns[i]}\",end=\"\")\n",
        "print(\"\\n\")\n",
        "\n",
        "for i in range(1,5):\n",
        "  print(data.columns[i],end =\"      \")\n",
        "  for j in range(1,5):\n",
        "    print(round(val[i][j],2),end = \"      \")\n",
        "  print('\\n')"
      ],
      "execution_count": null,
      "outputs": []
    },
    {
      "cell_type": "code",
      "metadata": {
        "id": "Acwtw7T0ZoKf"
      },
      "source": [
        "from numpy import mean\n",
        "from numpy import std\n",
        "import pandas as pd\n",
        "from sklearn.datasets import make_classification\n",
        "from sklearn.model_selection import cross_val_score\n",
        "from sklearn.model_selection import RepeatedStratifiedKFold\n",
        "from sklearn.linear_model import LogisticRegression\n",
        "from sklearn.neighbors import KNeighborsClassifier\n",
        "from sklearn.tree import DecisionTreeClassifier\n",
        "from sklearn.ensemble import RandomForestClassifier\n",
        "from sklearn.svm import SVC\n",
        "from sklearn.naive_bayes import GaussianNB\n",
        "from sklearn.ensemble import StackingClassifier\n",
        "from matplotlib import pyplot\n",
        "from matplotlib.pyplot import figure\n",
        "figure(dpi=80, facecolor='w', edgecolor='k')\n",
        " \n",
        "  \n",
        "# get a stacking of models\n",
        "def get_stacking():\n",
        "  # define the base models\n",
        "  level0 = list()\n",
        "  level0.append(('cart', DecisionTreeClassifier()))\n",
        "  level0.append(('rf', RandomForestClassifier()))\n",
        "  level0.append(('lr',LogisticRegression()))\n",
        "\n",
        "  # define meta learner model\n",
        "  level1 = KNeighborsClassifier()\n",
        "\n",
        "  # define the stacking ensemble\n",
        "  model = StackingClassifier(estimators=level0, final_estimator=level1, cv=5)\n",
        "  return model\n",
        "\n",
        "# get a list of models to evaluate\n",
        "def get_models():\n",
        "  models = dict()\n",
        "  models['Decision tree'] = DecisionTreeClassifier()\n",
        "  models['Random Forest'] = RandomForestClassifier()\n",
        "  models['Logistic Regression'] = LogisticRegression()\n",
        "  models['Stacking'] = get_stacking()\n",
        "  return models\n",
        " \n",
        "# evaluate a give model using cross-validation\n",
        "def evaluate_model(model):\n",
        "  cv = RepeatedStratifiedKFold(n_splits=10, n_repeats=3, random_state=1)\n",
        "  scores = cross_val_score(model, X, y, scoring='accuracy', cv=cv, n_jobs=-1, error_score='raise')\n",
        "  scores1 = cross_val_score(model, X, y, scoring='precision', cv=cv, n_jobs=-1, error_score='raise')\n",
        "  scores2 = cross_val_score(model, X, y, scoring='recall', cv=cv, n_jobs=-1, error_score='raise')\n",
        "  scores3 = cross_val_score(model, X, y, scoring='f1', cv=cv, n_jobs=-1, error_score='raise')\n",
        "  return scores,scores1,scores2,scores3\n",
        " \n",
        "# define dataset\n",
        "df = pd.read_csv('/content/heart(303).csv',usecols=['age','sex','cp','trestbps','chol','fbs','restecg','thalach','exang','oldpeak','slope','ca','thal'])\n",
        "df1 = pd.read_csv('/content/heart(303).csv',usecols=['target'])\n",
        "X,y = df,df1.target\n",
        "\n",
        "# get the models to evaluate\n",
        "models = get_models()\n",
        "\n",
        "# evaluate the models and store results\n",
        "results,results1,results2,results3,names= list(),list(),list(),list(),list()\n",
        "for name, model in models.items():\n",
        "  scores= evaluate_model(model)\n",
        "  scores1=evaluate_model(model)\n",
        "  scores2=evaluate_model(model)\n",
        "  scores3=evaluate_model(model)\n",
        "  results.append(scores)\n",
        "  results1.append(scores1)\n",
        "  results2.append(scores2)\n",
        "  results3.append(scores3)\n",
        "  names.append(name)\n",
        "  print('>%s -> %.3f (%.3f)' % (name+\"- Accuracy Score  \", mean(scores), std(scores)))\n",
        "  print('>%s -> %.3f (%.3f)' % (name+\"- Precision Score \", mean(scores1), std(scores1)))\n",
        "  print('>%s -> %.3f (%.3f)' % (name+\"- Recall Score    \", mean(scores2), std(scores2)))\n",
        "  print('>%s -> %.3f (%.3f)' % (name+\"- F1 Score        \", mean(scores3), std(scores3)))\n",
        "  print('\\n')"
      ],
      "execution_count": null,
      "outputs": []
    },
    {
      "cell_type": "code",
      "metadata": {
        "id": "7cWQIwa9ExOm"
      },
      "source": [
        "# get a stacking ensemble of models\n",
        "def get_stacking():\n",
        "  # define the base models\n",
        "  level0 = list()\n",
        "  level0.append(('cart', DecisionTreeClassifier()))\n",
        "  level0.append(('lr',LogisticRegression()))\n",
        "  level0.append(('knn',KNeighborsClassifier()))\n",
        "\n",
        "  # define meta learner model\n",
        "  level1 = RandomForestClassifier()\n",
        "\n",
        "  # define the stacking ensemble\n",
        "  model = StackingClassifier(estimators=level0, final_estimator=level1, cv=5)\n",
        "  return model\n",
        " \n",
        "# get a list of models to evaluate\n",
        "def get_models():\n",
        "  models = dict()\n",
        "  models['Decision tree'] = DecisionTreeClassifier()\n",
        "  models['LogisticRegression'] = LogisticRegression()\n",
        "  models['KNN'] = KNeighborsClassifier()\n",
        "  models['Stacking'] = get_stacking()\n",
        "  return models\n",
        " \n",
        "# evaluate a give model using cross-validation\n",
        "def evaluate_model(model):\n",
        "  cv = RepeatedStratifiedKFold(n_splits=10, n_repeats=3, random_state=1)\n",
        "  scores = cross_val_score(model, X, y, scoring='accuracy', cv=cv, n_jobs=-1, error_score='raise')\n",
        "  scores1 = cross_val_score(model, X, y, scoring='precision', cv=cv, n_jobs=-1, error_score='raise')\n",
        "  scores2 = cross_val_score(model, X, y, scoring='recall', cv=cv, n_jobs=-1, error_score='raise')\n",
        "  scores3 = cross_val_score(model, X, y, scoring='f1', cv=cv, n_jobs=-1, error_score='raise')\n",
        "  return scores,scores1,scores2,scores3\n",
        " \n",
        "# define dataset\n",
        "df = pd.read_csv('/content/heart(303).csv',usecols=['age','sex','cp','trestbps','chol','fbs','restecg','thalach','exang','oldpeak','slope','ca','thal'])\n",
        "df1 = pd.read_csv('/content/heart(303).csv',usecols=['target'])\n",
        "X,y = df,df1.target\n",
        "\n",
        "# get the models to evaluate\n",
        "models = get_models()\n",
        "\n",
        "# evaluate the models and store results\n",
        "results,results1,results2,results3,names= list(),list(),list(),list(),list()\n",
        "for name, model in models.items():\n",
        "  scores= evaluate_model(model)\n",
        "  scores1=evaluate_model(model)\n",
        "  scores2=evaluate_model(model)\n",
        "  scores3=evaluate_model(model)\n",
        "  results.append(scores)\n",
        "  results1.append(scores1)\n",
        "  results2.append(scores2)\n",
        "  results3.append(scores3)\n",
        "  names.append(name)\n",
        "  print('>%s -> %.3f (%.3f)' % (name+\"- Accuracy Score  \", mean(scores), std(scores)))\n",
        "  print('>%s -> %.3f (%.3f)' % (name+\"- Precision Score \", mean(scores1), std(scores1)))\n",
        "  print('>%s -> %.3f (%.3f)' % (name+\"- Recall Score    \", mean(scores2), std(scores2)))\n",
        "  print('>%s -> %.3f (%.3f)' % (name+\"- F1 Score        \", mean(scores3), std(scores3)))\n",
        "  print('\\n')\n",
        "  "
      ],
      "execution_count": null,
      "outputs": []
    },
    {
      "cell_type": "code",
      "metadata": {
        "id": "qRbW8ouKDiqu"
      },
      "source": [
        "# get a stacking ensemble of models\n",
        "def get_stacking():\n",
        "  # define the base models\n",
        "  level0 = list()\n",
        "  level0.append(('rf', RandomForestClassifier()))\n",
        "  level0.append(('knn',KNeighborsClassifier()))\n",
        "\n",
        "  # define meta learner model\n",
        "  level1 = LogisticRegression()\n",
        "\n",
        "  # define the stacking ensemble\n",
        "  model = StackingClassifier(estimators=level0, final_estimator=level1, cv=5)\n",
        "  return model\n",
        " \n",
        "# get a list of models to evaluate\n",
        "def get_models():\n",
        "  models = dict()\n",
        "  models['Random Forest'] = RandomForestClassifier()\n",
        "  models['KNN'] = KNeighborsClassifier()\n",
        "  models['Stacking'] = get_stacking()\n",
        "  return models\n",
        " \n",
        "# evaluate a give model using cross-validation\n",
        "def evaluate_model(model):\n",
        "  cv = RepeatedStratifiedKFold(n_splits=10, n_repeats=3, random_state=1)\n",
        "  scores = cross_val_score(model, X, y, scoring='accuracy', cv=cv, n_jobs=-1, error_score='raise')\n",
        "  scores1 = cross_val_score(model, X, y, scoring='precision', cv=cv, n_jobs=-1, error_score='raise')\n",
        "  scores2 = cross_val_score(model, X, y, scoring='recall', cv=cv, n_jobs=-1, error_score='raise')\n",
        "  scores3 = cross_val_score(model, X, y, scoring='f1', cv=cv, n_jobs=-1, error_score='raise')\n",
        "  return scores,scores1,scores2,scores3\n",
        " \n",
        "# define dataset\n",
        "df = pd.read_csv('/content/heart(303).csv',usecols=['age','sex','cp','trestbps','chol','fbs','restecg','thalach','exang','oldpeak','slope','ca','thal'])\n",
        "df1 = pd.read_csv('/content/heart(303).csv',usecols=['target'])\n",
        "X,y = df,df1.target\n",
        "\n",
        "# get the models to evaluate\n",
        "models = get_models()\n",
        "\n",
        "# evaluate the models and store results\n",
        "results,results1,results2,results3,names= list(),list(),list(),list(),list()\n",
        "for name, model in models.items():\n",
        "  scores= evaluate_model(model)\n",
        "  scores1=evaluate_model(model)\n",
        "  scores2=evaluate_model(model)\n",
        "  scores3=evaluate_model(model)\n",
        "  results.append(scores)\n",
        "  results1.append(scores1)\n",
        "  results2.append(scores2)\n",
        "  results3.append(scores3)\n",
        "  names.append(name)\n",
        "  print('>%s -> %.3f (%.3f)' % (name+\"- Accuracy Score  \", mean(scores), std(scores)))\n",
        "  print('>%s -> %.3f (%.3f)' % (name+\"- Precision Score \", mean(scores1), std(scores1)))\n",
        "  print('>%s -> %.3f (%.3f)' % (name+\"- Recall Score    \", mean(scores2), std(scores2)))\n",
        "  print('>%s -> %.3f (%.3f)' % (name+\"- F1 Score        \", mean(scores3), std(scores3)))\n",
        "  print('\\n')\n",
        "  "
      ],
      "execution_count": null,
      "outputs": []
    },
    {
      "cell_type": "markdown",
      "metadata": {
        "id": "Ez0GR0hf-aQU"
      },
      "source": [
        "# **LEVEL - 3**"
      ]
    },
    {
      "cell_type": "code",
      "metadata": {
        "id": "KXb1zwl8E9UE"
      },
      "source": [
        "from sklearn.ensemble import RandomForestClassifier, StackingClassifier\n",
        "from sklearn.linear_model import LogisticRegression\n",
        "from sklearn.neighbors import KNeighborsClassifier\n",
        "from sklearn.tree import DecisionTreeClassifier\n",
        "\n",
        "# Create Learners per layer\n",
        "layer_one_estimators = [\n",
        "                        ('rf_1', RandomForestClassifier(n_estimators=10, random_state=42)),\n",
        "                        ('knn_1', KNeighborsClassifier(n_neighbors=5))             \n",
        "                       ]\n",
        "layer_two_estimators = [\n",
        "                        ('dt_2', DecisionTreeClassifier()),\n",
        "                        ('rf_2', RandomForestClassifier(n_estimators=50, random_state=42)),\n",
        "                       ]\n",
        "layer_two = StackingClassifier(estimators=layer_two_estimators, final_estimator= LogisticRegression())\n",
        "\n",
        "# Create Final model by \n",
        "clf = StackingClassifier(estimators=layer_one_estimators, final_estimator=layer_two)\n",
        "\n",
        "print('\\n ------------ Prediction of Stacking for training dataset ------------')\n",
        "clf.fit(x_train, y_train)\n",
        "Stacking = clf.predict(x_train)\n",
        "Stacking_accuracy = accuracy_score(y_train, Stacking)\n",
        "Stacking_precision = precision_score(y_train, Stacking)\n",
        "Stacking_recall_score = recall_score(y_train,Stacking)\n",
        "Stacking_f1_score = f1_score(y_train,Stacking)\n",
        "print('\\n ACCURACY SCORE  : ', accuracy_score(y_train, Stacking))\n",
        "print('\\n PRECISION SCORE : ', precision_score(y_train, Stacking))\n",
        "print('\\n RECALL SCORE : ', Stacking_recall_score)\n",
        "print('\\n F1 SCORE : ', Stacking_f1_score)\n",
        "\n",
        "print('\\n ------------ Prediction of Stacking for testing dataset ------------')\n",
        "clf.fit(x_test, y_test)\n",
        "Stacking = clf.predict(x_test)\n",
        "Stacking_accuracy = accuracy_score(y_test, Stacking)\n",
        "Stacking_precision = precision_score(y_test, Stacking)\n",
        "Stacking_recall_score = recall_score(y_test,Stacking)\n",
        "Stacking_f1_score = f1_score(y_test,Stacking)\n",
        "print('\\n ACCURACY SCORE  : ', accuracy_score(y_test, Stacking))\n",
        "print('\\n PRECISION SCORE : ', precision_score(y_test, Stacking))\n",
        "print('\\n RECALL SCORE : ', Stacking_recall_score)\n",
        "print('\\n F1 SCORE : ', Stacking_f1_score)"
      ],
      "execution_count": null,
      "outputs": []
    },
    {
      "cell_type": "markdown",
      "metadata": {
        "id": "jIrEhmwpZev_"
      },
      "source": [
        "# **DEEP NEURAL NETWORK**"
      ]
    },
    {
      "cell_type": "code",
      "metadata": {
        "id": "qN_p7oeobHh0"
      },
      "source": [
        "import random\n",
        "import keras\n",
        "from keras.models import Sequential\n",
        "from keras.layers import Dense, Activation, Dropout\n",
        "import tensorflow as tf\n",
        "from keras.utils.vis_utils import plot_model"
      ],
      "execution_count": null,
      "outputs": []
    },
    {
      "cell_type": "code",
      "metadata": {
        "id": "R-0_OZlXZ2ER"
      },
      "source": [
        "# define the keras model\n",
        "model = Sequential()\n",
        "model.add(Dense(12, input_dim=13, activation='relu'))\n",
        "model.add(Dense(13, activation='relu'))\n",
        "model.add(Dense(1, activation='sigmoid'))\n",
        "#model1 = Sequential()\n",
        "#model1.add(Dense(500, input_dim=11, activation='relu'))\n",
        "#model1.add(Dense(500, input_dim=200, activation='relu'))\n",
        "#model1.add(Dense(320, input_dim=200, activation='relu'))\n",
        "#model1.add(Dense(1, activation='tanh'))\n"
      ],
      "execution_count": null,
      "outputs": []
    },
    {
      "cell_type": "code",
      "metadata": {
        "id": "CooizELc-b4U"
      },
      "source": [
        "train_indices = int(0.9 * df.shape[0])\n",
        "x_train, x_val, y_train, y_val = (\n",
        "    x[:train_indices],\n",
        "    x[train_indices:],\n",
        "    y[:train_indices],\n",
        "    y[train_indices:],\n",
        ")"
      ],
      "execution_count": null,
      "outputs": []
    },
    {
      "cell_type": "code",
      "metadata": {
        "id": "4e3F_YaBZ_T0"
      },
      "source": [
        "# compile the keras model\n",
        "model.compile(loss='binary_crossentropy', optimizer='adam', metrics=['accuracy',tf.keras.metrics.Recall(),tf.keras.metrics.Precision()])\n",
        "#,tf.keras.metrics.Recall()\n"
      ],
      "execution_count": null,
      "outputs": []
    },
    {
      "cell_type": "code",
      "metadata": {
        "id": "xmScvzrSaIF5"
      },
      "source": [
        "# fit the keras model on the dataset\n",
        "kera=model.fit(x_train, y_train, epochs=80, batch_size=13,validation_data=(x_val, y_val))\n",
        "#kera=model.fit(x, y, epochs=150, batch_size=13)"
      ],
      "execution_count": null,
      "outputs": []
    },
    {
      "cell_type": "code",
      "metadata": {
        "id": "iXoIXw2i-sne"
      },
      "source": [
        "# evaluate the keras model\n",
        "_, DNNaccuracy,recall,precision = model.evaluate(x_test, y_test)\n",
        "print('Accuracy: %.2f' % (DNNaccuracy*100))\n",
        "print('recall: %.2f' % (recall*100))\n",
        "print('precision: %.2f' % (precision*100))\n",
        "F1 = 2 * (precision * recall) / (precision + recall)\n",
        "print('F1 score: %.2f' % (F1))\n"
      ],
      "execution_count": null,
      "outputs": []
    },
    {
      "cell_type": "code",
      "metadata": {
        "id": "fubyy0VSgLbs"
      },
      "source": [
        "myTable = PrettyTable([\"METRICS\", \"ACCURACY\",\"PRECISION SCORE\",\"RECALL SCORE\"]) \n",
        "  \n",
        "# Add rows \n",
        "myTable.add_row([\"DNN\",DNNaccuracy,precision,recall])\n",
        "print(myTable)"
      ],
      "execution_count": null,
      "outputs": []
    },
    {
      "cell_type": "code",
      "metadata": {
        "id": "lIThMYfKa3eD"
      },
      "source": [
        "kera.history\n",
        "kera.history['accuracy']\n",
        "np.mean(kera.history['accuracy'])"
      ],
      "execution_count": null,
      "outputs": []
    },
    {
      "cell_type": "code",
      "metadata": {
        "id": "gpNZvgu6ba2R"
      },
      "source": [
        "model.summary()"
      ],
      "execution_count": null,
      "outputs": []
    },
    {
      "cell_type": "code",
      "metadata": {
        "id": "nTbYye1rbfcU"
      },
      "source": [
        "plot_model(model, to_file='mlp-mnist.png', show_shapes=True)"
      ],
      "execution_count": null,
      "outputs": []
    },
    {
      "cell_type": "code",
      "metadata": {
        "id": "qSrOKhR0bloB"
      },
      "source": [
        "plt.plot(kera.history[\"loss\"])\n",
        "plt.plot(kera.history[\"val_loss\"])\n",
        "plt.title(\"model loss\")\n",
        "plt.ylabel(\"loss\")\n",
        "plt.xlabel(\"epoch\")\n",
        "plt.legend([\"train\", \"test\"], loc=\"upper left\")\n",
        "plt.show()"
      ],
      "execution_count": null,
      "outputs": []
    },
    {
      "cell_type": "code",
      "metadata": {
        "id": "baqOgSjvbrqu"
      },
      "source": [
        "plt.plot(kera.history['accuracy'])\n",
        "plt.plot(kera.history['val_accuracy'])\n",
        "plt.title('model accuracy')\n",
        "plt.ylabel('accuracy')\n",
        "plt.xlabel('epoch')\n",
        "plt.legend(['train', 'test'], loc='upper left')\n",
        "plt.show()"
      ],
      "execution_count": null,
      "outputs": []
    },
    {
      "cell_type": "code",
      "metadata": {
        "id": "WXMsjj86YMIL"
      },
      "source": [
        "print(\"The prediction value for DNN Method : \")\n",
        "print(kera)"
      ],
      "execution_count": null,
      "outputs": []
    }
  ]
}