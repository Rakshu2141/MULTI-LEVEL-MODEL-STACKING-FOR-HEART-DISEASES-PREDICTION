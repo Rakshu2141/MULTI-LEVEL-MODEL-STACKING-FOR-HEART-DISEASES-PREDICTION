{
  "cells": [
    {
      "cell_type": "markdown",
      "metadata": {
        "id": "RWYAx5HYrMRq"
      },
      "source": [
        "# **IMPORTING REQUIRED LIBRARIES**\n",
        "\n",
        "\n"
      ]
    },
    {
      "cell_type": "code",
      "execution_count": null,
      "metadata": {
        "id": "X3Ew3H2NrPkO"
      },
      "outputs": [],
      "source": [
        "import pandas as pd\n",
        "import numpy as np \n",
        "import seaborn as sns \n",
        "import matplotlib.pyplot as plt\n",
        "import warnings\n",
        "import random\n",
        "import pydotplus\n",
        "\n",
        "warnings.filterwarnings('ignore') \n",
        "%matplotlib inline\n",
        "\n",
        "from sklearn import preprocessing\n",
        "from sklearn.model_selection import train_test_split \n",
        "from sklearn.preprocessing import StandardScaler  \n",
        "from sklearn.neighbors import KNeighborsClassifier\n",
        "from sklearn.svm import SVC\n",
        "from sklearn.tree import DecisionTreeClassifier\n",
        "from sklearn.ensemble import RandomForestClassifier\n",
        "from sklearn.linear_model import LogisticRegression\n",
        "from sklearn.naive_bayes import GaussianNB\n",
        "from sklearn.preprocessing import StandardScaler\n",
        "from sklearn.tree import export_graphviz\n",
        "from six import StringIO  \n",
        "from IPython.display import Image  \n",
        "from pylab import rcParams \n",
        "from matplotlib.cm import rainbow\n",
        "from prettytable import PrettyTable \n",
        "# from sklearn.metrics import jaccard_similarity_score\n",
        "from sklearn.preprocessing import MinMaxScaler\n",
        "from sklearn.metrics import accuracy_score, f1_score, precision_score, recall_score, classification_report, confusion_matrix\n",
        "\n",
        "#Reena Prabha M"
      ]
    },
    {
      "cell_type": "markdown",
      "metadata": {
        "id": "BpR5l3HKrWNd"
      },
      "source": [
        "# **IMPORTING THE DATASET**"
      ]
    },
    {
      "cell_type": "code",
      "execution_count": null,
      "metadata": {
        "colab": {
          "base_uri": "https://localhost:8080/"
        },
        "id": "aZzdjx5Dd_K5",
        "outputId": "672f3c09-df11-4c4f-d59a-64e0f2d02ccf"
      },
      "outputs": [
        {
          "output_type": "execute_result",
          "data": {
            "text/html": [
              "<div>\n",
              "<style scoped>\n",
              "    .dataframe tbody tr th:only-of-type {\n",
              "        vertical-align: middle;\n",
              "    }\n",
              "\n",
              "    .dataframe tbody tr th {\n",
              "        vertical-align: top;\n",
              "    }\n",
              "\n",
              "    .dataframe thead th {\n",
              "        text-align: right;\n",
              "    }\n",
              "</style>\n",
              "<table border=\"1\" class=\"dataframe\">\n",
              "  <thead>\n",
              "    <tr style=\"text-align: right;\">\n",
              "      <th></th>\n",
              "      <th>id</th>\n",
              "      <th>age</th>\n",
              "      <th>gender</th>\n",
              "      <th>height</th>\n",
              "      <th>weight</th>\n",
              "      <th>ap_hi</th>\n",
              "      <th>ap_lo</th>\n",
              "      <th>cholesterol</th>\n",
              "      <th>gluc</th>\n",
              "      <th>smoke</th>\n",
              "      <th>alco</th>\n",
              "      <th>active</th>\n",
              "      <th>cardio</th>\n",
              "      <th>target</th>\n",
              "    </tr>\n",
              "  </thead>\n",
              "  <tbody>\n",
              "    <tr>\n",
              "      <th>0</th>\n",
              "      <td>0</td>\n",
              "      <td>18393</td>\n",
              "      <td>2</td>\n",
              "      <td>168</td>\n",
              "      <td>62</td>\n",
              "      <td>0</td>\n",
              "      <td>110</td>\n",
              "      <td>80</td>\n",
              "      <td>1</td>\n",
              "      <td>1</td>\n",
              "      <td>0</td>\n",
              "      <td>0</td>\n",
              "      <td>1</td>\n",
              "      <td>0</td>\n",
              "    </tr>\n",
              "    <tr>\n",
              "      <th>1</th>\n",
              "      <td>1</td>\n",
              "      <td>20228</td>\n",
              "      <td>1</td>\n",
              "      <td>156</td>\n",
              "      <td>85</td>\n",
              "      <td>0</td>\n",
              "      <td>140</td>\n",
              "      <td>90</td>\n",
              "      <td>3</td>\n",
              "      <td>1</td>\n",
              "      <td>0</td>\n",
              "      <td>0</td>\n",
              "      <td>1</td>\n",
              "      <td>1</td>\n",
              "    </tr>\n",
              "    <tr>\n",
              "      <th>2</th>\n",
              "      <td>2</td>\n",
              "      <td>18857</td>\n",
              "      <td>1</td>\n",
              "      <td>165</td>\n",
              "      <td>64</td>\n",
              "      <td>0</td>\n",
              "      <td>130</td>\n",
              "      <td>70</td>\n",
              "      <td>3</td>\n",
              "      <td>1</td>\n",
              "      <td>0</td>\n",
              "      <td>0</td>\n",
              "      <td>0</td>\n",
              "      <td>1</td>\n",
              "    </tr>\n",
              "    <tr>\n",
              "      <th>3</th>\n",
              "      <td>3</td>\n",
              "      <td>17623</td>\n",
              "      <td>2</td>\n",
              "      <td>169</td>\n",
              "      <td>82</td>\n",
              "      <td>0</td>\n",
              "      <td>150</td>\n",
              "      <td>100</td>\n",
              "      <td>1</td>\n",
              "      <td>1</td>\n",
              "      <td>0</td>\n",
              "      <td>0</td>\n",
              "      <td>1</td>\n",
              "      <td>1</td>\n",
              "    </tr>\n",
              "    <tr>\n",
              "      <th>4</th>\n",
              "      <td>4</td>\n",
              "      <td>17474</td>\n",
              "      <td>1</td>\n",
              "      <td>156</td>\n",
              "      <td>56</td>\n",
              "      <td>0</td>\n",
              "      <td>100</td>\n",
              "      <td>60</td>\n",
              "      <td>1</td>\n",
              "      <td>1</td>\n",
              "      <td>0</td>\n",
              "      <td>0</td>\n",
              "      <td>0</td>\n",
              "      <td>0</td>\n",
              "    </tr>\n",
              "  </tbody>\n",
              "</table>\n",
              "</div>"
            ],
            "text/plain": [
              "   id    age  gender  height  weight  ...  smoke  alco  active  cardio  target\n",
              "0   0  18393       2     168      62  ...      1     0       0       1       0\n",
              "1   1  20228       1     156      85  ...      1     0       0       1       1\n",
              "2   2  18857       1     165      64  ...      1     0       0       0       1\n",
              "3   3  17623       2     169      82  ...      1     0       0       1       1\n",
              "4   4  17474       1     156      56  ...      1     0       0       0       0\n",
              "\n",
              "[5 rows x 14 columns]"
            ]
          },
          "metadata": {},
          "execution_count": 2
        }
      ],
      "source": [
        "#importing the dataset\n",
        "df = pd.read_csv('/content/cardio_train.csv')\n",
        "df = pd.DataFrame(df)\n",
        "df.head()"
      ]
    },
    {
      "cell_type": "code",
      "execution_count": null,
      "metadata": {
        "colab": {
          "base_uri": "https://localhost:8080/"
        },
        "id": "KD-1MJzWnW3M",
        "outputId": "ee857d2e-01c5-4cd0-deba-2a762c6f959d"
      },
      "outputs": [
        {
          "output_type": "execute_result",
          "data": {
            "text/plain": [
              "(70000, 14)"
            ]
          },
          "metadata": {},
          "execution_count": 3
        }
      ],
      "source": [
        "#specifies rows and columns\n",
        "df.shape\n"
      ]
    },
    {
      "cell_type": "code",
      "execution_count": null,
      "metadata": {
        "colab": {
          "base_uri": "https://localhost:8080/"
        },
        "id": "FFZE1swNrqXA",
        "outputId": "4ddc3924-6cdc-4214-d131-062da19571fd"
      },
      "outputs": [
        {
          "output_type": "display_data",
          "data": {
            "image/png": "[encoded data removed]",
            "text/plain": [
              "<Figure size 432x288 with 1 Axes>"
            ]
          },
          "metadata": {
            "needs_background": "light"
          }
        }
      ],
      "source": [
        "#to check if the data is balanced\n",
        "sns.countplot(df['target'],palette=['#432371',\"#FAAE7B\"])#Show the counts of observations\n",
        "plt.show()\n"
      ]
    },
    {
      "cell_type": "code",
      "execution_count": null,
      "metadata": {
        "colab": {
          "base_uri": "https://localhost:8080/"
        },
        "id": "g3TfDNf2mDkm",
        "outputId": "90f46ba9-ae11-4470-ddac-2f0c399ceeda"
      },
      "outputs": [
        {
          "output_type": "stream",
          "name": "stdout",
          "text": [
            "Null values :: \n",
            "id             0\n",
            "age            0\n",
            "gender         0\n",
            "height         0\n",
            "weight         0\n",
            "ap_hi          0\n",
            "ap_lo          0\n",
            "cholesterol    0\n",
            "gluc           0\n",
            "smoke          0\n",
            "alco           0\n",
            "active         0\n",
            "cardio         0\n",
            "target         0\n",
            "dtype: int64\n"
          ]
        }
      ],
      "source": [
        "print(\"Null values :: \")\n",
        "print(df.isnull() .sum())\n"
      ]
    },
    {
      "cell_type": "markdown",
      "metadata": {
        "id": "bwLR6fD4jfFE"
      },
      "source": [
        "DUPLICATION CHECK"
      ]
    },
    {
      "cell_type": "code",
      "execution_count": null,
      "metadata": {
        "id": "-QI8eq72hthf"
      },
      "outputs": [],
      "source": [
        "#Check duplicate rows in data\n",
        "# duplicate_rows = df[df.duplicated()]\n",
        "# print(\"Number of duplicate rows :: \", duplicate_rows.shape)\n",
        "# print(duplicate_rows)\n"
      ]
    },
    {
      "cell_type": "code",
      "execution_count": null,
      "metadata": {
        "id": "_kj4Oa7HjGzW"
      },
      "outputs": [],
      "source": [
        "# #Removing the duplicate row\n",
        "# df = df.drop_duplicates()\n",
        "# duplicate_rows = df[df.duplicated()]\n",
        "# print(\"Number of duplicate rows :: \", duplicate_rows.shape)\n",
        "# print(duplicate_rows)\n"
      ]
    },
    {
      "cell_type": "code",
      "execution_count": null,
      "metadata": {
        "colab": {
          "base_uri": "https://localhost:8080/"
        },
        "id": "4KFpo5CkgOeK",
        "outputId": "16c55790-8791-48f5-83ae-23b49b4a30ce"
      },
      "outputs": [
        {
          "output_type": "stream",
          "name": "stdout",
          "text": [
            "<class 'pandas.core.frame.DataFrame'>\n",
            "RangeIndex: 70000 entries, 0 to 69999\n",
            "Data columns (total 14 columns):\n",
            " #   Column       Non-Null Count  Dtype\n",
            "---  ------       --------------  -----\n",
            " 0   id           70000 non-null  int64\n",
            " 1   age          70000 non-null  int64\n",
            " 2   gender       70000 non-null  int64\n",
            " 3   height       70000 non-null  int64\n",
            " 4   weight       70000 non-null  int64\n",
            " 5   ap_hi        70000 non-null  int64\n",
            " 6   ap_lo        70000 non-null  int64\n",
            " 7   cholesterol  70000 non-null  int64\n",
            " 8   gluc         70000 non-null  int64\n",
            " 9   smoke        70000 non-null  int64\n",
            " 10  alco         70000 non-null  int64\n",
            " 11  active       70000 non-null  int64\n",
            " 12  cardio       70000 non-null  int64\n",
            " 13  target       70000 non-null  int64\n",
            "dtypes: int64(14)\n",
            "memory usage: 7.5 MB\n"
          ]
        }
      ],
      "source": [
        "df.info()\n"
      ]
    },
    {
      "cell_type": "markdown",
      "metadata": {
        "id": "VUgqsHsM1QdH"
      },
      "source": [
        "# **CORRELATION MATRIX**"
      ]
    },
    {
      "cell_type": "code",
      "execution_count": null,
      "metadata": {
        "colab": {
          "base_uri": "https://localhost:8080/"
        },
        "id": "wHKMHwvLQ5JU",
        "outputId": "1dbc6761-16f9-4390-b78a-199b7f5254bf"
      },
      "outputs": [
        {
          "output_type": "display_data",
          "data": {
            "image/png": "[encoded data removed]",
            "text/plain": [
              "<Figure size 1440x720 with 2 Axes>"
            ]
          },
          "metadata": {
            "needs_background": "light"
          }
        }
      ],
      "source": [
        "#Visualization of Correlation of attributes with HeatMap \n",
        "plt.figure(figsize = (20,10))\n",
        "c = df.corr()\n",
        "sns.heatmap(c, cmap = 'RdBu', annot = True)\n",
        "plt.show()\n"
      ]
    },
    {
      "cell_type": "markdown",
      "metadata": {
        "id": "wcDtRZmJ2_pQ"
      },
      "source": [
        "# **ONE HOT ENCODING**"
      ]
    },
    {
      "cell_type": "code",
      "execution_count": null,
      "metadata": {
        "id": "X_XheQI33Af0"
      },
      "outputs": [],
      "source": [
        "x= df.iloc[:,:-1] \n",
        "y= df.iloc[:,-1] \n",
        "\n",
        "#df = pd.get_dummies(df, columns = ['cp','restecg','slope','ca','thal'])\n",
        "\n",
        "# standardScaler = StandardScaler() #removes the mean and scales each feature/variable to unit variance.\n",
        "# columns_to_scale = ['age','trestbps','chol','thalach','exang','oldpeak']\n",
        "# df[columns_to_scale] = standardScaler.fit_transform(df[columns_to_scale])#fit_transform() is used for the initial fitting of parameters on the training set x, while also returning the transformed x\n",
        "# display(df)\n"
      ]
    },
    {
      "cell_type": "code",
      "execution_count": null,
      "metadata": {
        "colab": {
          "base_uri": "https://localhost:8080/"
        },
        "id": "BPkCqGerY2sM",
        "outputId": "a3a30824-da2e-4e0a-f02e-2c501259a895"
      },
      "outputs": [
        {
          "output_type": "display_data",
          "data": {
            "image/png": "[encoded data removed]",
            "text/plain": [
              "<Figure size 1080x1080 with 16 Axes>"
            ]
          },
          "metadata": {
            "needs_background": "light"
          }
        }
      ],
      "source": [
        "df.hist(figsize=(15, 15),color='#ff7994',edgecolor='purple')\n",
        "plt.show()"
      ]
    },
    {
      "cell_type": "markdown",
      "metadata": {
        "id": "eirGD1Lc5lx5"
      },
      "source": [
        "# **FEATURE SELCTION** "
      ]
    },
    {
      "cell_type": "markdown",
      "metadata": {
        "id": "MMNcccDU6SAd"
      },
      "source": [
        "Pearson"
      ]
    },
    {
      "cell_type": "code",
      "execution_count": null,
      "metadata": {
        "colab": {
          "base_uri": "https://localhost:8080/"
        },
        "id": "uPa4l_vw5sNR",
        "outputId": "606a5d54-abce-47a5-ec5c-6f53acfe18c6"
      },
      "outputs": [
        {
          "output_type": "execute_result",
          "data": {
            "text/plain": [
              "age       0.238159\n",
              "weight    0.181657\n",
              "gluc      0.221147\n",
              "target    1.000000\n",
              "Name: target, dtype: float64"
            ]
          },
          "metadata": {},
          "execution_count": 12
        }
      ],
      "source": [
        "#Correlation with output variable\n",
        "c_target = abs(c[\"target\"])\n",
        "#Selecting highly correlated features\n",
        "relevant_features = c_target[c_target>0.1]\n",
        "relevant_features"
      ]
    },
    {
      "cell_type": "code",
      "execution_count": null,
      "metadata": {
        "colab": {
          "base_uri": "https://localhost:8080/"
        },
        "id": "VCohPYmp_xAE",
        "outputId": "52e1c78f-6d7a-4e59-a09b-b623651c1e4e"
      },
      "outputs": [
        {
          "output_type": "execute_result",
          "data": {
            "text/html": [
              "<div>\n",
              "<style scoped>\n",
              "    .dataframe tbody tr th:only-of-type {\n",
              "        vertical-align: middle;\n",
              "    }\n",
              "\n",
              "    .dataframe tbody tr th {\n",
              "        vertical-align: top;\n",
              "    }\n",
              "\n",
              "    .dataframe thead th {\n",
              "        text-align: right;\n",
              "    }\n",
              "</style>\n",
              "<table border=\"1\" class=\"dataframe\">\n",
              "  <thead>\n",
              "    <tr style=\"text-align: right;\">\n",
              "      <th></th>\n",
              "      <th>age</th>\n",
              "      <th>weight</th>\n",
              "      <th>gluc</th>\n",
              "      <th>target</th>\n",
              "    </tr>\n",
              "  </thead>\n",
              "  <tbody>\n",
              "    <tr>\n",
              "      <th>0</th>\n",
              "      <td>18393</td>\n",
              "      <td>62</td>\n",
              "      <td>1</td>\n",
              "      <td>0</td>\n",
              "    </tr>\n",
              "    <tr>\n",
              "      <th>1</th>\n",
              "      <td>20228</td>\n",
              "      <td>85</td>\n",
              "      <td>3</td>\n",
              "      <td>1</td>\n",
              "    </tr>\n",
              "    <tr>\n",
              "      <th>2</th>\n",
              "      <td>18857</td>\n",
              "      <td>64</td>\n",
              "      <td>3</td>\n",
              "      <td>1</td>\n",
              "    </tr>\n",
              "    <tr>\n",
              "      <th>3</th>\n",
              "      <td>17623</td>\n",
              "      <td>82</td>\n",
              "      <td>1</td>\n",
              "      <td>1</td>\n",
              "    </tr>\n",
              "    <tr>\n",
              "      <th>4</th>\n",
              "      <td>17474</td>\n",
              "      <td>56</td>\n",
              "      <td>1</td>\n",
              "      <td>0</td>\n",
              "    </tr>\n",
              "  </tbody>\n",
              "</table>\n",
              "</div>"
            ],
            "text/plain": [
              "     age  weight  gluc  target\n",
              "0  18393      62     1       0\n",
              "1  20228      85     3       1\n",
              "2  18857      64     3       1\n",
              "3  17623      82     1       1\n",
              "4  17474      56     1       0"
            ]
          },
          "metadata": {},
          "execution_count": 13
        }
      ],
      "source": [
        "df = df[[\"age\",\"weight\",\"gluc\",\"target\"]]\n",
        "df.head()"
      ]
    },
    {
      "cell_type": "markdown",
      "metadata": {
        "id": "gcxlNW8X6Zyv"
      },
      "source": [
        "Lasso"
      ]
    },
    {
      "cell_type": "code",
      "execution_count": null,
      "metadata": {
        "id": "5BbfBMdr6cOF"
      },
      "outputs": [],
      "source": [
        "import numpy as np\n",
        "import pandas as pd\n",
        "from sklearn.preprocessing import StandardScaler\n",
        "from sklearn.pipeline import Pipeline\n",
        "from sklearn.model_selection import train_test_split, GridSearchCV\n",
        "from sklearn.linear_model import Lasso"
      ]
    },
    {
      "cell_type": "code",
      "source": [
        "pipeline = Pipeline([\n",
        "                     ('scaler',StandardScaler()),\n",
        "                     ('model',Lasso())\n",
        "])"
      ],
      "metadata": {
        "id": "YF2QQEXhu3xZ"
      },
      "execution_count": null,
      "outputs": []
    },
    {
      "cell_type": "code",
      "source": [
        "search = GridSearchCV(pipeline,\n",
        "                      {'model__alpha':np.arange(0.1,10,0.1)},\n",
        "                      cv = 5, scoring=\"neg_mean_squared_error\",verbose=3\n",
        "                      )"
      ],
      "metadata": {
        "id": "UeNNjqZPu54b"
      },
      "execution_count": null,
      "outputs": []
    },
    {
      "cell_type": "code",
      "source": [
        "search.fit(x_train,y_train)"
      ],
      "metadata": {
        "id": "zj1GDueWu8aQ"
      },
      "execution_count": null,
      "outputs": []
    },
    {
      "cell_type": "code",
      "source": [
        "search.best_params_"
      ],
      "metadata": {
        "id": "J7UrfRZXvAu2"
      },
      "execution_count": null,
      "outputs": []
    },
    {
      "cell_type": "code",
      "source": [
        "coefficients = search.best_estimator_.named_steps['model'].coef_"
      ],
      "metadata": {
        "id": "r4PTPGz0vDpa"
      },
      "execution_count": null,
      "outputs": []
    },
    {
      "cell_type": "code",
      "source": [
        "importance = np.abs(coefficients)"
      ],
      "metadata": {
        "id": "Lwre5sVOvFzR"
      },
      "execution_count": null,
      "outputs": []
    },
    {
      "cell_type": "code",
      "source": [
        "print(importance)"
      ],
      "metadata": {
        "id": "K1zPnnDSvH6U"
      },
      "execution_count": null,
      "outputs": []
    },
    {
      "cell_type": "code",
      "source": [
        "df = df[[\"age\",\"sex\",\"cp\",\"trestbps\",\"fbs\",\"restecg\",\"slope\",\"target\"]]\n",
        "df.head()"
      ],
      "metadata": {
        "id": "IPAw6ZTuvJ8E"
      },
      "execution_count": null,
      "outputs": []
    },
    {
      "cell_type": "code",
      "source": [
        "df.hist(figsize=(15, 15),color='#ff7994',edgecolor='purple')\n",
        "plt.show()"
      ],
      "metadata": {
        "id": "XO0LNyVtvVlS"
      },
      "execution_count": null,
      "outputs": []
    },
    {
      "cell_type": "code",
      "source": [
        "x= df.iloc[:,:-1] \n",
        "y= df.iloc[:,-1] "
      ],
      "metadata": {
        "id": "3_YjOkuevhz_"
      },
      "execution_count": null,
      "outputs": []
    },
    {
      "cell_type": "code",
      "source": [
        "random.seed(10) \n",
        "x_train, x_test, y_train, y_test= train_test_split(x, y, test_size= 0.2, random_state=10)\n",
        "st_x= StandardScaler()    \n",
        "x_train= st_x.fit_transform(x_train)    \n",
        "x_test= st_x.transform(x_test) "
      ],
      "metadata": {
        "id": "LJWWkILKviiX"
      },
      "execution_count": null,
      "outputs": []
    },
    {
      "cell_type": "markdown",
      "metadata": {
        "id": "z0T4X8YDGhhJ"
      },
      "source": [
        "# **NORMALIZATION**"
      ]
    },
    {
      "cell_type": "code",
      "execution_count": null,
      "metadata": {
        "colab": {
          "base_uri": "https://localhost:8080/"
        },
        "id": "pHn-abSwxiDn",
        "outputId": "bc1a35f1-ff2b-4ce9-bd6b-8736776fdef8"
      },
      "outputs": [
        {
          "output_type": "display_data",
          "data": {
            "text/html": [
              "<div>\n",
              "<style scoped>\n",
              "    .dataframe tbody tr th:only-of-type {\n",
              "        vertical-align: middle;\n",
              "    }\n",
              "\n",
              "    .dataframe tbody tr th {\n",
              "        vertical-align: top;\n",
              "    }\n",
              "\n",
              "    .dataframe thead th {\n",
              "        text-align: right;\n",
              "    }\n",
              "</style>\n",
              "<table border=\"1\" class=\"dataframe\">\n",
              "  <thead>\n",
              "    <tr style=\"text-align: right;\">\n",
              "      <th></th>\n",
              "      <th>age</th>\n",
              "      <th>weight</th>\n",
              "      <th>gluc</th>\n",
              "      <th>target</th>\n",
              "    </tr>\n",
              "  </thead>\n",
              "  <tbody>\n",
              "    <tr>\n",
              "      <th>0</th>\n",
              "      <td>0.588076</td>\n",
              "      <td>0.273684</td>\n",
              "      <td>0.0</td>\n",
              "      <td>0.0</td>\n",
              "    </tr>\n",
              "    <tr>\n",
              "      <th>1</th>\n",
              "      <td>0.730159</td>\n",
              "      <td>0.394737</td>\n",
              "      <td>1.0</td>\n",
              "      <td>1.0</td>\n",
              "    </tr>\n",
              "    <tr>\n",
              "      <th>2</th>\n",
              "      <td>0.624003</td>\n",
              "      <td>0.284211</td>\n",
              "      <td>1.0</td>\n",
              "      <td>1.0</td>\n",
              "    </tr>\n",
              "    <tr>\n",
              "      <th>3</th>\n",
              "      <td>0.528455</td>\n",
              "      <td>0.378947</td>\n",
              "      <td>0.0</td>\n",
              "      <td>1.0</td>\n",
              "    </tr>\n",
              "    <tr>\n",
              "      <th>4</th>\n",
              "      <td>0.516918</td>\n",
              "      <td>0.242105</td>\n",
              "      <td>0.0</td>\n",
              "      <td>0.0</td>\n",
              "    </tr>\n",
              "    <tr>\n",
              "      <th>...</th>\n",
              "      <td>...</td>\n",
              "      <td>...</td>\n",
              "      <td>...</td>\n",
              "      <td>...</td>\n",
              "    </tr>\n",
              "    <tr>\n",
              "      <th>69995</th>\n",
              "      <td>0.653659</td>\n",
              "      <td>0.347368</td>\n",
              "      <td>0.0</td>\n",
              "      <td>0.0</td>\n",
              "    </tr>\n",
              "    <tr>\n",
              "      <th>69996</th>\n",
              "      <td>0.913899</td>\n",
              "      <td>0.610526</td>\n",
              "      <td>0.5</td>\n",
              "      <td>1.0</td>\n",
              "    </tr>\n",
              "    <tr>\n",
              "      <th>69997</th>\n",
              "      <td>0.640186</td>\n",
              "      <td>0.500000</td>\n",
              "      <td>1.0</td>\n",
              "      <td>1.0</td>\n",
              "    </tr>\n",
              "    <tr>\n",
              "      <th>69998</th>\n",
              "      <td>0.900736</td>\n",
              "      <td>0.326316</td>\n",
              "      <td>0.0</td>\n",
              "      <td>1.0</td>\n",
              "    </tr>\n",
              "    <tr>\n",
              "      <th>69999</th>\n",
              "      <td>0.754317</td>\n",
              "      <td>0.326316</td>\n",
              "      <td>0.5</td>\n",
              "      <td>0.0</td>\n",
              "    </tr>\n",
              "  </tbody>\n",
              "</table>\n",
              "<p>70000 rows × 4 columns</p>\n",
              "</div>"
            ],
            "text/plain": [
              "            age    weight  gluc  target\n",
              "0      0.588076  0.273684   0.0     0.0\n",
              "1      0.730159  0.394737   1.0     1.0\n",
              "2      0.624003  0.284211   1.0     1.0\n",
              "3      0.528455  0.378947   0.0     1.0\n",
              "4      0.516918  0.242105   0.0     0.0\n",
              "...         ...       ...   ...     ...\n",
              "69995  0.653659  0.347368   0.0     0.0\n",
              "69996  0.913899  0.610526   0.5     1.0\n",
              "69997  0.640186  0.500000   1.0     1.0\n",
              "69998  0.900736  0.326316   0.0     1.0\n",
              "69999  0.754317  0.326316   0.5     0.0\n",
              "\n",
              "[70000 rows x 4 columns]"
            ]
          },
          "metadata": {}
        }
      ],
      "source": [
        "cols_to_norm = [\"age\",\"weight\",\"gluc\",\"target\"]\n",
        "df[cols_to_norm] = df[cols_to_norm].apply(lambda x: (x - x.min()) / (x.max() - x.min()))\n",
        "display(df)\n",
        "# df[cols_to_norm] = df[cols_to_norm].apply(lambda x: (x - np.mean(x)) / (np.std(x)))\n",
        "# display(df)  "
      ]
    },
    {
      "cell_type": "code",
      "execution_count": null,
      "metadata": {
        "colab": {
          "base_uri": "https://localhost:8080/"
        },
        "id": "h1dTJZ2yfIp1",
        "outputId": "f45f818d-483d-4cdd-9076-8d94874a8ed5"
      },
      "outputs": [
        {
          "output_type": "display_data",
          "data": {
            "image/png": "[encoded data removed]",
            "text/plain": [
              "<Figure size 1080x1080 with 4 Axes>"
            ]
          },
          "metadata": {
            "needs_background": "light"
          }
        }
      ],
      "source": [
        "df.hist(figsize=(15, 15),color='#ff7994',edgecolor='purple')\n",
        "plt.show()"
      ]
    },
    {
      "cell_type": "markdown",
      "metadata": {
        "id": "1HJ_zq-8ry6y"
      },
      "source": [
        "# **SPLITTING THE DATASET INTO TRAINING AND TESTING**"
      ]
    },
    {
      "cell_type": "code",
      "execution_count": null,
      "metadata": {
        "id": "5A7M51G0rz_j"
      },
      "outputs": [],
      "source": [
        "random.seed(10) \n",
        "x_train, x_test, y_train, y_test= train_test_split(x, y, test_size= 0.2, random_state=10)\n",
        "st_x= StandardScaler()    \n",
        "x_train= st_x.fit_transform(x_train)    \n",
        "x_test= st_x.transform(x_test) "
      ]
    },
    {
      "cell_type": "code",
      "execution_count": null,
      "metadata": {
        "colab": {
          "base_uri": "https://localhost:8080/",
          "height": 878
        },
        "id": "LjQ1Flz2Pbkv",
        "outputId": "5f1daed7-9c1e-49ae-b33b-276f56320675"
      },
      "outputs": [
        {
          "output_type": "display_data",
          "data": {
            "image/png": "[encoded data removed]",
            "text/plain": [
              "<Figure size 1080x1080 with 4 Axes>"
            ]
          },
          "metadata": {
            "needs_background": "light"
          }
        }
      ],
      "source": [
        "df.hist(figsize=(15, 15),color='#ff7994',edgecolor='purple')\n",
        "plt.show()"
      ]
    },
    {
      "cell_type": "markdown",
      "metadata": {
        "id": "-86JmAOJ7POD"
      },
      "source": [
        "# **CROSS VALIDATION**"
      ]
    },
    {
      "cell_type": "code",
      "execution_count": null,
      "metadata": {
        "id": "ZeeIeFGA7POF"
      },
      "outputs": [],
      "source": [
        "# #Importing required libraries\n",
        "# from sklearn.datasets import load_breast_cancer\n",
        "# import pandas as pd\n",
        "# from sklearn.model_selection import KFold \n",
        "# from sklearn.linear_model import LogisticRegression\n",
        "# from sklearn.metrics import accuracy_score\n",
        " \n",
        " \n",
        "# #Implementing cross validation\n",
        " \n",
        "# k = 5\n",
        "# kf = KFold(n_splits=k, random_state=None)\n",
        " \n",
        "# for train_index , test_index in kf.split(x):\n",
        "#     x_train , x_test = x.iloc[train_index,:],x.iloc[test_index,:]\n",
        "#     y_train , y_test = y[train_index] , y[test_index]\n",
        "#     print(\"%s %s\" % (train_index, test_index))\n",
        "\n",
        "# # scoresT = cross_val_score(df, x, y, cv=5)\n",
        "# # print(scoresT)"
      ]
    },
    {
      "cell_type": "markdown",
      "metadata": {
        "id": "NvEjWEX1qEr_"
      },
      "source": [
        "# **K-NEAREST NEIGHBORS**\n"
      ]
    },
    {
      "cell_type": "markdown",
      "metadata": {
        "id": "BRWF51Xtr8Rz"
      },
      "source": [
        "**CHECKING FOR THE BEST K VALUE**"
      ]
    },
    {
      "cell_type": "code",
      "execution_count": null,
      "metadata": {
        "colab": {
          "base_uri": "https://localhost:8080/",
          "height": 421
        },
        "id": "iBSnagz1r9O4",
        "outputId": "99717750-768c-41f8-bf19-34a0fe2eb3c8"
      },
      "outputs": [
        {
          "output_type": "stream",
          "name": "stdout",
          "text": [
            "Minimum error:- 0.3705 at K = 9\n"
          ]
        },
        {
          "output_type": "display_data",
          "data": {
            "image/png": "[encoded data removed]",
            "text/plain": [
              "<Figure size 864x432 with 1 Axes>"
            ]
          },
          "metadata": {
            "needs_background": "light"
          }
        }
      ],
      "source": [
        "error = []\n",
        "\n",
        "# Calculating error for K values between 1 and 30\n",
        "for i in range(1, 10):\n",
        "    knn = KNeighborsClassifier(n_neighbors=i)\n",
        "    knn.fit(x_train, y_train)\n",
        "    pred_i = knn.predict(x_test)\n",
        "    error.append(np.mean(pred_i != y_test))\n",
        "    #print(error.append(np.mean(pred_i != y_test)))\n",
        "\n",
        "plt.figure(figsize=(12, 6))\n",
        "plt.plot(range(1, 10), error, color='red', linestyle='dashed', marker='o',\n",
        "         markerfacecolor='blue', markersize=10)\n",
        "plt.title('Error Rate K Value')\n",
        "plt.xlabel('K Value')\n",
        "plt.ylabel('Mean Error')\n",
        "print(\"Minimum error:-\",min(error),\"at K =\",error.index(min(error))+1)\n"
      ]
    },
    {
      "cell_type": "markdown",
      "metadata": {
        "id": "7hTurErtsKlh"
      },
      "source": [
        "**TRAINING**"
      ]
    },
    {
      "cell_type": "code",
      "execution_count": null,
      "metadata": {
        "id": "B1y42jDRY5oE"
      },
      "outputs": [],
      "source": [
        "#print(pd.DataFrame(x_train))\n"
      ]
    },
    {
      "cell_type": "markdown",
      "metadata": {
        "id": "7W9c4_KctnXc"
      },
      "source": [
        "3 METRICS OF KNN"
      ]
    },
    {
      "cell_type": "code",
      "execution_count": null,
      "metadata": {
        "colab": {
          "base_uri": "https://localhost:8080/"
        },
        "id": "U-Jgq2kQsLu8",
        "outputId": "85b9e7e5-12b1-4f8b-92b3-dc576b0ed647"
      },
      "outputs": [
        {
          "output_type": "stream",
          "name": "stdout",
          "text": [
            "\n",
            "KNN Minkowski Prediction:\n",
            " [0 0 0 ... 1 1 1]\n",
            "\n",
            "KNN Euclidean Prediction:\n",
            " [0 0 0 ... 1 1 1]\n",
            "\n",
            "KNN Manhattan Prediction:\n",
            " [0 0 0 ... 1 0 0]\n",
            "\n",
            "KNN Jaccard Prediction:\n",
            " [0 0 0 ... 0 0 0]\n",
            "\n",
            "KNN Hamming Prediction:\n",
            " [0 0 0 ... 0 1 1]\n",
            "\n",
            "KNN Cosine Prediction:\n",
            " [0 0 0 ... 1 1 1]\n"
          ]
        }
      ],
      "source": [
        "#3 metrics\n",
        "KNN_mi= KNeighborsClassifier(n_neighbors=5, metric = 'minkowski') \n",
        "KNN_e= KNeighborsClassifier(n_neighbors=5, metric = 'euclidean')\n",
        "KNN_ma= KNeighborsClassifier(n_neighbors=5, metric = 'manhattan',weights='uniform')\n",
        "KNN_j= KNeighborsClassifier(n_neighbors=5, metric = 'jaccard')\n",
        "KNN_h= KNeighborsClassifier(n_neighbors=5, metric = 'hamming')\n",
        "KNN_c= KNeighborsClassifier(n_neighbors=5, metric = 'cosine')\n",
        "\n",
        "KNN_mi.fit(x_train, y_train)\n",
        "KNN_e.fit(x_train, y_train)\n",
        "KNN_ma.fit(x_train, y_train)\n",
        "KNN_j.fit(x_train, y_train)\n",
        "KNN_h.fit(x_train, y_train)\n",
        "KNN_c.fit(x_train, y_train)\n",
        "\n",
        "y_pred_mi= KNN_mi.predict(x_test)\n",
        "y_pred_e= KNN_e.predict(x_test)\n",
        "y_pred_ma= KNN_ma.predict(x_test)\n",
        "y_pred_j= KNN_j.predict(x_test)\n",
        "y_pred_h= KNN_h.predict(x_test)\n",
        "y_pred_c= KNN_c.predict(x_test)\n",
        "\n",
        "print('\\nKNN Minkowski Prediction:\\n',y_pred_mi)\n",
        "print('\\nKNN Euclidean Prediction:\\n',y_pred_e)\n",
        "print('\\nKNN Manhattan Prediction:\\n',y_pred_ma)\n",
        "print('\\nKNN Jaccard Prediction:\\n',y_pred_j)\n",
        "print('\\nKNN Hamming Prediction:\\n',y_pred_h)\n",
        "print('\\nKNN Cosine Prediction:\\n',y_pred_c)\n"
      ]
    },
    {
      "cell_type": "markdown",
      "metadata": {
        "id": "OUszcWDkswcI"
      },
      "source": [
        "**CONFUSION MATRIX**"
      ]
    },
    {
      "cell_type": "markdown",
      "metadata": {
        "id": "38sG0m1Zt7Uy"
      },
      "source": [
        "Manhattan Metric"
      ]
    },
    {
      "cell_type": "code",
      "execution_count": null,
      "metadata": {
        "colab": {
          "base_uri": "https://localhost:8080/",
          "height": 667
        },
        "id": "enM1p73CuAMu",
        "outputId": "d737ca98-21da-4a2f-c62b-14460f09ed10"
      },
      "outputs": [
        {
          "output_type": "stream",
          "name": "stdout",
          "text": [
            "\n",
            " CLASSIFICATION REPORT OF MANHATTAN METRIC:\n",
            "\n",
            "               precision    recall  f1-score   support\n",
            "\n",
            "           0       0.64      0.67      0.66      7073\n",
            "           1       0.65      0.62      0.63      6927\n",
            "\n",
            "    accuracy                           0.64     14000\n",
            "   macro avg       0.65      0.64      0.64     14000\n",
            "weighted avg       0.65      0.64      0.64     14000\n",
            "\n",
            "\n",
            " RECALL SCORE OF MANHATTAN METRIC :  0.5092933161847616\n",
            "\n",
            " PRECISION SCORE OF MANHATTAN METRIC :  0.5635931506855867\n",
            "\n",
            " F1 SCORE OF MANHATTAN METRIC :  0.4796439882124612\n",
            "\n",
            "\n"
          ]
        },
        {
          "output_type": "display_data",
          "data": {
            "image/png": "[encoded data removed]",
            "text/plain": [
              "<Figure size 360x360 with 2 Axes>"
            ]
          },
          "metadata": {
            "needs_background": "light"
          }
        }
      ],
      "source": [
        " from sklearn.model_selection import cross_val_score\n",
        " \n",
        "cm_ma=confusion_matrix(y_test, y_pred_ma)\n",
        "print('\\n CLASSIFICATION REPORT OF MANHATTAN METRIC:\\n\\n',classification_report(y_test, y_pred_ma))\n",
        "cm_ma = pd.DataFrame(data = cm_ma, columns = ['Predicted:0', 'Predicted:1'], index =['Actual:0', 'Actual:1'])\n",
        "KNN_ma_r= cross_val_score(KNN_ma, x, y, scoring=\"recall\", cv = 5).mean()\n",
        "KNN_ma_p= cross_val_score(KNN_ma, x, y, scoring=\"precision\", cv = 5).mean()\n",
        "KNN_ma_f1=cross_val_score(KNN_ma, x, y, scoring=\"f1\", cv = 5).mean()\n",
        "print('\\n RECALL SCORE OF MANHATTAN METRIC : ',KNN_ma_r)\n",
        "print('\\n PRECISION SCORE OF MANHATTAN METRIC : ',KNN_ma_p)\n",
        "print('\\n F1 SCORE OF MANHATTAN METRIC : ',KNN_ma_f1)\n",
        "print('\\n')\n",
        "plt.figure(figsize = (5, 5))\n",
        "sns.heatmap(cm_ma, annot = True, fmt ='d', cmap = \"Greens\")\n",
        "plt.show()\n"
      ]
    },
    {
      "cell_type": "markdown",
      "metadata": {
        "id": "cHKd1oKXtsl8"
      },
      "source": [
        "Minkowski Metric"
      ]
    },
    {
      "cell_type": "code",
      "execution_count": null,
      "metadata": {
        "colab": {
          "base_uri": "https://localhost:8080/",
          "height": 667
        },
        "id": "rxdYxuSUue4k",
        "outputId": "1a0229fb-de20-4390-841e-fa4257ff496e"
      },
      "outputs": [
        {
          "output_type": "stream",
          "name": "stdout",
          "text": [
            "\n",
            " CLASSIFICATION REPORT OF MINKOWSKI METRIC:\n",
            "\n",
            "               precision    recall  f1-score   support\n",
            "\n",
            "           0       0.62      0.64      0.63      7073\n",
            "           1       0.62      0.60      0.61      6927\n",
            "\n",
            "    accuracy                           0.62     14000\n",
            "   macro avg       0.62      0.62      0.62     14000\n",
            "weighted avg       0.62      0.62      0.62     14000\n",
            "\n",
            "\n",
            " RECALL SCORE OF MINKOWSKI METRIC :  0.6019922044174968\n",
            "\n",
            " PRECISION SCORE OF MINKOWSKI METRIC :  0.623225227918099\n",
            "\n",
            " F1 SCORE OF MINKOWSKI METRIC :  0.6124247319723896\n",
            "\n",
            "\n"
          ]
        },
        {
          "output_type": "display_data",
          "data": {
            "image/png": "[encoded data removed]",
            "text/plain": [
              "<Figure size 360x360 with 2 Axes>"
            ]
          },
          "metadata": {
            "needs_background": "light"
          }
        }
      ],
      "source": [
        "cm_mi=confusion_matrix(y_test, y_pred_mi)\n",
        "print('\\n CLASSIFICATION REPORT OF MINKOWSKI METRIC:\\n\\n',classification_report(y_test, y_pred_mi))\n",
        "cm_mi = pd.DataFrame(data = cm_mi, columns = ['Predicted:0', 'Predicted:1'], index =['Actual:0', 'Actual:1'])\n",
        "KNN_mi_r=cross_val_score(KNN_mi, x, y, scoring=\"recall\", cv = 5).mean()\n",
        "KNN_mi_p=cross_val_score(KNN_mi, x, y, scoring=\"precision\", cv = 5).mean()\n",
        "KNN_mi_f1=cross_val_score(KNN_mi, x, y, scoring=\"f1\", cv = 5).mean()\n",
        "print('\\n RECALL SCORE OF MINKOWSKI METRIC : ', recall_score(y_test, y_pred_mi))\n",
        "print('\\n PRECISION SCORE OF MINKOWSKI METRIC : ', precision_score(y_test, y_pred_mi))\n",
        "print('\\n F1 SCORE OF MINKOWSKI METRIC : ', f1_score(y_test, y_pred_mi))\n",
        "print('\\n')\n",
        "plt.figure(figsize = (5, 5))\n",
        "sns.heatmap(cm_mi, annot = True, fmt ='d', cmap = \"Greens\")\n",
        "plt.show()\n"
      ]
    },
    {
      "cell_type": "markdown",
      "metadata": {
        "id": "OiqR5J0IuZU_"
      },
      "source": [
        "Euclidean Metric"
      ]
    },
    {
      "cell_type": "code",
      "execution_count": null,
      "metadata": {
        "colab": {
          "base_uri": "https://localhost:8080/",
          "height": 667
        },
        "id": "xSgzS13KszBq",
        "outputId": "30d0b230-c4f5-41f0-eaa9-7a958657914b"
      },
      "outputs": [
        {
          "output_type": "stream",
          "name": "stdout",
          "text": [
            "\n",
            " CLASSIFICATION REPORT OF EUCLIDEAN METRIC:\n",
            "\n",
            "               precision    recall  f1-score   support\n",
            "\n",
            "           0       0.62      0.64      0.63      7073\n",
            "           1       0.62      0.60      0.61      6927\n",
            "\n",
            "    accuracy                           0.62     14000\n",
            "   macro avg       0.62      0.62      0.62     14000\n",
            "weighted avg       0.62      0.62      0.62     14000\n",
            "\n",
            "\n",
            " RECALL SCORE OF EUCLIDEAN METRIC :  0.6019922044174968\n",
            "\n",
            " PRECISION SCORE OF EUCLIDEAN METRIC :  0.623225227918099\n",
            "\n",
            " F1 SCORE OF EUCLIDEAN METRIC :  0.6124247319723896\n",
            "\n",
            "\n"
          ]
        },
        {
          "output_type": "display_data",
          "data": {
            "image/png": "[encoded data removed]",
            "text/plain": [
              "<Figure size 360x360 with 2 Axes>"
            ]
          },
          "metadata": {
            "needs_background": "light"
          }
        }
      ],
      "source": [
        "cm_e=confusion_matrix(y_test, y_pred_e)\n",
        "print('\\n CLASSIFICATION REPORT OF EUCLIDEAN METRIC:\\n\\n',classification_report(y_test, y_pred_e))\n",
        "cm_e = pd.DataFrame(data = cm_e, columns = ['Predicted:0', 'Predicted:1'], index =['Actual:0', 'Actual:1'])\n",
        "KNN_e_r=cross_val_score(KNN_e, x, y, scoring=\"recall\", cv = 5).mean()\n",
        "KNN_e_p=cross_val_score(KNN_e, x, y, scoring=\"precision\", cv = 5).mean()\n",
        "KNN_e_f1=cross_val_score(KNN_e, x, y, scoring=\"f1\", cv = 5).mean()\n",
        "print('\\n RECALL SCORE OF EUCLIDEAN METRIC : ', recall_score(y_test, y_pred_e))\n",
        "print('\\n PRECISION SCORE OF EUCLIDEAN METRIC : ', precision_score(y_test, y_pred_e))\n",
        "print('\\n F1 SCORE OF EUCLIDEAN METRIC : ', f1_score(y_test, y_pred_e))\n",
        "print('\\n')\n",
        "plt.figure(figsize = (5, 5))\n",
        "sns.heatmap(cm_e, annot = True, fmt ='d', cmap = \"Greens\")\n",
        "plt.show()\n",
        "\n",
        "#(actual(t)==prediction(t)) (actual(t)!=prediction(t))\n",
        "#(actual(t)!=prediction(t)) (actual(t)==prediction(t))\n",
        "#correct prediction=29+23=52\n",
        "#wrong prediction=6+3=9\n",
        "#evaluation metric\n"
      ]
    },
    {
      "cell_type": "markdown",
      "metadata": {
        "id": "1zfK7X6pc7ak"
      },
      "source": [
        "Jaccard Metric"
      ]
    },
    {
      "cell_type": "code",
      "execution_count": null,
      "metadata": {
        "colab": {
          "base_uri": "https://localhost:8080/",
          "height": 668
        },
        "id": "_TdF0J0qc6Z1",
        "outputId": "0363d489-8637-45d4-c92f-1a3fd837173d"
      },
      "outputs": [
        {
          "output_type": "stream",
          "name": "stdout",
          "text": [
            "\n",
            " CLASSIFICATION REPORT OF JACCARD METRIC:\n",
            "\n",
            "               precision    recall  f1-score   support\n",
            "\n",
            "           0       0.51      1.00      0.67      7073\n",
            "           1       0.00      0.00      0.00      6927\n",
            "\n",
            "    accuracy                           0.51     14000\n",
            "   macro avg       0.25      0.50      0.34     14000\n",
            "weighted avg       0.26      0.51      0.34     14000\n",
            "\n",
            "\n",
            " RECALL SCORE OF JACCARD METRIC :  0.006546790139652965\n",
            "\n",
            " PRECISION SCORE OF JACCARD METRIC :  0.5422559009877356\n",
            "\n",
            " F1 SCORE OF JACCARD METRIC :  0.012935759141695386\n",
            "\n",
            "\n"
          ]
        },
        {
          "output_type": "display_data",
          "data": {
            "image/png": "[encoded data removed]",
            "text/plain": [
              "<Figure size 360x360 with 2 Axes>"
            ]
          },
          "metadata": {
            "needs_background": "light"
          }
        }
      ],
      "source": [
        "cm_j=confusion_matrix(y_test, y_pred_j)\n",
        "print('\\n CLASSIFICATION REPORT OF JACCARD METRIC:\\n\\n',classification_report(y_test, y_pred_j))\n",
        "cm_j = pd.DataFrame(data = cm_j, columns = ['Predicted:0', 'Predicted:1'], index =['Actual:0', 'Actual:1'])\n",
        "KNN_j_r=cross_val_score(KNN_j, x, y, scoring=\"recall\", cv = 5).mean()\n",
        "KNN_j_p=cross_val_score(KNN_j, x, y, scoring=\"precision\", cv = 5).mean()\n",
        "KNN_j_f1=cross_val_score(KNN_j, x, y, scoring=\"f1\", cv = 5).mean()\n",
        "print('\\n RECALL SCORE OF JACCARD METRIC : ',KNN_j_r )\n",
        "print('\\n PRECISION SCORE OF JACCARD METRIC : ',KNN_j_p)\n",
        "print('\\n F1 SCORE OF JACCARD METRIC : ', KNN_j_f1)\n",
        "print('\\n')\n",
        "plt.figure(figsize = (5, 5))\n",
        "sns.heatmap(cm_j, annot = True, fmt ='d', cmap = \"Greens\")\n",
        "plt.show()\n",
        "\n",
        "#(actual(t)==prediction(t)) (actual(t)!=prediction(t))\n",
        "#(actual(t)!=prediction(t)) (actual(t)==prediction(t))\n",
        "#correct prediction=29+23=52\n",
        "#wrong prediction=6+3=9\n",
        "#evaluation metric\n"
      ]
    },
    {
      "cell_type": "markdown",
      "metadata": {
        "id": "0wQIUvXpfqOi"
      },
      "source": [
        "Hamming Metric"
      ]
    },
    {
      "cell_type": "code",
      "execution_count": null,
      "metadata": {
        "colab": {
          "base_uri": "https://localhost:8080/",
          "height": 667
        },
        "id": "R02fkxv7fsLe",
        "outputId": "5ff12b6c-e9f8-4fd0-b9a6-9467d57aca95"
      },
      "outputs": [
        {
          "output_type": "stream",
          "name": "stdout",
          "text": [
            "\n",
            " CLASSIFICATION REPORT OF HAMMING METRIC:\n",
            "\n",
            "               precision    recall  f1-score   support\n",
            "\n",
            "           0       0.65      0.75      0.69      7073\n",
            "           1       0.69      0.58      0.63      6927\n",
            "\n",
            "    accuracy                           0.67     14000\n",
            "   macro avg       0.67      0.67      0.66     14000\n",
            "weighted avg       0.67      0.67      0.66     14000\n",
            "\n",
            "\n",
            " RECALL SCORE OF HAMMING METRIC :  0.6122815855971614\n",
            "\n",
            " PRECISION SCORE OF HAMMING METRIC :  0.7070008669060096\n",
            "\n",
            " F1 SCORE OF HAMMING METRIC :  0.6562347742395073\n",
            "\n",
            "\n"
          ]
        },
        {
          "output_type": "display_data",
          "data": {
            "image/png": "[encoded data removed]",
            "text/plain": [
              "<Figure size 360x360 with 2 Axes>"
            ]
          },
          "metadata": {
            "needs_background": "light"
          }
        }
      ],
      "source": [
        "cm_h=confusion_matrix(y_test, y_pred_h)\n",
        "print('\\n CLASSIFICATION REPORT OF HAMMING METRIC:\\n\\n',classification_report(y_test, y_pred_h))\n",
        "cm_h = pd.DataFrame(data = cm_h, columns = ['Predicted:0', 'Predicted:1'], index =['Actual:0', 'Actual:1'])\n",
        "KNN_h_r=cross_val_score(KNN_h, x, y, scoring=\"recall\", cv = 5).mean()\n",
        "KNN_h_p=cross_val_score(KNN_h, x, y, scoring=\"precision\", cv = 5).mean()\n",
        "KNN_h_f1=cross_val_score(KNN_h, x, y, scoring=\"f1\", cv = 5).mean()\n",
        "print('\\n RECALL SCORE OF HAMMING METRIC : ', KNN_h_r)\n",
        "print('\\n PRECISION SCORE OF HAMMING METRIC : ',KNN_h_p)\n",
        "print('\\n F1 SCORE OF HAMMING METRIC : ', KNN_h_f1)\n",
        "print('\\n')\n",
        "plt.figure(figsize = (5, 5))\n",
        "sns.heatmap(cm_h, annot = True, fmt ='d', cmap = \"Greens\")\n",
        "plt.show()\n",
        "\n",
        "#(actual(t)==prediction(t)) (actual(t)!=prediction(t))\n",
        "#(actual(t)!=prediction(t)) (actual(t)==prediction(t))\n",
        "#correct prediction=29+23=52\n",
        "#wrong prediction=6+3=9\n",
        "#evaluation metric\n"
      ]
    },
    {
      "cell_type": "markdown",
      "metadata": {
        "id": "59lq5da2gFmk"
      },
      "source": [
        "Cosine Metric"
      ]
    },
    {
      "cell_type": "code",
      "execution_count": null,
      "metadata": {
        "colab": {
          "base_uri": "https://localhost:8080/",
          "height": 667
        },
        "id": "YslirRUqgIY8",
        "outputId": "e91ce0b4-009b-441a-9658-344eb993134a"
      },
      "outputs": [
        {
          "output_type": "stream",
          "name": "stdout",
          "text": [
            "\n",
            " CLASSIFICATION REPORT OF COSINE METRIC:\n",
            "\n",
            "               precision    recall  f1-score   support\n",
            "\n",
            "           0       0.62      0.65      0.64      7073\n",
            "           1       0.63      0.60      0.61      6927\n",
            "\n",
            "    accuracy                           0.63     14000\n",
            "   macro avg       0.63      0.63      0.62     14000\n",
            "weighted avg       0.63      0.63      0.63     14000\n",
            "\n",
            "\n",
            " RECALL SCORE OF COSINE METRIC :  0.5233835897649673\n",
            "\n",
            " PRECISION SCORE OF COSINE METRIC :  0.5691005837793075\n",
            "\n",
            " F1 SCORE OF COSINE METRIC :  0.5027503837118564\n",
            "\n",
            "\n"
          ]
        },
        {
          "output_type": "display_data",
          "data": {
            "image/png": "[encoded data removed]",
            "text/plain": [
              "<Figure size 360x360 with 2 Axes>"
            ]
          },
          "metadata": {
            "needs_background": "light"
          }
        }
      ],
      "source": [
        "cm_c=confusion_matrix(y_test, y_pred_c)\n",
        "print('\\n CLASSIFICATION REPORT OF COSINE METRIC:\\n\\n',classification_report(y_test, y_pred_c))\n",
        "cm_c = pd.DataFrame(data = cm_h, columns = ['Predicted:0', 'Predicted:1'], index =['Actual:0', 'Actual:1'])\n",
        "KNN_c_r=cross_val_score(KNN_c, x, y, scoring=\"recall\", cv = 5).mean()\n",
        "KNN_c_p=cross_val_score(KNN_c, x, y, scoring=\"precision\", cv = 5).mean()\n",
        "KNN_c_f1=cross_val_score(KNN_c, x, y, scoring=\"f1\", cv = 5).mean()\n",
        "print('\\n RECALL SCORE OF COSINE METRIC : ', KNN_c_r)\n",
        "print('\\n PRECISION SCORE OF COSINE METRIC : ',KNN_c_p)\n",
        "print('\\n F1 SCORE OF COSINE METRIC : ',KNN_c_f1)\n",
        "print('\\n')\n",
        "plt.figure(figsize = (5, 5))\n",
        "sns.heatmap(cm_c, annot = True, fmt ='d', cmap = \"Greens\")\n",
        "plt.show()\n",
        "\n",
        "#(actual(t)==prediction(t)) (actual(t)!=prediction(t))\n",
        "#(actual(t)!=prediction(t)) (actual(t)==prediction(t))\n",
        "#correct prediction=29+23=52\n",
        "#wrong prediction=6+3=9\n",
        "#evaluation metric"
      ]
    },
    {
      "cell_type": "markdown",
      "metadata": {
        "id": "KfC0fQ23sp3c"
      },
      "source": [
        "**ACCURACY**"
      ]
    },
    {
      "cell_type": "code",
      "execution_count": null,
      "metadata": {
        "id": "HYgWS_CDsqn-"
      },
      "outputs": [],
      "source": [
        "KNN_ma_acc=cross_val_score(KNN_ma, x, y, scoring=\"accuracy\", cv = 5).mean()\n",
        "KNN_mi_acc=cross_val_score(KNN_mi, x, y, scoring=\"accuracy\", cv = 5).mean()\n",
        "KNN_e_acc=cross_val_score(KNN_e, x, y, scoring=\"accuracy\", cv = 5).mean()\n",
        "KNN_j_acc=cross_val_score(KNN_j, x, y, scoring=\"accuracy\", cv = 5).mean()\n",
        "KNN_h_acc=cross_val_score(KNN_h, x, y, scoring=\"accuracy\", cv = 5).mean()\n",
        "KNN_c_acc=cross_val_score(KNN_c, x, y, scoring=\"accuracy\", cv = 5).mean()\n",
        "\n",
        "# print('MANHATTAN:',KNN_ma_acc)\n",
        "# print('MINKOWSKI:',KNN_mi_acc)\n",
        "# print('EUCLIDEAN:',KNN_e_acc)\n",
        "# print('JACCARD:',KNN_j_acc)\n",
        "# print('HAMMING:',KNN_h_acc)\n",
        "# print('COSINE :',KNN_c_acc)"
      ]
    },
    {
      "cell_type": "code",
      "execution_count": null,
      "metadata": {
        "colab": {
          "base_uri": "https://localhost:8080/"
        },
        "id": "efoG4qZGqP-s",
        "outputId": "76801a63-3119-4d01-d7c2-26c83ae76a43"
      },
      "outputs": [
        {
          "output_type": "stream",
          "name": "stdout",
          "text": [
            "+-----------+--------------------+--------------------+----------------------+----------------------+\n",
            "|  METRICS  |      ACCURACY      |  PRECISION SCORE   |     RECALL SCORE     |       F1 SCORE       |\n",
            "+-----------+--------------------+--------------------+----------------------+----------------------+\n",
            "| Manhattan | 0.5315142857142857 | 0.5635931506855867 |  0.5092933161847616  |  0.4796439882124612  |\n",
            "| Minkowski | 0.5092142857142857 | 0.5673566967980129 |  0.5050601242167996  | 0.44317868933250065  |\n",
            "| Euclidean | 0.5092142857142857 | 0.5673566967980129 |  0.5050601242167996  | 0.44317868933250065  |\n",
            "|  Jaccard  | 0.5008285714285714 | 0.5422559009877356 | 0.006546790139652965 | 0.012935759141695386 |\n",
            "|  Hamming  | 0.6794428571428572 | 0.7070008669060096 |  0.6122815855971614  |  0.6562347742395073  |\n",
            "|   Cosine  | 0.536442857142857  | 0.5691005837793075 |  0.5233835897649673  |  0.5027503837118564  |\n",
            "+-----------+--------------------+--------------------+----------------------+----------------------+\n"
          ]
        }
      ],
      "source": [
        "# Specify the Column Names while initializing the Table \n",
        "myTable = PrettyTable([\"METRICS\", \"ACCURACY\",\"PRECISION SCORE\",\"RECALL SCORE\",\"F1 SCORE\"]) \n",
        "  \n",
        "# Add rows \n",
        "myTable.add_row([\"Manhattan\",KNN_ma_acc,KNN_ma_p,KNN_ma_r,KNN_ma_f1]) \n",
        "myTable.add_row([\"Minkowski\",KNN_mi_acc,KNN_mi_p,KNN_mi_r,KNN_mi_f1]) \n",
        "myTable.add_row([\"Euclidean\",KNN_e_acc,KNN_e_p,KNN_e_r,KNN_e_f1]) \n",
        "myTable.add_row([\"Jaccard\",KNN_j_acc,KNN_j_p,KNN_j_r,KNN_j_f1]) \n",
        "myTable.add_row([\"Hamming\",KNN_h_acc,KNN_h_p,KNN_h_r,KNN_h_f1]) \n",
        "myTable.add_row([\"Cosine\",KNN_c_acc,KNN_c_p,KNN_c_r,KNN_c_f1]) \n",
        "  \n",
        "print(myTable)\n"
      ]
    },
    {
      "cell_type": "markdown",
      "metadata": {
        "id": "xTD02_v8OgCG"
      },
      "source": [
        "# **DECISION TREE ALGORITHM**\n",
        "\n"
      ]
    },
    {
      "cell_type": "code",
      "execution_count": null,
      "metadata": {
        "colab": {
          "base_uri": "https://localhost:8080/",
          "height": 702
        },
        "id": "yJUg91yH3vfZ",
        "outputId": "a0b139d1-3eff-4f6a-a83a-ea19182e6ab3"
      },
      "outputs": [
        {
          "output_type": "stream",
          "name": "stdout",
          "text": [
            "\n",
            " CLASSIFICATION REPORT\n",
            "               precision    recall  f1-score   support\n",
            "\n",
            "           0       0.64      0.64      0.64      7073\n",
            "           1       0.63      0.63      0.63      6927\n",
            "\n",
            "    accuracy                           0.64     14000\n",
            "   macro avg       0.64      0.64      0.64     14000\n",
            "weighted avg       0.64      0.64      0.64     14000\n",
            "\n",
            "\n",
            " CONFUSION MATRIX\n",
            "\n"
          ]
        },
        {
          "output_type": "display_data",
          "data": {
            "image/png": "[encoded data removed]",
            "text/plain": [
              "<Figure size 360x360 with 2 Axes>"
            ]
          },
          "metadata": {
            "needs_background": "light"
          }
        },
        {
          "output_type": "stream",
          "name": "stdout",
          "text": [
            "\n",
            " ACCURACY SCORE  :  0.5861000000000001\n",
            "\n",
            " PRECISION SCORE :  0.5774678970133764\n",
            "\n",
            " RECALL SCORE :  0.5319384261648953\n",
            "\n",
            " F1 SCORE :  0.5427237578804237\n"
          ]
        }
      ],
      "source": [
        "# To find the accuracy result for DTA\n",
        "from sklearn.tree import DecisionTreeClassifier\n",
        "\n",
        "DT = DecisionTreeClassifier()\n",
        "DT.fit(x_train, y_train)\n",
        "DT_Pred = DT.predict(x_test)\n",
        "DT_accuracy = cross_val_score(DT, x, y, scoring=\"accuracy\", cv = 5).mean()\n",
        "DT_precision = cross_val_score(DT, x, y, scoring=\"precision\", cv = 5).mean()\n",
        "DT_recall_score = cross_val_score(DT, x, y, scoring=\"recall\", cv = 5).mean()\n",
        "DT_f1_score = cross_val_score(DT, x, y, scoring=\"f1\", cv = 5).mean()\n",
        "print('\\n CLASSIFICATION REPORT\\n', classification_report(y_test, DT_Pred))\n",
        "print('\\n CONFUSION MATRIX\\n')\n",
        "cm= confusion_matrix(y_test,DT_Pred)\n",
        "cm = pd.DataFrame(data = cm, columns = ['Predicted:0', 'Predicted:1'], index =['Actual:0', 'Actual:1'])\n",
        "plt.figure(figsize = (5, 5))\n",
        "sns.heatmap(cm, annot = True, fmt = 'd', cmap = \"Greens\")\n",
        "plt.show()\n",
        "print('\\n ACCURACY SCORE  : ', DT_accuracy)\n",
        "print('\\n PRECISION SCORE : ',DT_precision)\n",
        "print('\\n RECALL SCORE : ', DT_recall_score)\n",
        "print('\\n F1 SCORE : ', DT_f1_score)\n"
      ]
    },
    {
      "cell_type": "code",
      "execution_count": null,
      "metadata": {
        "id": "MeOAcCOX331o"
      },
      "outputs": [],
      "source": [
        "# #Tree Prediction\n",
        "# dot_data = StringIO()\n",
        "# export_graphviz(DT, out_file=dot_data,filled=True, rounded=True,special_characters=True,class_names=['0','1'])\n",
        "# graph = pydotplus.graph_from_dot_data(dot_data.getvalue())  \n",
        "# Image(graph.create_png())\n"
      ]
    },
    {
      "cell_type": "code",
      "execution_count": null,
      "metadata": {
        "colab": {
          "base_uri": "https://localhost:8080/",
          "height": 687
        },
        "id": "Kj750vij38iA",
        "outputId": "68ab3339-3e6a-4f4f-dbaf-e6df5556a7eb"
      },
      "outputs": [
        {
          "output_type": "stream",
          "name": "stdout",
          "text": [
            "\n",
            " CLASSIFICATION REPORT :               precision    recall  f1-score   support\n",
            "\n",
            "           0       0.64      0.64      0.64      7073\n",
            "           1       0.63      0.64      0.64      6927\n",
            "\n",
            "    accuracy                           0.64     14000\n",
            "   macro avg       0.64      0.64      0.64     14000\n",
            "weighted avg       0.64      0.64      0.64     14000\n",
            "\n",
            "\n",
            " CONFUSION MATRIX\n",
            "\n"
          ]
        },
        {
          "output_type": "display_data",
          "data": {
            "image/png": "[encoded data removed]",
            "text/plain": [
              "<Figure size 360x360 with 2 Axes>"
            ]
          },
          "metadata": {
            "needs_background": "light"
          }
        },
        {
          "output_type": "stream",
          "name": "stdout",
          "text": [
            "\n",
            " ACCURACY SCORE  :  0.5938428571428572\n",
            "\n",
            " PRECISION SCORE :  0.5858342863955264\n",
            "\n",
            " RECALL SCORE :  0.5426007468374657\n",
            "\n",
            " F1 SCORE : 0.5514472665500255\n"
          ]
        }
      ],
      "source": [
        "# To find the accuracy result for DTA using ENTROPY algorithm used for calculating information gain...\n",
        "from sklearn.tree import DecisionTreeClassifier\n",
        "\n",
        "E_DT = DecisionTreeClassifier(criterion='entropy',splitter ='best',max_depth=None,random_state=0)\n",
        "E_DT = E_DT.fit(x_train, y_train)\n",
        "E_DT_Pred = E_DT.predict(x_test)\n",
        "E_DT_accuracy = cross_val_score(E_DT, x, y, scoring=\"accuracy\", cv = 5).mean()\n",
        "E_DT_precision = cross_val_score(E_DT, x, y, scoring=\"precision\", cv = 5).mean()\n",
        "E_DT_recall_score = cross_val_score(E_DT, x, y, scoring=\"recall\", cv = 5).mean()\n",
        "E_DT_f1_score = cross_val_score(E_DT, x, y, scoring=\"f1\", cv = 5).mean()\n",
        "print('\\n CLASSIFICATION REPORT :', classification_report(y_test, E_DT_Pred))\n",
        "print('\\n CONFUSION MATRIX\\n')\n",
        "cm= confusion_matrix(y_test,E_DT_Pred)\n",
        "cm = pd.DataFrame(data = cm, columns = ['Predicted:0', 'Predicted:1'], index =['Actual:0', 'Actual:1'])\n",
        "plt.figure(figsize = (5, 5))\n",
        "sns.heatmap(cm, annot = True, fmt = 'd', cmap = \"Greens\")\n",
        "plt.show()\n",
        "print('\\n ACCURACY SCORE  : ', E_DT_accuracy)\n",
        "print('\\n PRECISION SCORE : ',E_DT_precision)\n",
        "print('\\n RECALL SCORE : ',E_DT_recall_score)\n",
        "print('\\n F1 SCORE :',E_DT_f1_score)"
      ]
    },
    {
      "cell_type": "code",
      "execution_count": null,
      "metadata": {
        "colab": {
          "base_uri": "https://localhost:8080/",
          "height": 685
        },
        "id": "Szjy5Rpv4AjC",
        "outputId": "e8ed1edb-b8e4-4b4f-a97c-6caae502ba3f"
      },
      "outputs": [
        {
          "output_type": "stream",
          "name": "stdout",
          "text": [
            "\n",
            " CLASSIFICATION REPORT :               precision    recall  f1-score   support\n",
            "\n",
            "           0       0.64      0.64      0.64      7073\n",
            "           1       0.63      0.64      0.63      6927\n",
            "\n",
            "    accuracy                           0.64     14000\n",
            "   macro avg       0.64      0.64      0.64     14000\n",
            "weighted avg       0.64      0.64      0.64     14000\n",
            "\n",
            "\n",
            " CONFUSION MATRIX\n",
            "\n"
          ]
        },
        {
          "output_type": "display_data",
          "data": {
            "image/png": "[encoded data removed]",
            "text/plain": [
              "<Figure size 360x360 with 2 Axes>"
            ]
          },
          "metadata": {
            "needs_background": "light"
          }
        },
        {
          "output_type": "stream",
          "name": "stdout",
          "text": [
            "\n",
            " ACCURACY SCORE  :  0.5883\n",
            "\n",
            " PRECISION SCORE :  0.5820578363621124\n",
            "\n",
            " RECALL SCORE :  0.5389995058955367\n",
            "\n",
            " F1 SCORE : 0.5514472665500255\n"
          ]
        }
      ],
      "source": [
        "# To find the accuracy result for DTA using GINI algorithm used for calculating Gini index...\n",
        "from sklearn.tree import DecisionTreeClassifier\n",
        "\n",
        "GI_DT = DecisionTreeClassifier(criterion='gini',splitter ='best',max_depth=None,random_state=0)\n",
        "GI_DT.fit(x_train, y_train)\n",
        "GI_DT_Pred = GI_DT.predict(x_test)\n",
        "GI_DT_accuracy = cross_val_score(GI_DT, x, y, scoring=\"accuracy\", cv = 5).mean()\n",
        "GI_DT_precision = cross_val_score(GI_DT, x, y, scoring=\"precision\", cv = 5).mean()\n",
        "GI_DT_recall_score = cross_val_score(GI_DT, x, y, scoring=\"recall\", cv = 5).mean()\n",
        "GI_DT_f1_score = cross_val_score(GI_DT, x, y, scoring=\"f1\", cv = 5).mean()\n",
        "print('\\n CLASSIFICATION REPORT :', classification_report(y_test,GI_DT_Pred))\n",
        "print('\\n CONFUSION MATRIX\\n')\n",
        "cm= confusion_matrix(y_test,GI_DT_Pred)\n",
        "cm = pd.DataFrame(data = cm, columns = ['Predicted:0', 'Predicted:1'], index =['Actual:0', 'Actual:1'])\n",
        "plt.figure(figsize = (5, 5))\n",
        "sns.heatmap(cm, annot = True, fmt = 'd', cmap = \"Greens\")\n",
        "plt.show()\n",
        "print('\\n ACCURACY SCORE  : ', GI_DT_accuracy)\n",
        "print('\\n PRECISION SCORE : ', GI_DT_precision)\n",
        "print('\\n RECALL SCORE : ',GI_DT_recall_score)\n",
        "print('\\n F1 SCORE :',E_DT_f1_score)"
      ]
    },
    {
      "cell_type": "markdown",
      "metadata": {
        "id": "jTYHSPsq4IqA"
      },
      "source": [
        "RESULT:"
      ]
    },
    {
      "cell_type": "code",
      "execution_count": null,
      "metadata": {
        "colab": {
          "base_uri": "https://localhost:8080/"
        },
        "id": "dIvXP1Np3x-m",
        "outputId": "bc0867e1-a971-402a-dc8a-74741c34c32d"
      },
      "outputs": [
        {
          "output_type": "stream",
          "name": "stdout",
          "text": [
            "+------------------+--------------------+--------------------+--------------------+--------------------+\n",
            "|     CRITERIA     |      Accuracy      |     Precision      |       Recall       |         F1         |\n",
            "+------------------+--------------------+--------------------+--------------------+--------------------+\n",
            "| Information Gain | 0.5938428571428572 | 0.5858342863955264 | 0.5426007468374657 | 0.5514472665500255 |\n",
            "|    Gini Index    |       0.5883       | 0.5820578363621124 | 0.5389995058955367 | 0.5511296571441001 |\n",
            "+------------------+--------------------+--------------------+--------------------+--------------------+\n"
          ]
        }
      ],
      "source": [
        "# Specify the Column Names while initializing the Table \n",
        "myTable = PrettyTable([\"CRITERIA\",\"Accuracy\",\"Precision\", \"Recall\", \"F1\"]) \n",
        "  \n",
        "# Add rows \n",
        "myTable.add_row(['Information Gain',E_DT_accuracy,E_DT_precision ,E_DT_recall_score ,E_DT_f1_score]) \n",
        "myTable.add_row(['Gini Index',GI_DT_accuracy, GI_DT_precision ,GI_DT_recall_score ,GI_DT_f1_score])  \n",
        "print(myTable)"
      ]
    },
    {
      "cell_type": "markdown",
      "metadata": {
        "id": "j-d4XTiJ4NMD"
      },
      "source": [
        "PREDECTION:"
      ]
    },
    {
      "cell_type": "code",
      "execution_count": null,
      "metadata": {
        "colab": {
          "base_uri": "https://localhost:8080/"
        },
        "id": "Jw2FgcoB4Ue4",
        "outputId": "cbb27c93-5ab5-4009-b708-5b15de77cc9b"
      },
      "outputs": [
        {
          "output_type": "stream",
          "name": "stdout",
          "text": [
            "The prediction value for Entropy Method : \n",
            "[0 0 0 ... 1 0 0]\n"
          ]
        }
      ],
      "source": [
        "print(\"The prediction value for Entropy Method : \")\n",
        "print(E_DT_Pred)"
      ]
    },
    {
      "cell_type": "code",
      "execution_count": null,
      "metadata": {
        "colab": {
          "base_uri": "https://localhost:8080/"
        },
        "id": "yeo51ZS24X_Q",
        "outputId": "d0d13aeb-21b7-4ee9-dad2-9700ee6bb43d"
      },
      "outputs": [
        {
          "output_type": "stream",
          "name": "stdout",
          "text": [
            "The prediction value for Gini Index Method : \n",
            "[0 0 0 ... 1 0 1]\n"
          ]
        }
      ],
      "source": [
        "print(\"The prediction value for Gini Index Method : \")\n",
        "print(GI_DT_Pred)"
      ]
    },
    {
      "cell_type": "markdown",
      "metadata": {
        "id": "I0vuPex44bns"
      },
      "source": [
        "TESTING:"
      ]
    },
    {
      "cell_type": "code",
      "execution_count": null,
      "metadata": {
        "id": "C3xVoa3p4fuI"
      },
      "outputs": [],
      "source": [
        "# # Predicting a new result - target 0\n",
        "# print(DT.predict(st_x.transform([[68,\t1,\t0,\t144,\t193,\t1,\t1,\t141,\t0,\t3.4,\t1,\t2,\t3\t]])))\n",
        "# print(E_DT.predict(st_x.transform([[68,\t1,\t0,\t144,\t193,\t1,\t1,\t141,\t0,\t3.4,\t1,\t2,\t3\t]])))\n",
        "# print(GI_DT.predict(st_x.transform([[68,\t1,\t0,\t144,\t193,\t1,\t1,\t141,\t0,\t3.4,\t1,\t2,\t3\t]])))"
      ]
    },
    {
      "cell_type": "code",
      "execution_count": null,
      "metadata": {
        "id": "AqXitmjF4iNV"
      },
      "outputs": [],
      "source": [
        "# # Predicting a new result - target 1\n",
        "# print(DT.predict(st_x.transform([[63,\t1,\t3,\t145,\t233,\t1,\t0,\t150,\t0,\t2.3,\t0,\t0,\t1\t]])))\n",
        "# print(E_DT.predict(st_x.transform([[63,\t1,\t3,\t145,\t233,\t1,\t0,\t150,\t0,\t2.3,\t0,\t0,\t1\t]])))\n",
        "# print(E_DT.predict(st_x.transform([[63,\t1,\t3,\t145,\t233,\t1,\t0,\t150,\t0,\t2.3,\t0,\t0,\t1\t]])))"
      ]
    },
    {
      "cell_type": "markdown",
      "metadata": {
        "id": "hxspQNsbO_bL"
      },
      "source": [
        "# **RANDOM FOREST ALGORITHM**\n",
        "\n",
        "contributed by Shree Raksha"
      ]
    },
    {
      "cell_type": "code",
      "execution_count": null,
      "metadata": {
        "colab": {
          "base_uri": "https://localhost:8080/"
        },
        "id": "u-21pjxnPBFm",
        "outputId": "9531b556-9e01-4b40-dca4-ad269c27fab9"
      },
      "outputs": [
        {
          "output_type": "stream",
          "name": "stdout",
          "text": [
            "\n",
            " CLASSIFICATION REPORT\n",
            "               precision    recall  f1-score   support\n",
            "\n",
            "           0       0.72      0.75      0.73      7073\n",
            "           1       0.73      0.70      0.71      6927\n",
            "\n",
            "    accuracy                           0.73     14000\n",
            "   macro avg       0.73      0.72      0.72     14000\n",
            "weighted avg       0.73      0.73      0.72     14000\n",
            "\n",
            "\n",
            " CONFUSION MATRIX\n",
            " [[5323 1750]\n",
            " [2099 4828]]\n",
            "\n",
            " ACCURACY SCORE  :  0.6729714285714286\n",
            "\n",
            " PRECISION SCORE :  0.7263503961517666\n",
            "\n",
            " RECALL SCORE :  0.6076649048103052\n",
            "\n",
            " F1 SCORE : 0.6031633253812587\n"
          ]
        },
        {
          "output_type": "display_data",
          "data": {
            "image/png": "[encoded data removed]",
            "text/plain": [
              "<Figure size 360x360 with 2 Axes>"
            ]
          },
          "metadata": {
            "needs_background": "light"
          }
        }
      ],
      "source": [
        "# To find the accuracy for RFA\n",
        "from sklearn.ensemble import RandomForestClassifier\n",
        "    \n",
        "RDF = RandomForestClassifier()\n",
        "RDF.fit(x_train,y_train)\n",
        "RDF_pred = RDF.predict(x_test)\n",
        "RDF_accuracy = cross_val_score(RDF, x, y, scoring=\"accuracy\", cv = 5).mean()\n",
        "RDF_precision =  cross_val_score(RDF, x, y, scoring=\"precision\", cv = 5).mean()\n",
        "RDF_recall_score =  cross_val_score(RDF, x, y, scoring=\"recall\", cv = 5).mean()\n",
        "RDF_Score =  cross_val_score(RDF, x, y, scoring=\"f1\", cv = 5).mean()\n",
        "print('\\n CLASSIFICATION REPORT\\n', classification_report(y_test, RDF_pred))\n",
        "print('\\n CONFUSION MATRIX\\n', confusion_matrix(y_test, RDF_pred))\n",
        "print('\\n ACCURACY SCORE  : ', RDF_accuracy)\n",
        "print('\\n PRECISION SCORE : ', RDF_precision)\n",
        "print('\\n RECALL SCORE : ',RDF_recall_score)\n",
        "print('\\n F1 SCORE :',RDF_Score)\n",
        "cm= confusion_matrix(y_test, RDF_pred)\n",
        "cm = pd.DataFrame(data = cm, columns = ['Predicted:0', 'Predicted:1'], index =['Actual:0', 'Actual:1'])\n",
        "plt.figure(figsize = (5, 5))\n",
        "sns.heatmap(cm, annot = True, fmt = 'd', cmap = \"Greens\")\n",
        "plt.show()\n"
      ]
    },
    {
      "cell_type": "code",
      "execution_count": null,
      "metadata": {
        "id": "390K_Rm_5fu_"
      },
      "outputs": [],
      "source": [
        "# #Tree Prediction\n",
        "# from sklearn.ensemble import RandomForestClassifier\n",
        "# from sklearn import tree\n",
        "# model = RandomForestClassifier(n_estimators=100)\n",
        "# model.fit(x_train,y_train)\n",
        "\n",
        "# # Extract single tree\n",
        "# estimator = model.estimators_[50]\n",
        "\n",
        "# from sklearn.tree import export_graphviz\n",
        "# dot_data = StringIO()\n",
        "# export_graphviz(estimator, out_file=dot_data,filled=True, rounded=True,special_characters=True,class_names=['0','1'])\n",
        "# graph = pydotplus.graph_from_dot_data(dot_data.getvalue())  \n",
        "# Image(graph.create_png())\n"
      ]
    },
    {
      "cell_type": "code",
      "execution_count": null,
      "metadata": {
        "id": "FYCZ9neJ5wj6"
      },
      "outputs": [],
      "source": [
        "# #Splited based on the sub-tree graph\n",
        "# from matplotlib.cm import rainbow\n",
        "\n",
        "# rf_scores = []\n",
        "# estimators = [10, 100, 200, 500, 1000]\n",
        "# for i in estimators:\n",
        "#     rf_classifier = RandomForestClassifier(n_estimators = i, random_state = 0)\n",
        "#     rf_classifier.fit(x_train, y_train)\n",
        "#     rf_scores.append(rf_classifier.score(x_test, y_test))\n",
        "# colors = rainbow(np.linspace(0, 1, len(estimators)))\n",
        "# plt.bar([i for i in range(len(estimators))], rf_scores, color = colors, width = 0.8)\n",
        "# for i in range(len(estimators)):\n",
        "#      plt.text(i,round(rf_scores[i],3),round(rf_scores[i],3))\n",
        "# plt.xticks(ticks = [i for i in range(len(estimators))], labels = [str(estimator) for estimator in estimators])\n",
        "# plt.xlabel('Number of estimators')\n",
        "# plt.ylabel('Scores')\n",
        "# plt.title('Random Forest Classifier scores for different number of estimators')\n"
      ]
    },
    {
      "cell_type": "code",
      "execution_count": null,
      "metadata": {
        "colab": {
          "base_uri": "https://localhost:8080/"
        },
        "id": "EuwZ5RjO555E",
        "outputId": "91d7600f-bb16-459f-8c8c-db2b0c26e479"
      },
      "outputs": [
        {
          "output_type": "stream",
          "name": "stdout",
          "text": [
            "\n",
            " CLASSIFICATION REPORT\n",
            "               precision    recall  f1-score   support\n",
            "\n",
            "           0       0.72      0.75      0.74      7073\n",
            "           1       0.74      0.70      0.72      6927\n",
            "\n",
            "    accuracy                           0.73     14000\n",
            "   macro avg       0.73      0.73      0.73     14000\n",
            "weighted avg       0.73      0.73      0.73     14000\n",
            "\n",
            "\n",
            " CONFUSION MATRIX : \n",
            "\n"
          ]
        },
        {
          "output_type": "display_data",
          "data": {
            "image/png": "[encoded data removed]",
            "text/plain": [
              "<Figure size 360x360 with 2 Axes>"
            ]
          },
          "metadata": {
            "needs_background": "light"
          }
        },
        {
          "output_type": "stream",
          "name": "stdout",
          "text": [
            "\n",
            " ACCURACY SCORE  :  0.6265058354595355\n",
            "\n",
            " PRECISION SCORE :  0.7305754825820712\n",
            "\n",
            " RECALL SCORE :  0.6265058354595355\n",
            "\n",
            " F1 SCORE :  0.6326339999289015\n"
          ]
        }
      ],
      "source": [
        "# To find the accuracy result for DTA using ENTROPY algorithm used for calculating Information gain...\n",
        "from sklearn.ensemble import RandomForestClassifier\n",
        "    \n",
        "RDF_E = RandomForestClassifier(criterion='entropy',random_state=0)\n",
        "RDF_E.fit(x_train,y_train)\n",
        "RDF_pred_E = RDF_E.predict(x_test)\n",
        "RDF_accuracy_E = cross_val_score(RDF_E, x, y, scoring=\"recall\", cv = 5).mean()\n",
        "RDF_precision_E = cross_val_score(RDF_E, x, y, scoring=\"precision\", cv = 5).mean()\n",
        "RDF_recall_score_E = cross_val_score(RDF_E, x, y, scoring=\"recall\", cv = 5).mean()\n",
        "RDF_Score_E = cross_val_score(RDF_E, x, y, scoring=\"f1\", cv = 5).mean()\n",
        "print('\\n CLASSIFICATION REPORT\\n', classification_report(y_test, RDF_pred_E))\n",
        "print('\\n CONFUSION MATRIX : \\n')\n",
        "cm= confusion_matrix(y_test, RDF_pred_E)\n",
        "cm = pd.DataFrame(data = cm, columns = ['Predicted:0', 'Predicted:1'], index =['Actual:0', 'Actual:1'])\n",
        "plt.figure(figsize = (5, 5))\n",
        "sns.heatmap(cm, annot = True, fmt = 'd', cmap = \"Greens\")\n",
        "plt.show()\n",
        "print('\\n ACCURACY SCORE  : ', RDF_accuracy_E)\n",
        "print('\\n PRECISION SCORE : ', RDF_precision_E)\n",
        "print('\\n RECALL SCORE : ', RDF_recall_score_E)\n",
        "print('\\n F1 SCORE : ',RDF_Score_E)"
      ]
    },
    {
      "cell_type": "code",
      "execution_count": null,
      "metadata": {
        "colab": {
          "base_uri": "https://localhost:8080/"
        },
        "id": "LSwOq8Td59ih",
        "outputId": "e8445b0f-bc5d-452e-ef08-96052da014d4"
      },
      "outputs": [
        {
          "output_type": "stream",
          "name": "stdout",
          "text": [
            "\n",
            " CLASSIFICATION REPORT\n",
            "               precision    recall  f1-score   support\n",
            "\n",
            "           0       0.72      0.75      0.73      7073\n",
            "           1       0.73      0.70      0.71      6927\n",
            "\n",
            "    accuracy                           0.73     14000\n",
            "   macro avg       0.73      0.72      0.72     14000\n",
            "weighted avg       0.73      0.73      0.72     14000\n",
            "\n",
            "\n",
            " CONFUSION MATRIX : \n",
            "\n"
          ]
        },
        {
          "output_type": "display_data",
          "data": {
            "image/png": "[encoded data removed]",
            "text/plain": [
              "<Figure size 360x360 with 2 Axes>"
            ]
          },
          "metadata": {
            "needs_background": "light"
          }
        },
        {
          "output_type": "stream",
          "name": "stdout",
          "text": [
            "\n",
            " ACCURACY SCORE  :  0.6767857142857142\n",
            "\n",
            " PRECISION SCORE :  0.7233450773475132\n",
            "\n",
            " RECALL SCORE :  0.6145260459259678\n",
            "\n",
            " F1 SCORE : 0.6163754182426685\n"
          ]
        }
      ],
      "source": [
        "# To find the accuracy result for DTA using CART algorithm used for calculating Gini index...\n",
        "from sklearn.ensemble import RandomForestClassifier\n",
        "    \n",
        "RDF_GI = RandomForestClassifier(criterion='gini', random_state=0)\n",
        "RDF_GI.fit(x_train,y_train)\n",
        "RDF_pred_GI= RDF.predict(x_test)\n",
        "RDF_accuracy_GI = cross_val_score(RDF_GI, x, y, scoring=\"accuracy\", cv = 5).mean()\n",
        "RDF_precision_GI = cross_val_score(RDF_GI, x, y, scoring=\"precision\", cv = 5).mean()\n",
        "RDF_recall_score_GI = cross_val_score(RDF_GI, x, y, scoring=\"recall\", cv = 5).mean()\n",
        "RDF_Score_GI = cross_val_score(RDF_GI, x, y, scoring=\"f1\", cv = 5).mean()\n",
        "print('\\n CLASSIFICATION REPORT\\n', classification_report(y_test, RDF_pred_GI))\n",
        "print('\\n CONFUSION MATRIX : \\n')\n",
        "cm= confusion_matrix(y_test, RDF_pred_GI)\n",
        "cm = pd.DataFrame(data = cm, columns = ['Predicted:0', 'Predicted:1'], index =['Actual:0', 'Actual:1'])\n",
        "plt.figure(figsize = (5, 5))\n",
        "sns.heatmap(cm, annot = True, fmt = 'd', cmap = \"Greens\")\n",
        "plt.show()\n",
        "print('\\n ACCURACY SCORE  : ',RDF_accuracy_GI )\n",
        "print('\\n PRECISION SCORE : ',RDF_precision_GI)\n",
        "print('\\n RECALL SCORE : ',RDF_recall_score_GI)\n",
        "print('\\n F1 SCORE :',RDF_Score_GI)"
      ]
    },
    {
      "cell_type": "markdown",
      "metadata": {
        "id": "wlzjNC8Q7TaV"
      },
      "source": [
        "RESULT"
      ]
    },
    {
      "cell_type": "code",
      "execution_count": null,
      "metadata": {
        "colab": {
          "base_uri": "https://localhost:8080/"
        },
        "id": "u9d3-4Nd6Dfe",
        "outputId": "b38636b5-938c-4118-ac4f-2a643c3b26a3"
      },
      "outputs": [
        {
          "output_type": "stream",
          "name": "stdout",
          "text": [
            "+------------------+--------------------+--------------------+--------------------+--------------------+\n",
            "|     CRITERIA     |      Accuracy      |     Precision      |       Recall       |         F1         |\n",
            "+------------------+--------------------+--------------------+--------------------+--------------------+\n",
            "| Information Gain | 0.6265058354595355 | 0.7305754825820712 | 0.6265058354595355 | 0.6326339999289015 |\n",
            "|    Gini Index    | 0.6767857142857142 | 0.7233450773475132 | 0.6145260459259678 | 0.6163754182426685 |\n",
            "+------------------+--------------------+--------------------+--------------------+--------------------+\n"
          ]
        }
      ],
      "source": [
        "# Specify the Column Names while initializing the Table \n",
        "myTable = PrettyTable([\"CRITERIA\",\"Accuracy\",\"Precision\", \"Recall\", \"F1\"]) \n",
        "  \n",
        "# Add rows \n",
        "myTable.add_row(['Information Gain',RDF_accuracy_E,RDF_precision_E ,RDF_recall_score_E ,RDF_Score_E]) \n",
        "myTable.add_row(['Gini Index',RDF_accuracy_GI,RDF_precision_GI ,RDF_recall_score_GI ,RDF_Score_GI])   \n",
        "print(myTable)"
      ]
    },
    {
      "cell_type": "markdown",
      "metadata": {
        "id": "LHBBvfRv7PJP"
      },
      "source": [
        "PREDICTION"
      ]
    },
    {
      "cell_type": "code",
      "execution_count": null,
      "metadata": {
        "colab": {
          "base_uri": "https://localhost:8080/"
        },
        "id": "FXNhQOts6H7V",
        "outputId": "54909a56-a0df-45d3-96c8-ff2b82f4c6f2"
      },
      "outputs": [
        {
          "output_type": "stream",
          "name": "stdout",
          "text": [
            "The prediction value for Entropy Method : \n",
            "[0 0 0 ... 1 0 1]\n"
          ]
        }
      ],
      "source": [
        "print(\"The prediction value for Entropy Method : \")\n",
        "print(RDF_pred_E)"
      ]
    },
    {
      "cell_type": "code",
      "execution_count": null,
      "metadata": {
        "colab": {
          "base_uri": "https://localhost:8080/"
        },
        "id": "273RE5RZ6Ix0",
        "outputId": "8234fde8-e043-4986-c4c3-bf2e2c9c6951"
      },
      "outputs": [
        {
          "output_type": "stream",
          "name": "stdout",
          "text": [
            "The prediction value for Entropy Method : \n",
            "[0 0 0 ... 1 0 1]\n"
          ]
        }
      ],
      "source": [
        "print(\"The prediction value for Entropy Method : \")\n",
        "print(RDF_pred_GI)"
      ]
    },
    {
      "cell_type": "markdown",
      "metadata": {
        "id": "QR-M87f07Kns"
      },
      "source": [
        "TESTING"
      ]
    },
    {
      "cell_type": "markdown",
      "metadata": {
        "id": "LAiCfGJyawCS"
      },
      "source": [
        "# **NAIVE BAYES**\n"
      ]
    },
    {
      "cell_type": "code",
      "execution_count": null,
      "metadata": {
        "colab": {
          "base_uri": "https://localhost:8080/"
        },
        "id": "VBEnV0C1WXeT",
        "outputId": "88cd2daf-05c1-42fe-8b9b-07801b3176e1"
      },
      "outputs": [
        {
          "output_type": "stream",
          "name": "stdout",
          "text": [
            "\n",
            " CLASSIFICATION REPORT\n",
            "               precision    recall  f1-score   support\n",
            "\n",
            "           0       0.55      0.91      0.68      7073\n",
            "           1       0.72      0.23      0.35      6927\n",
            "\n",
            "    accuracy                           0.57     14000\n",
            "   macro avg       0.63      0.57      0.52     14000\n",
            "weighted avg       0.63      0.57      0.52     14000\n",
            "\n",
            "\n",
            " CONFUSION MATRIX\n",
            " [[6463  610]\n",
            " [5350 1577]]\n",
            "\n",
            " ACCURACY SCORE  :  0.5478857142857143\n",
            "\n",
            " PRECISION SCORE :  0.77136845352596\n",
            "\n",
            " RECALL SCORE :  0.13642562624369034\n",
            "\n",
            " F1 SCORE : 0.23055541681527297\n"
          ]
        },
        {
          "output_type": "display_data",
          "data": {
            "image/png": "[encoded data removed]",
            "text/plain": [
              "<Figure size 360x360 with 2 Axes>"
            ]
          },
          "metadata": {
            "needs_background": "light"
          }
        }
      ],
      "source": [
        "from sklearn.naive_bayes import GaussianNB\n",
        "from sklearn import metrics\n",
        "classifier = GaussianNB()\n",
        "classifier.fit(x_train, y_train)\n",
        "y_pred = classifier.predict(x_test)\n",
        "\n",
        "bayes_accuracy = cross_val_score(classifier, x, y, scoring=\"accuracy\", cv = 5).mean()\n",
        "bayes_precision = cross_val_score(classifier, x, y, scoring=\"precision\", cv = 5).mean()\n",
        "bayes_recall_score = cross_val_score(classifier, x, y, scoring=\"recall\", cv = 5).mean()\n",
        "bayes_Score = cross_val_score(classifier, x, y, scoring=\"f1\", cv = 5).mean()\n",
        "print('\\n CLASSIFICATION REPORT\\n', classification_report(y_test, y_pred))\n",
        "print('\\n CONFUSION MATRIX\\n', confusion_matrix(y_test, y_pred))\n",
        "print('\\n ACCURACY SCORE  : ', bayes_accuracy)\n",
        "print('\\n PRECISION SCORE : ', bayes_precision)\n",
        "print('\\n RECALL SCORE : ',bayes_recall_score)\n",
        "print('\\n F1 SCORE :',bayes_Score)\n",
        "cm= confusion_matrix(y_test, y_pred)\n",
        "cm = pd.DataFrame(data = cm, columns = ['Predicted:0', 'Predicted:1'], index =['Actual:0', 'Actual:1'])\n",
        "plt.figure(figsize = (5, 5))\n",
        "sns.heatmap(cm, annot = True, fmt = 'd', cmap = \"Greens\")\n",
        "plt.show()\n"
      ]
    },
    {
      "cell_type": "code",
      "execution_count": null,
      "metadata": {
        "colab": {
          "base_uri": "https://localhost:8080/"
        },
        "id": "SAb_JCWifm2C",
        "outputId": "9f06fff2-a821-435f-bfb2-cb49b3bf3cd4"
      },
      "outputs": [
        {
          "output_type": "stream",
          "name": "stdout",
          "text": [
            "+-------------+--------------------+------------------+---------------------+---------------------+\n",
            "|   METRICS   |      ACCURACY      | PRECISION SCORE  |     RECALL SCORE    |       F1 SCORE      |\n",
            "+-------------+--------------------+------------------+---------------------+---------------------+\n",
            "| Naive Bayes | 0.5478857142857143 | 0.77136845352596 | 0.13642562624369034 | 0.23055541681527297 |\n",
            "+-------------+--------------------+------------------+---------------------+---------------------+\n"
          ]
        }
      ],
      "source": [
        "myTable = PrettyTable([\"METRICS\", \"ACCURACY\",\"PRECISION SCORE\",\"RECALL SCORE\",\"F1 SCORE\"]) \n",
        "  \n",
        "# Add rows \n",
        "myTable.add_row([\"Naive Bayes\",bayes_accuracy,bayes_precision,bayes_recall_score,bayes_Score])\n",
        "print(myTable)"
      ]
    },
    {
      "cell_type": "code",
      "execution_count": null,
      "metadata": {
        "colab": {
          "base_uri": "https://localhost:8080/"
        },
        "id": "xTsdZeo6WCf7",
        "outputId": "5018214c-194d-48b2-bcd6-bc9dbf47d231"
      },
      "outputs": [
        {
          "output_type": "stream",
          "name": "stdout",
          "text": [
            "The prediction value for NB Method : \n",
            "[0 0 0 ... 0 0 1]\n"
          ]
        }
      ],
      "source": [
        "print(\"The prediction value for NB Method : \")\n",
        "print(y_pred)"
      ]
    },
    {
      "cell_type": "code",
      "execution_count": null,
      "metadata": {
        "id": "I_e5X04rWtm1"
      },
      "outputs": [],
      "source": [
        "# # Predicting a new result - target 0\n",
        "# print(classifier.predict(st_x.transform([[68,\t1,\t0,\t144,\t193,\t1,\t1,\t141,\t0,\t3.4,\t1,\t2,\t3\t]])))"
      ]
    },
    {
      "cell_type": "code",
      "execution_count": null,
      "metadata": {
        "id": "_xt732dKXVL5"
      },
      "outputs": [],
      "source": [
        "# # Predicting a new result - target 1\n",
        "# print(classifier.predict(st_x.transform([[63,\t1,\t3,\t145,\t233,\t1,\t0,\t150,\t0,\t2.3,\t0,\t0,\t1\t]])))"
      ]
    },
    {
      "cell_type": "markdown",
      "metadata": {
        "id": "jnN8GLwjPQb0"
      },
      "source": [
        "# **LOGISTIC REGRESSION**\n"
      ]
    },
    {
      "cell_type": "code",
      "execution_count": 1,
      "metadata": {
        "colab": {
          "base_uri": "https://localhost:8080/",
          "height": 235
        },
        "id": "8TZok-8kqjMZ",
        "outputId": "de35ee20-afbc-4f52-af68-b5fa0175e2b0"
      },
      "outputs": [
        {
          "output_type": "error",
          "ename": "NameError",
          "evalue": "ignored",
          "traceback": [
            "\u001b[0;31m---------------------------------------------------------------------------\u001b[0m",
            "\u001b[0;31mNameError\u001b[0m                                 Traceback (most recent call last)",
            "\u001b[0;32m<ipython-input-1-baf28ae6e98a>\u001b[0m in \u001b[0;36m<module>\u001b[0;34m\u001b[0m\n\u001b[1;32m      1\u001b[0m \u001b[0;32mfrom\u001b[0m \u001b[0msklearn\u001b[0m\u001b[0;34m.\u001b[0m\u001b[0mlinear_model\u001b[0m \u001b[0;32mimport\u001b[0m \u001b[0mLogisticRegression\u001b[0m\u001b[0;34m\u001b[0m\u001b[0;34m\u001b[0m\u001b[0m\n\u001b[1;32m      2\u001b[0m \u001b[0mlogreg\u001b[0m \u001b[0;34m=\u001b[0m \u001b[0mLogisticRegression\u001b[0m\u001b[0;34m(\u001b[0m\u001b[0;34m)\u001b[0m\u001b[0;34m\u001b[0m\u001b[0;34m\u001b[0m\u001b[0m\n\u001b[0;32m----> 3\u001b[0;31m \u001b[0mlogreg\u001b[0m\u001b[0;34m.\u001b[0m\u001b[0mfit\u001b[0m\u001b[0;34m(\u001b[0m\u001b[0mx_train\u001b[0m\u001b[0;34m,\u001b[0m \u001b[0my_train\u001b[0m\u001b[0;34m)\u001b[0m\u001b[0;34m\u001b[0m\u001b[0;34m\u001b[0m\u001b[0m\n\u001b[0m\u001b[1;32m      4\u001b[0m \u001b[0mlogreg_Pred\u001b[0m\u001b[0;34m=\u001b[0m \u001b[0mlogreg\u001b[0m\u001b[0;34m.\u001b[0m\u001b[0mpredict\u001b[0m\u001b[0;34m(\u001b[0m\u001b[0mx_test\u001b[0m\u001b[0;34m)\u001b[0m\u001b[0;34m\u001b[0m\u001b[0;34m\u001b[0m\u001b[0m\n\u001b[1;32m      5\u001b[0m \u001b[0mlogreg_accuracy\u001b[0m \u001b[0;34m=\u001b[0m \u001b[0mcross_val_score\u001b[0m\u001b[0;34m(\u001b[0m\u001b[0mlogreg\u001b[0m\u001b[0;34m,\u001b[0m \u001b[0mx\u001b[0m\u001b[0;34m,\u001b[0m \u001b[0my\u001b[0m\u001b[0;34m,\u001b[0m \u001b[0mscoring\u001b[0m\u001b[0;34m=\u001b[0m\u001b[0;34m\"accuracy\"\u001b[0m\u001b[0;34m,\u001b[0m \u001b[0mcv\u001b[0m \u001b[0;34m=\u001b[0m \u001b[0;36m5\u001b[0m\u001b[0;34m)\u001b[0m\u001b[0;34m.\u001b[0m\u001b[0mmean\u001b[0m\u001b[0;34m(\u001b[0m\u001b[0;34m)\u001b[0m\u001b[0;34m\u001b[0m\u001b[0;34m\u001b[0m\u001b[0m\n",
            "\u001b[0;31mNameError\u001b[0m: name 'x_train' is not defined"
          ]
        }
      ],
      "source": [
        "from sklearn.linear_model import LogisticRegression\n",
        "logreg = LogisticRegression()\n",
        "logreg.fit(x_train, y_train)\n",
        "logreg_Pred= logreg.predict(x_test)\n",
        "logreg_accuracy = cross_val_score(logreg, x, y, scoring=\"accuracy\", cv = 5).mean()\n",
        "logreg_precision = cross_val_score(logreg, x, y, scoring=\"precision\", cv = 5).mean()\n",
        "logreg_recall_score = cross_val_score(logreg, x, y, scoring=\"recall\", cv = 5).mean()\n",
        "logreg_f1_score = cross_val_score(logreg, x, y, scoring=\"f1\", cv = 5).mean()\n",
        "print('\\n CLASSIFICATION REPORT\\n', classification_report(y_test, logreg_Pred))\n",
        "print('\\n CONFUSION MATRIX\\n', confusion_matrix(y_test, logreg_Pred))\n",
        "print('\\n ACCURACY SCORE  : ',logreg_accuracy)\n",
        "print('\\n PRECISION SCORE : ',logreg_precision)\n",
        "print('\\n RECALL SCORE : ', logreg_recall_score)\n",
        "print('\\n F1 SCORE : ', logreg_f1_score)\n",
        "print('\\n CONFUSION MATRIX\\n')\n",
        "cm= confusion_matrix(y_test,logreg_Pred)\n",
        "cm = pd.DataFrame(data = cm, columns = ['Predicted:0', 'Predicted:1'], index =['Actual:0', 'Actual:1'])\n",
        "plt.figure(figsize = (5, 5))\n",
        "sns.heatmap(cm, annot = True, fmt = 'd', cmap = \"Greens\")\n",
        "plt.show()"
      ]
    },
    {
      "cell_type": "code",
      "execution_count": null,
      "metadata": {
        "id": "ZX28LjVnqobk"
      },
      "outputs": [],
      "source": [
        "from sklearn.linear_model import LogisticRegression\n",
        "logreg_M= LogisticRegression(multi_class='multinomial', solver='lbfgs')\n",
        "logreg_M.fit(x_train, y_train)\n",
        "logreg_Pred_M= logreg_M.predict(x_test)\n",
        "logreg_accuracy_M= cross_val_score(logreg_M, x, y, scoring=\"accuracy\", cv = 5).mean()\n",
        "logreg_precision_M= cross_val_score(logreg_M, x, y, scoring=\"precision\", cv = 5).mean()\n",
        "logreg_recall_score_M = cross_val_score(logreg_M, x, y, scoring=\"recall\", cv = 5).mean()\n",
        "logreg_f1_score_M = cross_val_score(logreg_M, x, y, scoring=\"f1\", cv = 5).mean()\n",
        "print('\\n CLASSIFICATION REPORT\\n', classification_report(y_test, logreg_Pred_M))\n",
        "print('\\n CONFUSION MATRIX\\n', confusion_matrix(y_test, logreg_Pred_M))\n",
        "print('\\n ACCURACY SCORE  : ',logreg_accuracy_M)\n",
        "print('\\n PRECISION SCORE : ',logreg_precision_M)\n",
        "print('\\n RECALL SCORE : ', logreg_recall_score_M)\n",
        "print('\\n F1 SCORE : ', logreg_f1_score_M)\n",
        "print('\\n CONFUSION MATRIX\\n')\n",
        "cm= confusion_matrix(y_test,logreg_Pred_M)\n",
        "cm = pd.DataFrame(data = cm, columns = ['Predicted:0', 'Predicted:1'], index =['Actual:0', 'Actual:1'])\n",
        "plt.figure(figsize = (5, 5))\n",
        "sns.heatmap(cm, annot = True, fmt = 'd', cmap = \"Greens\")\n",
        "plt.show()"
      ]
    },
    {
      "cell_type": "code",
      "execution_count": null,
      "metadata": {
        "id": "VoWpj5QfqvsY"
      },
      "outputs": [],
      "source": [
        "# Specify the Column Names while initializing the Table \n",
        "myTable = PrettyTable([\"CRITERIA\",\"Accuracy\",\"Precision\", \"Recall\", \"F1\"]) \n",
        "  \n",
        "# Add rows \n",
        "myTable.add_row(['Logistic Regression',logreg_accuracy, logreg_precision, logreg_recall_score, logreg_f1_score]) \n",
        "myTable.add_row(['MultinomialRegression ',logreg_accuracy_M,logreg_precision_M,logreg_recall_score_M,logreg_recall_score_M])   \n",
        "print(myTable)"
      ]
    },
    {
      "cell_type": "code",
      "execution_count": null,
      "metadata": {
        "id": "s9NcKPsSq5h7"
      },
      "outputs": [],
      "source": [
        "# # Predicting a new result - target 0\n",
        "# print(logreg.predict(st_x.transform([[68,\t1,\t0,\t144,\t193,\t1,\t1,\t141,\t0,\t3.4,\t1,\t2,\t3\t]])))"
      ]
    },
    {
      "cell_type": "code",
      "execution_count": null,
      "metadata": {
        "id": "ZP84P6bCrX95"
      },
      "outputs": [],
      "source": [
        "# # Predicting a new result - target 1\n",
        "# print(logreg.predict(st_x.transform([[63,\t1,\t3,\t145,\t233,\t1,\t0,\t150,\t0,\t2.3,\t0,\t0,\t1\t]])))"
      ]
    },
    {
      "cell_type": "markdown",
      "metadata": {
        "id": "1JGgYTRO9oVu"
      },
      "source": [
        "# **XGBOOST**"
      ]
    },
    {
      "cell_type": "code",
      "execution_count": null,
      "metadata": {
        "colab": {
          "base_uri": "https://localhost:8080/"
        },
        "id": "5zzvMnXJ9txx",
        "outputId": "210acff6-e0be-4ea3-a373-df643dfb12e9"
      },
      "outputs": [
        {
          "output_type": "stream",
          "name": "stdout",
          "text": [
            "\n",
            " CLASSIFICATION REPORT\n",
            "               precision    recall  f1-score   support\n",
            "\n",
            "           0       0.72      0.78      0.75      7073\n",
            "           1       0.75      0.69      0.72      6927\n",
            "\n",
            "    accuracy                           0.74     14000\n",
            "   macro avg       0.74      0.74      0.74     14000\n",
            "weighted avg       0.74      0.74      0.74     14000\n",
            "\n",
            "\n",
            " CONFUSION MATRIX\n",
            " [[5510 1563]\n",
            " [2120 4807]]\n",
            "\n",
            " ACCURACY SCORE  :  0.654442857142857\n",
            "\n",
            " PRECISION SCORE :  0.5618148423351603\n",
            "\n",
            " RECALL SCORE :  0.6156946826758147\n",
            "\n",
            " F1 SCORE :  0.574292512618294\n",
            "\n",
            " CONFUSION MATRIX\n",
            "\n"
          ]
        },
        {
          "output_type": "display_data",
          "data": {
            "image/png": "[encoded data removed]",
            "text/plain": [
              "<Figure size 360x360 with 2 Axes>"
            ]
          },
          "metadata": {
            "needs_background": "light"
          }
        }
      ],
      "source": [
        "from xgboost import XGBClassifier\n",
        "\n",
        "XG = XGBClassifier()\n",
        "\n",
        "XG.fit(x_train,y_train)\n",
        "\n",
        "XG_Pred = XG.predict(x_test)\n",
        "XG_accuracy = cross_val_score(XG, x, y, scoring=\"accuracy\", cv = 5).mean()\n",
        "XG_precision = cross_val_score(XG, x, y, scoring=\"precision\", cv = 5).mean()\n",
        "XG_recall_score = cross_val_score(XG, x, y, scoring=\"recall\", cv = 5).mean()\n",
        "XG_f1_score = cross_val_score(XG, x, y, scoring=\"f1\", cv = 5).mean()\n",
        "print('\\n CLASSIFICATION REPORT\\n', classification_report(y_test, XG_Pred))\n",
        "print('\\n CONFUSION MATRIX\\n', confusion_matrix(y_test, XG_Pred))\n",
        "print('\\n ACCURACY SCORE  : ', XG_accuracy)\n",
        "print('\\n PRECISION SCORE : ', XG_precision)\n",
        "print('\\n RECALL SCORE : ', XG_recall_score)\n",
        "print('\\n F1 SCORE : ', XG_f1_score)\n",
        "print('\\n CONFUSION MATRIX\\n')\n",
        "cm= confusion_matrix(y_test,XG_Pred)\n",
        "cm = pd.DataFrame(data = cm, columns = ['Predicted:0', 'Predicted:1'], index =['Actual:0', 'Actual:1'])\n",
        "plt.figure(figsize = (5, 5))\n",
        "sns.heatmap(cm, annot = True, fmt = 'd', cmap = \"Greens\")\n",
        "plt.show()"
      ]
    },
    {
      "cell_type": "code",
      "execution_count": null,
      "metadata": {
        "colab": {
          "base_uri": "https://localhost:8080/"
        },
        "id": "KIHbk5zmz_jv",
        "outputId": "92f64647-2a46-4b1b-e7bf-3599141f9f6d"
      },
      "outputs": [
        {
          "output_type": "stream",
          "name": "stdout",
          "text": [
            "+------------+-------------------+--------------------+--------------------+-------------------+\n",
            "|  METRICS   |   ACCURACY SCORE  |  PRECISION SCORE   |    RECALL SCORE    |      F1 SCORE     |\n",
            "+------------+-------------------+--------------------+--------------------+-------------------+\n",
            "| XGBoosting | 0.654442857142857 | 0.5618148423351603 | 0.6156946826758147 | 0.574292512618294 |\n",
            "+------------+-------------------+--------------------+--------------------+-------------------+\n"
          ]
        }
      ],
      "source": [
        "from prettytable import PrettyTable \n",
        "\n",
        "myTable = PrettyTable([\"METRICS\", \"ACCURACY SCORE\",\"PRECISION SCORE\",\"RECALL SCORE\",\"F1 SCORE\"]) \n",
        "  \n",
        "# Add rows \n",
        "myTable.add_row(['XGBoosting',XG_accuracy,XG_precision ,XG_recall_score ,XG_f1_score]) \n",
        "\n",
        "print(myTable)"
      ]
    },
    {
      "cell_type": "markdown",
      "metadata": {
        "id": "p0-oK0xH_1tw"
      },
      "source": [
        "# **GRADIENT BOOST**"
      ]
    },
    {
      "cell_type": "code",
      "execution_count": null,
      "metadata": {
        "colab": {
          "base_uri": "https://localhost:8080/"
        },
        "id": "pIPnmbcN6cIT",
        "outputId": "7de0d5d6-2b53-418e-b1be-04b6f3a2b4bf"
      },
      "outputs": [
        {
          "output_type": "stream",
          "name": "stdout",
          "text": [
            "\n",
            " CLASSIFICATION REPORT\n",
            "               precision    recall  f1-score   support\n",
            "\n",
            "           0       0.72      0.77      0.75      7073\n",
            "           1       0.75      0.70      0.72      6927\n",
            "\n",
            "    accuracy                           0.74     14000\n",
            "   macro avg       0.74      0.74      0.74     14000\n",
            "weighted avg       0.74      0.74      0.74     14000\n",
            "\n",
            "\n",
            " CONFUSION MATRIX\n",
            " [[5458 1615]\n",
            " [2075 4852]]\n",
            "\n",
            " ACCURACY SCORE  :  0.6620285714285714\n",
            "\n",
            " PRECISION SCORE :  0.7644862413792098\n",
            "\n",
            " RECALL SCORE :  0.6142653108015159\n",
            "\n",
            " F1 SCORE :  0.577858680177457\n",
            "\n",
            " CONFUSION MATRIX\n",
            "\n"
          ]
        },
        {
          "output_type": "display_data",
          "data": {
            "image/png": "[encoded data removed]",
            "text/plain": [
              "<Figure size 360x360 with 2 Axes>"
            ]
          },
          "metadata": {
            "needs_background": "light"
          }
        }
      ],
      "source": [
        "from numpy import mean\n",
        "from numpy import std\n",
        "from sklearn.model_selection import RepeatedStratifiedKFold\n",
        "from sklearn.ensemble import GradientBoostingClassifier\n",
        "from sklearn.model_selection import cross_val_score\n",
        "GB = GradientBoostingClassifier()\n",
        "GB.fit(x_train,y_train)\n",
        "GB_Pred = GB.predict(x_test)\n",
        "GB_accuracy = cross_val_score(GB, x, y, scoring=\"accuracy\", cv = 5).mean()\n",
        "GB_precision = cross_val_score(GB, x, y, scoring=\"precision\", cv = 5).mean()\n",
        "GB_recall_score = cross_val_score(GB, x, y, scoring=\"recall\", cv = 5).mean()\n",
        "GB_f1_score = cross_val_score(GB, x, y, scoring=\"f1\", cv = 5).mean()\n",
        "print('\\n CLASSIFICATION REPORT\\n', classification_report(y_test, GB_Pred))\n",
        "print('\\n CONFUSION MATRIX\\n', confusion_matrix(y_test, GB_Pred))\n",
        "print('\\n ACCURACY SCORE  : ', GB_accuracy)\n",
        "print('\\n PRECISION SCORE : ', GB_precision)\n",
        "print('\\n RECALL SCORE : ', GB_recall_score)\n",
        "print('\\n F1 SCORE : ', GB_f1_score)\n",
        "print('\\n CONFUSION MATRIX\\n')\n",
        "cm= confusion_matrix(y_test,GB_Pred)\n",
        "cm = pd.DataFrame(data = cm, columns = ['Predicted:0', 'Predicted:1'], index =['Actual:0', 'Actual:1'])\n",
        "plt.figure(figsize = (5, 5))\n",
        "sns.heatmap(cm, annot = True, fmt = 'd', cmap = \"Greens\")\n",
        "plt.show()"
      ]
    },
    {
      "cell_type": "code",
      "execution_count": null,
      "metadata": {
        "colab": {
          "base_uri": "https://localhost:8080/"
        },
        "id": "INmGWDu600JP",
        "outputId": "11e08bd4-2486-4fd0-cd58-abd29963395a"
      },
      "outputs": [
        {
          "output_type": "stream",
          "name": "stdout",
          "text": [
            "+-------------------+--------------------+--------------------+--------------------+-------------------+\n",
            "|      METRICS      |   ACCURACY SCORE   |  PRECISION SCORE   |    RECALL SCORE    |      F1 SCORE     |\n",
            "+-------------------+--------------------+--------------------+--------------------+-------------------+\n",
            "| Gradient Boosting | 0.6620285714285714 | 0.7644862413792098 | 0.6142653108015159 | 0.577858680177457 |\n",
            "+-------------------+--------------------+--------------------+--------------------+-------------------+\n"
          ]
        }
      ],
      "source": [
        "from prettytable import PrettyTable \n",
        "\n",
        "myTable = PrettyTable([\"METRICS\", \"ACCURACY SCORE\",\"PRECISION SCORE\",\"RECALL SCORE\",\"F1 SCORE\"]) \n",
        "  \n",
        "# Add rows \n",
        "myTable.add_row(['Gradient Boosting',GB_accuracy,GB_precision ,GB_recall_score ,GB_f1_score]) \n",
        "\n",
        "print(myTable)"
      ]
    },
    {
      "cell_type": "markdown",
      "metadata": {
        "id": "a-3e0SwBgSUR"
      },
      "source": [
        "# **ADABOOST**"
      ]
    },
    {
      "cell_type": "code",
      "execution_count": null,
      "metadata": {
        "id": "BR_lhMsXgZLV"
      },
      "outputs": [],
      "source": [
        "from sklearn.preprocessing import LabelEncoder\n",
        "le=LabelEncoder()\n",
        "y=le.fit_transform(y)"
      ]
    },
    {
      "cell_type": "code",
      "execution_count": null,
      "metadata": {
        "colab": {
          "base_uri": "https://localhost:8080/"
        },
        "id": "vwZts00zgw7H",
        "outputId": "ab8442df-864d-487f-f38b-10779d36ba03"
      },
      "outputs": [
        {
          "output_type": "stream",
          "name": "stdout",
          "text": [
            "\n",
            " CLASSIFICATION REPORT\n",
            "               precision    recall  f1-score   support\n",
            "\n",
            "           0       0.71      0.80      0.75      7073\n",
            "           1       0.76      0.66      0.71      6927\n",
            "\n",
            "    accuracy                           0.73     14000\n",
            "   macro avg       0.74      0.73      0.73     14000\n",
            "weighted avg       0.73      0.73      0.73     14000\n",
            "\n",
            "\n",
            " CONFUSION MATRIX\n",
            " [[5653 1420]\n",
            " [2345 4582]]\n",
            "\n",
            " ACCURACY SCORE  :  0.6394428571428572\n",
            "\n",
            " PRECISION SCORE :  0.5623014071748774\n",
            "\n",
            " RECALL SCORE :  0.5967695826186392\n",
            "\n",
            " F1 SCORE :  0.5603459064426906\n",
            "\n",
            " CONFUSION MATRIX\n",
            "\n"
          ]
        },
        {
          "output_type": "display_data",
          "data": {
            "image/png": "[encoded data removed]",
            "text/plain": [
              "<Figure size 360x360 with 2 Axes>"
            ]
          },
          "metadata": {
            "needs_background": "light"
          }
        }
      ],
      "source": [
        "from sklearn.ensemble import AdaBoostClassifier\n",
        "abc = AdaBoostClassifier()\n",
        "model1 = abc.fit(x_train, y_train)\n",
        "y_pred = model1.predict(x_test)\n",
        "\n",
        "ada_accuracy = cross_val_score(abc, x, y, scoring=\"accuracy\", cv = 5).mean()\n",
        "ada_precision = cross_val_score(abc, x, y, scoring=\"precision\", cv = 5).mean()\n",
        "ada_recall_score = cross_val_score(abc, x, y, scoring=\"recall\", cv = 5).mean()\n",
        "ada_f1_score = cross_val_score(abc, x, y, scoring=\"f1\", cv = 5).mean()\n",
        "print('\\n CLASSIFICATION REPORT\\n', classification_report(y_test, y_pred))\n",
        "print('\\n CONFUSION MATRIX\\n', confusion_matrix(y_test, y_pred))\n",
        "print('\\n ACCURACY SCORE  : ', ada_accuracy)\n",
        "print('\\n PRECISION SCORE : ',ada_precision)\n",
        "print('\\n RECALL SCORE : ', ada_recall_score)\n",
        "print('\\n F1 SCORE : ', ada_f1_score)\n",
        "print('\\n CONFUSION MATRIX\\n')\n",
        "cm= confusion_matrix(y_test,y_pred)\n",
        "cm = pd.DataFrame(data = cm, columns = ['Predicted:0', 'Predicted:1'], index =['Actual:0', 'Actual:1'])\n",
        "plt.figure(figsize = (5, 5))\n",
        "sns.heatmap(cm, annot = True, fmt = 'd', cmap = \"Greens\")\n",
        "plt.show()\n",
        "\n"
      ]
    },
    {
      "cell_type": "code",
      "execution_count": null,
      "metadata": {
        "colab": {
          "base_uri": "https://localhost:8080/"
        },
        "id": "Lot0R13DaSqc",
        "outputId": "774ded72-4587-4521-d0d7-c82846a6006c"
      },
      "outputs": [
        {
          "output_type": "stream",
          "name": "stdout",
          "text": [
            "              precision    recall  f1-score   support\n",
            "\n",
            "           0       0.71      0.80      0.75      7073\n",
            "           1       0.76      0.66      0.71      6927\n",
            "\n",
            "    accuracy                           0.73     14000\n",
            "   macro avg       0.74      0.73      0.73     14000\n",
            "weighted avg       0.73      0.73      0.73     14000\n",
            "\n"
          ]
        }
      ],
      "source": [
        "print(classification_report(y_test,y_pred))\n"
      ]
    },
    {
      "cell_type": "code",
      "execution_count": null,
      "metadata": {
        "colab": {
          "base_uri": "https://localhost:8080/"
        },
        "id": "JiTYHLVpsYhM",
        "outputId": "66ea5708-ab35-432a-e6e6-361d5dd75eb5"
      },
      "outputs": [
        {
          "output_type": "stream",
          "name": "stdout",
          "text": [
            "+-------------+--------------------+--------------------+--------------------+--------------------+\n",
            "|   METRICS   |   ACCURACY SCORE   |  PRECISION SCORE   |    RECALL SCORE    |      F1 SCORE      |\n",
            "+-------------+--------------------+--------------------+--------------------+--------------------+\n",
            "| AdaBoosting | 0.6394428571428572 | 0.5623014071748774 | 0.5967695826186392 | 0.5603459064426906 |\n",
            "+-------------+--------------------+--------------------+--------------------+--------------------+\n"
          ]
        }
      ],
      "source": [
        "from prettytable import PrettyTable \n",
        "\n",
        "myTable = PrettyTable([\"METRICS\", \"ACCURACY SCORE\",\"PRECISION SCORE\",\"RECALL SCORE\",\"F1 SCORE\"]) \n",
        "  \n",
        "# Add rows \n",
        "myTable.add_row(['AdaBoosting',ada_accuracy,ada_precision ,ada_recall_score ,ada_f1_score]) \n",
        "\n",
        "print(myTable)"
      ]
    },
    {
      "cell_type": "markdown",
      "metadata": {
        "id": "yhMylq7W55GV"
      },
      "source": [
        "# **CORRELATION MATRIX**"
      ]
    },
    {
      "cell_type": "code",
      "execution_count": null,
      "metadata": {
        "colab": {
          "base_uri": "https://localhost:8080/"
        },
        "id": "-3EYOobu7IrQ",
        "outputId": "5cffc426-4941-4b29-da2d-be3522e6ce4c"
      },
      "outputs": [
        {
          "output_type": "display_data",
          "data": {
            "text/html": [
              "<div>\n",
              "<style scoped>\n",
              "    .dataframe tbody tr th:only-of-type {\n",
              "        vertical-align: middle;\n",
              "    }\n",
              "\n",
              "    .dataframe tbody tr th {\n",
              "        vertical-align: top;\n",
              "    }\n",
              "\n",
              "    .dataframe thead th {\n",
              "        text-align: right;\n",
              "    }\n",
              "</style>\n",
              "<table border=\"1\" class=\"dataframe\">\n",
              "  <thead>\n",
              "    <tr style=\"text-align: right;\">\n",
              "      <th></th>\n",
              "      <th>TARGET</th>\n",
              "      <th>KNN</th>\n",
              "      <th>SVM</th>\n",
              "      <th>DT</th>\n",
              "      <th>RF</th>\n",
              "      <th>NB</th>\n",
              "      <th>LR</th>\n",
              "    </tr>\n",
              "  </thead>\n",
              "  <tbody>\n",
              "    <tr>\n",
              "      <th>0</th>\n",
              "      <td>0</td>\n",
              "      <td>0</td>\n",
              "      <td>0</td>\n",
              "      <td>0</td>\n",
              "      <td>0</td>\n",
              "      <td>0</td>\n",
              "      <td>0</td>\n",
              "    </tr>\n",
              "    <tr>\n",
              "      <th>1</th>\n",
              "      <td>1</td>\n",
              "      <td>1</td>\n",
              "      <td>1</td>\n",
              "      <td>1</td>\n",
              "      <td>1</td>\n",
              "      <td>0</td>\n",
              "      <td>1</td>\n",
              "    </tr>\n",
              "    <tr>\n",
              "      <th>2</th>\n",
              "      <td>1</td>\n",
              "      <td>1</td>\n",
              "      <td>0</td>\n",
              "      <td>1</td>\n",
              "      <td>1</td>\n",
              "      <td>0</td>\n",
              "      <td>0</td>\n",
              "    </tr>\n",
              "    <tr>\n",
              "      <th>3</th>\n",
              "      <td>1</td>\n",
              "      <td>0</td>\n",
              "      <td>0</td>\n",
              "      <td>1</td>\n",
              "      <td>1</td>\n",
              "      <td>0</td>\n",
              "      <td>1</td>\n",
              "    </tr>\n",
              "    <tr>\n",
              "      <th>4</th>\n",
              "      <td>0</td>\n",
              "      <td>0</td>\n",
              "      <td>0</td>\n",
              "      <td>0</td>\n",
              "      <td>0</td>\n",
              "      <td>0</td>\n",
              "      <td>0</td>\n",
              "    </tr>\n",
              "    <tr>\n",
              "      <th>...</th>\n",
              "      <td>...</td>\n",
              "      <td>...</td>\n",
              "      <td>...</td>\n",
              "      <td>...</td>\n",
              "      <td>...</td>\n",
              "      <td>...</td>\n",
              "      <td>...</td>\n",
              "    </tr>\n",
              "    <tr>\n",
              "      <th>4995</th>\n",
              "      <td>0</td>\n",
              "      <td>0</td>\n",
              "      <td>1</td>\n",
              "      <td>0</td>\n",
              "      <td>0</td>\n",
              "      <td>0</td>\n",
              "      <td>1</td>\n",
              "    </tr>\n",
              "    <tr>\n",
              "      <th>4996</th>\n",
              "      <td>1</td>\n",
              "      <td>1</td>\n",
              "      <td>1</td>\n",
              "      <td>1</td>\n",
              "      <td>1</td>\n",
              "      <td>0</td>\n",
              "      <td>0</td>\n",
              "    </tr>\n",
              "    <tr>\n",
              "      <th>4997</th>\n",
              "      <td>0</td>\n",
              "      <td>0</td>\n",
              "      <td>1</td>\n",
              "      <td>0</td>\n",
              "      <td>0</td>\n",
              "      <td>0</td>\n",
              "      <td>0</td>\n",
              "    </tr>\n",
              "    <tr>\n",
              "      <th>4998</th>\n",
              "      <td>0</td>\n",
              "      <td>0</td>\n",
              "      <td>0</td>\n",
              "      <td>0</td>\n",
              "      <td>0</td>\n",
              "      <td>0</td>\n",
              "      <td>0</td>\n",
              "    </tr>\n",
              "    <tr>\n",
              "      <th>4999</th>\n",
              "      <td>0</td>\n",
              "      <td>1</td>\n",
              "      <td>0</td>\n",
              "      <td>0</td>\n",
              "      <td>0</td>\n",
              "      <td>0</td>\n",
              "      <td>0</td>\n",
              "    </tr>\n",
              "  </tbody>\n",
              "</table>\n",
              "<p>5000 rows × 7 columns</p>\n",
              "</div>"
            ],
            "text/plain": [
              "      TARGET  KNN  SVM  DT  RF  NB  LR\n",
              "0          0    0    0   0   0   0   0\n",
              "1          1    1    1   1   1   0   1\n",
              "2          1    1    0   1   1   0   0\n",
              "3          1    0    0   1   1   0   1\n",
              "4          0    0    0   0   0   0   0\n",
              "...      ...  ...  ...  ..  ..  ..  ..\n",
              "4995       0    0    1   0   0   0   1\n",
              "4996       1    1    1   1   1   0   0\n",
              "4997       0    0    1   0   0   0   0\n",
              "4998       0    0    0   0   0   0   0\n",
              "4999       0    1    0   0   0   0   0\n",
              "\n",
              "[5000 rows x 7 columns]"
            ]
          },
          "metadata": {}
        },
        {
          "output_type": "execute_result",
          "data": {
            "text/plain": [
              "True"
            ]
          },
          "metadata": {},
          "execution_count": 65
        }
      ],
      "source": [
        "#importing the dataset\n",
        "data = pd.read_csv('/content/Prediction_70000.csv')\n",
        "display(data)\n",
        "all(data)"
      ]
    },
    {
      "cell_type": "code",
      "execution_count": null,
      "metadata": {
        "id": "0qis8ZdapDXn"
      },
      "outputs": [],
      "source": [
        "cor={'KNN':0,'SVM':1,'DT':2,'RF':3,'NB':4,'LR':5} #index value "
      ]
    },
    {
      "cell_type": "code",
      "execution_count": null,
      "metadata": {
        "id": "vHy2v5Z93XWu"
      },
      "outputs": [],
      "source": [
        "rows, cols = (7, 7)\n",
        "val = [[0 for i in range(cols)] for j in range(rows)] #creating the double array\n",
        "for i in range(1,7):\n",
        "  for j in range(1,7):\n",
        "    tt=0\n",
        "    tf=0\n",
        "    ft=0\n",
        "    ff=0\n",
        "    for count in range(62):\n",
        "      if data.iloc[count,i] == data['TARGET'][count] and data.iloc[count,j] == data['TARGET'][count]:\n",
        "        tt=tt+1\n",
        "      elif data.iloc[count,i] == data['TARGET'][count] and data.iloc[count,j] != data['TARGET'][count]:\n",
        "        tf=tf+1\n",
        "      elif data.iloc[count,i] != data['TARGET'][count] and data.iloc[count,j] == data['TARGET'][count]:\n",
        "        ft=ft+1\n",
        "      elif data.iloc[count,i] != data['TARGET'][count] and data.iloc[count,j] != data['TARGET'][count]:\n",
        "        ff=ff+1\n",
        "    try:\n",
        "      correlation = int (2*ff)/int (tf+ft+(2*ff))\n",
        "    except ZeroDivisionError:\n",
        "\t    correlation = 0\n",
        "    val[i][j] = correlation\n",
        "    # print('\\n')"
      ]
    },
    {
      "cell_type": "code",
      "execution_count": null,
      "metadata": {
        "colab": {
          "base_uri": "https://localhost:8080/"
        },
        "id": "vw0uvf1xHJSe",
        "outputId": "f56854ea-5da4-4cfc-c67a-e3941833598c"
      },
      "outputs": [
        {
          "output_type": "stream",
          "name": "stdout",
          "text": [
            "         KNN         SVM         DT         RF         NB         LR\n",
            "\n",
            "KNN       1.0       0.57       0.0       0.0       0.32       0.42       \n",
            "\n",
            "SVM       0.57       1.0       0.0       0.0       0.44       0.6       \n",
            "\n",
            "DT       0.0       0.0       0       0       0.0       0.0       \n",
            "\n",
            "RF       0.0       0.0       0       0       0.0       0.0       \n",
            "\n",
            "NB       0.32       0.44       0.0       0.0       1.0       0.34       \n",
            "\n",
            "LR       0.42       0.6       0.0       0.0       0.34       1.0       \n",
            "\n"
          ]
        }
      ],
      "source": [
        "for i in range(1,7):\n",
        "  print(f\"         {data.columns[i]}\",end=\"\")\n",
        "print(\"\\n\")\n",
        "\n",
        "for i in range(1,7):\n",
        "  print(data.columns[i],end =\"       \")\n",
        "  for j in range(1,7):\n",
        "    print(round(val[i][j],2),end = \"       \")\n",
        "  print('\\n')\n",
        "\n",
        "\n",
        "\n",
        "# NB - LR = 0.89\n",
        "# 0.78 0.77\n",
        "\n",
        "# KNN - NB and KNN - LR = 0.74\n",
        "# SVM - NB and SVM - LR = 0.73\n",
        "\n",
        "# SVM - KNN = 0.7\n",
        "# 0.80  0.85\n",
        "\n",
        "# RF - NB and RF - LR = 0.5\n",
        "# KNN - RF =  0.46\n",
        "# DT - RF = 0.4\n",
        "# SVM - RF = 0.38\n",
        "# KNN - DT = 0.35\n",
        "# DT - SVM = 0.3\n",
        "\n",
        "#KNN-LR=0.91\n",
        "#SVM-KNN=0.75\n",
        "#SVM-LR=0.67\n",
        "#KNN-NB=0.6\n",
        "#NB-LR=0.55"
      ]
    },
    {
      "cell_type": "code",
      "execution_count": null,
      "metadata": {
        "id": "o84mMxHwlkBV"
      },
      "outputs": [],
      "source": [
        "# data = pd.read_csv('/content/Prediction - both testing and traning.csv',usecols=['TARGET','KNN','DT','RF','NB'])\n",
        "\n",
        "# rows, cols = (7, 7)\n",
        "# val = [[0 for i in range(cols)] for j in range(rows)] #creating the double array\n",
        "# for i in range(1,5):\n",
        "#   for j in range(1,5):\n",
        "#     tt=0\n",
        "#     tf=0\n",
        "#     ft=0\n",
        "#     ff=0\n",
        "#     for count in range(62):\n",
        "#       if data.iloc[count,i] == data['TARGET'][count] and data.iloc[count,j] == data['TARGET'][count]:\n",
        "#         tt=tt+1\n",
        "#       elif data.iloc[count,i] == data['TARGET'][count] and data.iloc[count,j] != data['TARGET'][count]:\n",
        "#         tf=tf+1\n",
        "#       elif data.iloc[count,i] != data['TARGET'][count] and data.iloc[count,j] == data['TARGET'][count]:\n",
        "#         ft=ft+1\n",
        "#       elif data.iloc[count,i] != data['TARGET'][count] and data.iloc[count,j] != data['TARGET'][count]:\n",
        "#         ff=ff+1\n",
        "#     try:\n",
        "#       correlation = int (2*ff)/int (tf+ft+(2*ff))\n",
        "#     except ZeroDivisionError:\n",
        "# \t    correlation = 0\n",
        "#     val[i][j] = correlation"
      ]
    },
    {
      "cell_type": "code",
      "execution_count": null,
      "metadata": {
        "id": "aC0hg51_ouHh"
      },
      "outputs": [],
      "source": [
        "# for i in range(1,5):\n",
        "#   print(f\"        {data.columns[i]}\",end=\"\")\n",
        "# print(\"\\n\")\n",
        "\n",
        "# for i in range(1,5):\n",
        "#   print(data.columns[i],end =\"      \")\n",
        "#   for j in range(1,5):\n",
        "#     print(round(val[i][j],2),end = \"      \")\n",
        "#   print('\\n')"
      ]
    },
    {
      "cell_type": "markdown",
      "metadata": {
        "id": "qwj8_r6xZkTw"
      },
      "source": [
        "# **STACKING**"
      ]
    },
    {
      "cell_type": "code",
      "execution_count": null,
      "metadata": {
        "id": "Acwtw7T0ZoKf"
      },
      "outputs": [],
      "source": [
        "# from numpy import mean\n",
        "# from numpy import std\n",
        "# import pandas as pd\n",
        "# from sklearn.datasets import make_classification\n",
        "# from sklearn.model_selection import cross_val_score\n",
        "# from sklearn.model_selection import RepeatedStratifiedKFold\n",
        "# from sklearn.linear_model import LogisticRegression\n",
        "# from sklearn.neighbors import KNeighborsClassifier\n",
        "# from sklearn.tree import DecisionTreeClassifier\n",
        "# from sklearn.ensemble import RandomForestClassifier\n",
        "# from sklearn.svm import SVC\n",
        "# from sklearn.naive_bayes import GaussianNB\n",
        "# from sklearn.ensemble import StackingClassifier\n",
        "# from matplotlib import pyplot\n",
        "# from matplotlib.pyplot import figure\n",
        "# figure(dpi=80, facecolor='w', edgecolor='k')\n",
        " \n",
        "  \n",
        "# # get a stacking of models\n",
        "# def get_stacking():\n",
        "#   # define the base models\n",
        "#   level0 = list()\n",
        "#   level0.append(('cart', DecisionTreeClassifier()))\n",
        "#   level0.append(('rf', RandomForestClassifier()))\n",
        "#   level0.append(('lr',LogisticRegression()))\n",
        "\n",
        "#   # define meta learner model\n",
        "#   level1 = KNeighborsClassifier()\n",
        "\n",
        "#   # define the stacking ensemble\n",
        "#   model = StackingClassifier(estimators=level0, final_estimator=level1, cv=5)\n",
        "#   return model\n",
        "\n",
        "# # get a list of models to evaluate\n",
        "# def get_models():\n",
        "#   models = dict()\n",
        "#   models['Decision tree'] = DecisionTreeClassifier()\n",
        "#   models['Random Forest'] = RandomForestClassifier()\n",
        "#   models['Logistic Regression'] = LogisticRegression()\n",
        "#   models['Stacking'] = get_stacking()\n",
        "#   return models\n",
        " \n",
        "# # evaluate a give model using cross-validation\n",
        "# def evaluate_model(model):\n",
        "#   cv = RepeatedStratifiedKFold(n_splits=10, n_repeats=3, random_state=1)\n",
        "#   scores = cross_val_score(model, X, y, scoring='accuracy', cv=cv, n_jobs=-1, error_score='raise')\n",
        "#   scores1 = cross_val_score(model, X, y, scoring='precision', cv=cv, n_jobs=-1, error_score='raise')\n",
        "#   scores2 = cross_val_score(model, X, y, scoring='recall', cv=cv, n_jobs=-1, error_score='raise')\n",
        "#   scores3 = cross_val_score(model, X, y, scoring='f1', cv=cv, n_jobs=-1, error_score='raise')\n",
        "#   return scores,scores1,scores2,scores3\n",
        " \n",
        "# # define dataset\n",
        "# df = pd.read_csv('/content/heart(303).csv',usecols=['age','sex','cp','trestbps','chol','fbs','restecg','thalach','exang','oldpeak','slope','ca','thal'])\n",
        "# df1 = pd.read_csv('/content/heart(303).csv',usecols=['target'])\n",
        "# X,y = df,df1.target\n",
        "\n",
        "# # get the models to evaluate\n",
        "# models = get_models()\n",
        "\n",
        "# # evaluate the models and store results\n",
        "# results,results1,results2,results3,names= list(),list(),list(),list(),list()\n",
        "# for name, model in models.items():\n",
        "#   scores= evaluate_model(model)\n",
        "#   scores1=evaluate_model(model)\n",
        "#   scores2=evaluate_model(model)\n",
        "#   scores3=evaluate_model(model)\n",
        "#   results.append(scores)\n",
        "#   results1.append(scores1)\n",
        "#   results2.append(scores2)\n",
        "#   results3.append(scores3)\n",
        "#   names.append(name)\n",
        "#   print('>%s -> %.3f (%.3f)' % (name+\"- Accuracy Score  \", mean(scores), std(scores)))\n",
        "#   print('>%s -> %.3f (%.3f)' % (name+\"- Precision Score \", mean(scores1), std(scores1)))\n",
        "#   print('>%s -> %.3f (%.3f)' % (name+\"- Recall Score    \", mean(scores2), std(scores2)))\n",
        "#   print('>%s -> %.3f (%.3f)' % (name+\"- F1 Score        \", mean(scores3), std(scores3)))\n",
        "#   print('\\n')"
      ]
    },
    {
      "cell_type": "code",
      "execution_count": null,
      "metadata": {
        "id": "7cWQIwa9ExOm"
      },
      "outputs": [],
      "source": [
        "# # get a stacking ensemble of models\n",
        "# def get_stacking():\n",
        "#   # define the base models\n",
        "#   level0 = list()\n",
        "#   level0.append(('cart', DecisionTreeClassifier()))\n",
        "#   level0.append(('lr',LogisticRegression()))\n",
        "#   level0.append(('knn',KNeighborsClassifier()))\n",
        "\n",
        "#   # define meta learner model\n",
        "#   level1 = RandomForestClassifier()\n",
        "\n",
        "#   # define the stacking ensemble\n",
        "#   model = StackingClassifier(estimators=level0, final_estimator=level1, cv=5)\n",
        "#   return model\n",
        " \n",
        "# # get a list of models to evaluate\n",
        "# def get_models():\n",
        "#   models = dict()\n",
        "#   models['Decision tree'] = DecisionTreeClassifier()\n",
        "#   models['LogisticRegression'] = LogisticRegression()\n",
        "#   models['KNN'] = KNeighborsClassifier()\n",
        "#   models['Stacking'] = get_stacking()\n",
        "#   return models\n",
        " \n",
        "# # evaluate a give model using cross-validation\n",
        "# def evaluate_model(model):\n",
        "#   cv = RepeatedStratifiedKFold(n_splits=10, n_repeats=3, random_state=1)\n",
        "#   scores = cross_val_score(model, X, y, scoring='accuracy', cv=cv, n_jobs=-1, error_score='raise')\n",
        "#   scores1 = cross_val_score(model, X, y, scoring='precision', cv=cv, n_jobs=-1, error_score='raise')\n",
        "#   scores2 = cross_val_score(model, X, y, scoring='recall', cv=cv, n_jobs=-1, error_score='raise')\n",
        "#   scores3 = cross_val_score(model, X, y, scoring='f1', cv=cv, n_jobs=-1, error_score='raise')\n",
        "#   return scores,scores1,scores2,scores3\n",
        " \n",
        "# # define dataset\n",
        "# df = pd.read_csv('/content/heart(303).csv',usecols=['age','sex','cp','trestbps','chol','fbs','restecg','thalach','exang','oldpeak','slope','ca','thal'])\n",
        "# df1 = pd.read_csv('/content/heart(303).csv',usecols=['target'])\n",
        "# X,y = df,df1.target\n",
        "\n",
        "# # get the models to evaluate\n",
        "# models = get_models()\n",
        "\n",
        "# # evaluate the models and store results\n",
        "# results,results1,results2,results3,names= list(),list(),list(),list(),list()\n",
        "# for name, model in models.items():\n",
        "#   scores= evaluate_model(model)\n",
        "#   scores1=evaluate_model(model)\n",
        "#   scores2=evaluate_model(model)\n",
        "#   scores3=evaluate_model(model)\n",
        "#   results.append(scores)\n",
        "#   results1.append(scores1)\n",
        "#   results2.append(scores2)\n",
        "#   results3.append(scores3)\n",
        "#   names.append(name)\n",
        "#   print('>%s -> %.3f (%.3f)' % (name+\"- Accuracy Score  \", mean(scores), std(scores)))\n",
        "#   print('>%s -> %.3f (%.3f)' % (name+\"- Precision Score \", mean(scores1), std(scores1)))\n",
        "#   print('>%s -> %.3f (%.3f)' % (name+\"- Recall Score    \", mean(scores2), std(scores2)))\n",
        "#   print('>%s -> %.3f (%.3f)' % (name+\"- F1 Score        \", mean(scores3), std(scores3)))\n",
        "#   print('\\n')\n",
        "  "
      ]
    },
    {
      "cell_type": "code",
      "execution_count": null,
      "metadata": {
        "id": "qRbW8ouKDiqu"
      },
      "outputs": [],
      "source": [
        "# # get a stacking ensemble of models\n",
        "# def get_stacking():\n",
        "#   # define the base models\n",
        "#   level0 = list()\n",
        "#   level0.append(('rf', RandomForestClassifier()))\n",
        "#   level0.append(('knn',KNeighborsClassifier()))\n",
        "\n",
        "#   # define meta learner model\n",
        "#   level1 = LogisticRegression()\n",
        "\n",
        "#   # define the stacking ensemble\n",
        "#   model = StackingClassifier(estimators=level0, final_estimator=level1, cv=5)\n",
        "#   return model\n",
        " \n",
        "# # get a list of models to evaluate\n",
        "# def get_models():\n",
        "#   models = dict()\n",
        "#   models['Random Forest'] = RandomForestClassifier()\n",
        "#   models['KNN'] = KNeighborsClassifier()\n",
        "#   models['Stacking'] = get_stacking()\n",
        "#   return models\n",
        " \n",
        "# # evaluate a give model using cross-validation\n",
        "# def evaluate_model(model):\n",
        "#   cv = RepeatedStratifiedKFold(n_splits=10, n_repeats=3, random_state=1)\n",
        "#   scores = cross_val_score(model, X, y, scoring='accuracy', cv=cv, n_jobs=-1, error_score='raise')\n",
        "#   scores1 = cross_val_score(model, X, y, scoring='precision', cv=cv, n_jobs=-1, error_score='raise')\n",
        "#   scores2 = cross_val_score(model, X, y, scoring='recall', cv=cv, n_jobs=-1, error_score='raise')\n",
        "#   scores3 = cross_val_score(model, X, y, scoring='f1', cv=cv, n_jobs=-1, error_score='raise')\n",
        "#   return scores,scores1,scores2,scores3\n",
        " \n",
        "# # define dataset\n",
        "# df = pd.read_csv('/content/heart(303).csv',usecols=['age','sex','cp','trestbps','chol','fbs','restecg','thalach','exang','oldpeak','slope','ca','thal'])\n",
        "# df1 = pd.read_csv('/content/heart(303).csv',usecols=['target'])\n",
        "# X,y = df,df1.target\n",
        "\n",
        "# # get the models to evaluate\n",
        "# models = get_models()\n",
        "\n",
        "# # evaluate the models and store results\n",
        "# results,results1,results2,results3,names= list(),list(),list(),list(),list()\n",
        "# for name, model in models.items():\n",
        "#   scores= evaluate_model(model)\n",
        "#   scores1=evaluate_model(model)\n",
        "#   scores2=evaluate_model(model)\n",
        "#   scores3=evaluate_model(model)\n",
        "#   results.append(scores)\n",
        "#   results1.append(scores1)\n",
        "#   results2.append(scores2)\n",
        "#   results3.append(scores3)\n",
        "#   names.append(name)\n",
        "#   print('>%s -> %.3f (%.3f)' % (name+\"- Accuracy Score  \", mean(scores), std(scores)))\n",
        "#   print('>%s -> %.3f (%.3f)' % (name+\"- Precision Score \", mean(scores1), std(scores1)))\n",
        "#   print('>%s -> %.3f (%.3f)' % (name+\"- Recall Score    \", mean(scores2), std(scores2)))\n",
        "#   print('>%s -> %.3f (%.3f)' % (name+\"- F1 Score        \", mean(scores3), std(scores3)))\n",
        "#   print('\\n')\n",
        "  "
      ]
    },
    {
      "cell_type": "markdown",
      "metadata": {
        "id": "Ez0GR0hf-aQU"
      },
      "source": [
        "# **LEVEL - 3**"
      ]
    },
    {
      "cell_type": "code",
      "execution_count": null,
      "metadata": {
        "colab": {
          "base_uri": "https://localhost:8080/"
        },
        "id": "KXb1zwl8E9UE",
        "outputId": "ecb0440c-4549-4995-a86d-e010b2680502"
      },
      "outputs": [
        {
          "output_type": "stream",
          "name": "stdout",
          "text": [
            "\n",
            " ------------ Prediction of Stacking for training dataset ------------\n",
            "\n",
            " ACCURACY SCORE  :  0.7077678571428571\n",
            "\n",
            " PRECISION SCORE :  0.7194003584432009\n",
            "\n",
            " RECALL SCORE :  0.6834094348032306\n",
            "\n",
            " F1 SCORE :  0.7008329844291064\n",
            "\n",
            " ------------ Prediction of Stacking for testing dataset ------------\n",
            "\n",
            " ACCURACY SCORE  :  0.7001428571428572\n",
            "\n",
            " PRECISION SCORE :  0.7047121126842202\n",
            "\n",
            " RECALL SCORE :  0.6785065716473658\n",
            "\n",
            " F1 SCORE :  0.6912614214582021\n"
          ]
        }
      ],
      "source": [
        "from sklearn.ensemble import RandomForestClassifier, StackingClassifier\n",
        "from sklearn.linear_model import LogisticRegression\n",
        "from sklearn.neighbors import KNeighborsClassifier\n",
        "from sklearn.tree import DecisionTreeClassifier\n",
        "from sklearn.svm import SVC\n",
        "\n",
        "# Create Learners per layer\n",
        "layer_one_estimators = [\n",
        "                        ('rf_1', RandomForestClassifier(n_estimators=10, random_state=42)),\n",
        "                        ('knn_1', KNeighborsClassifier(n_neighbors=5))             \n",
        "                       ]\n",
        "layer_two_estimators = [\n",
        "                        ('dt_2', DecisionTreeClassifier()),\n",
        "                        ('rf_2', RandomForestClassifier(n_estimators=50, random_state=42)),\n",
        "                       ]\n",
        "layer_two = StackingClassifier(estimators=layer_two_estimators, final_estimator= LogisticRegression())\n",
        "\n",
        "# Create Final model by \n",
        "clf = StackingClassifier(estimators=layer_one_estimators, final_estimator=layer_two)\n",
        "\n",
        "print('\\n ------------ Prediction of Stacking for training dataset ------------')\n",
        "clf.fit(x_train, y_train)\n",
        "Stacking = clf.predict(x_train)\n",
        "Stacking_accuracy = cross_val_score(clf, x_train, y_train, scoring=\"accuracy\",cv = 5).mean()\n",
        "Stacking_precision = cross_val_score(clf, x_train, y_train, scoring=\"precision\",cv = 5).mean()\n",
        "Stacking_recall_score = cross_val_score(clf , x_train, y_train, scoring=\"recall\",cv = 5).mean()\n",
        "Stacking_f1_score = cross_val_score(clf, x_train, y_train, scoring=\"f1\",cv = 5).mean()\n",
        "print('\\n ACCURACY SCORE  : ', Stacking_accuracy)\n",
        "print('\\n PRECISION SCORE : ', Stacking_precision)\n",
        "print('\\n RECALL SCORE : ', Stacking_recall_score)\n",
        "print('\\n F1 SCORE : ', Stacking_f1_score)\n",
        "\n",
        "print('\\n ------------ Prediction of Stacking for testing dataset ------------')\n",
        "clf.fit(x_test, y_test)\n",
        "Stacking = clf.predict(x_test)\n",
        "Stacking_accuracy = cross_val_score(clf, x_test, y_test, scoring=\"accuracy\",cv = 5).mean()\n",
        "Stacking_precision = cross_val_score(clf, x_test, y_test, scoring=\"precision\",cv = 5).mean()\n",
        "Stacking_recall_score = cross_val_score(clf , x_test,y_test, scoring=\"recall\",cv = 5).mean()\n",
        "Stacking_f1_score = cross_val_score(clf, x_test, y_test, scoring=\"f1\",cv = 5).mean()\n",
        "print('\\n ACCURACY SCORE  : ', Stacking_accuracy)\n",
        "print('\\n PRECISION SCORE : ', Stacking_precision)\n",
        "print('\\n RECALL SCORE : ', Stacking_recall_score)\n",
        "print('\\n F1 SCORE : ', Stacking_f1_score)"
      ]
    },
    {
      "cell_type": "markdown",
      "metadata": {
        "id": "jIrEhmwpZev_"
      },
      "source": [
        "# **DEEP NEURAL NETWORK**"
      ]
    },
    {
      "cell_type": "code",
      "execution_count": null,
      "metadata": {
        "id": "qN_p7oeobHh0"
      },
      "outputs": [],
      "source": [
        "import random\n",
        "import keras\n",
        "from keras.models import Sequential\n",
        "from keras.layers import Dense, Activation, Dropout\n",
        "import tensorflow as tf\n",
        "from keras.utils.vis_utils import plot_model"
      ]
    },
    {
      "cell_type": "code",
      "execution_count": null,
      "metadata": {
        "id": "R-0_OZlXZ2ER"
      },
      "outputs": [],
      "source": [
        "# define the keras model\n",
        "model = Sequential()\n",
        "model.add(Dense(12, input_dim=13, activation='relu'))\n",
        "model.add(Dense(13, activation='relu'))\n",
        "model.add(Dense(1, activation='sigmoid'))\n",
        "#model1 = Sequential()\n",
        "#model1.add(Dense(500, input_dim=11, activation='relu'))\n",
        "#model1.add(Dense(500, input_dim=200, activation='relu'))\n",
        "#model1.add(Dense(320, input_dim=200, activation='relu'))\n",
        "#model1.add(Dense(1, activation='tanh'))\n"
      ]
    },
    {
      "cell_type": "code",
      "execution_count": null,
      "metadata": {
        "id": "CooizELc-b4U"
      },
      "outputs": [],
      "source": [
        "train_indices = int(0.9 * df.shape[0])\n",
        "x_train, x_val, y_train, y_val = (\n",
        "    x[:train_indices],\n",
        "    x[train_indices:],\n",
        "    y[:train_indices],\n",
        "    y[train_indices:],\n",
        ")"
      ]
    },
    {
      "cell_type": "code",
      "execution_count": null,
      "metadata": {
        "id": "4e3F_YaBZ_T0"
      },
      "outputs": [],
      "source": [
        "# compile the keras model\n",
        "model.compile(loss='binary_crossentropy', optimizer='adam', metrics=['accuracy',tf.keras.metrics.Recall(),tf.keras.metrics.Precision()])\n",
        "#,tf.keras.metrics.Recall()\n"
      ]
    },
    {
      "cell_type": "code",
      "execution_count": null,
      "metadata": {
        "colab": {
          "base_uri": "https://localhost:8080/"
        },
        "id": "xmScvzrSaIF5",
        "outputId": "0743abce-0ebf-4754-9c99-53702f07103c"
      },
      "outputs": [
        {
          "output_type": "stream",
          "name": "stdout",
          "text": [
            "Epoch 1/80\n",
            "4847/4847 [==============================] - 12s 2ms/step - loss: 67.5160 - accuracy: 0.5157 - recall: 0.5300 - precision: 0.5146 - val_loss: 88.0267 - val_accuracy: 0.4969 - val_recall: 5.6786e-04 - val_precision: 0.5000\n",
            "Epoch 2/80\n",
            "4847/4847 [==============================] - 10s 2ms/step - loss: 17.8146 - accuracy: 0.5293 - recall: 0.5374 - precision: 0.5282 - val_loss: 47.7924 - val_accuracy: 0.5591 - val_recall: 0.9358 - val_precision: 0.5354\n",
            "Epoch 3/80\n",
            "4847/4847 [==============================] - 10s 2ms/step - loss: 15.9642 - accuracy: 0.5398 - recall: 0.5480 - precision: 0.5385 - val_loss: 37.2809 - val_accuracy: 0.4970 - val_recall: 0.0011 - val_precision: 0.5714\n",
            "Epoch 4/80\n",
            "4847/4847 [==============================] - 10s 2ms/step - loss: 13.8161 - accuracy: 0.5466 - recall: 0.5538 - precision: 0.5453 - val_loss: 43.6859 - val_accuracy: 0.4970 - val_recall: 8.5179e-04 - val_precision: 0.6000\n",
            "Epoch 5/80\n",
            "4847/4847 [==============================] - 10s 2ms/step - loss: 12.6891 - accuracy: 0.5570 - recall: 0.5635 - precision: 0.5557 - val_loss: 61.1600 - val_accuracy: 0.5031 - val_recall: 1.0000 - val_precision: 0.5031\n",
            "Epoch 6/80\n",
            "4847/4847 [==============================] - 10s 2ms/step - loss: 10.7581 - accuracy: 0.5589 - recall: 0.5649 - precision: 0.5575 - val_loss: 3.2259 - val_accuracy: 0.6530 - val_recall: 0.4506 - val_precision: 0.7626\n",
            "Epoch 7/80\n",
            "4847/4847 [==============================] - 10s 2ms/step - loss: 9.4983 - accuracy: 0.5684 - recall: 0.5740 - precision: 0.5670 - val_loss: 4.7508 - val_accuracy: 0.5734 - val_recall: 0.1863 - val_precision: 0.8454\n",
            "Epoch 8/80\n",
            "4847/4847 [==============================] - 10s 2ms/step - loss: 8.5165 - accuracy: 0.5668 - recall: 0.5728 - precision: 0.5654 - val_loss: 18.9218 - val_accuracy: 0.5006 - val_recall: 0.0091 - val_precision: 0.8421\n",
            "Epoch 9/80\n",
            "4847/4847 [==============================] - 10s 2ms/step - loss: 7.0558 - accuracy: 0.5760 - recall: 0.5814 - precision: 0.5746 - val_loss: 4.4538 - val_accuracy: 0.5339 - val_recall: 0.9881 - val_precision: 0.5193\n",
            "Epoch 10/80\n",
            "4847/4847 [==============================] - 10s 2ms/step - loss: 6.4176 - accuracy: 0.5779 - recall: 0.5823 - precision: 0.5766 - val_loss: 19.6479 - val_accuracy: 0.5030 - val_recall: 0.9997 - val_precision: 0.5031\n",
            "Epoch 11/80\n",
            "4847/4847 [==============================] - 10s 2ms/step - loss: 5.2409 - accuracy: 0.5784 - recall: 0.5828 - precision: 0.5771 - val_loss: 6.3537 - val_accuracy: 0.5601 - val_recall: 0.1567 - val_precision: 0.8351\n",
            "Epoch 12/80\n",
            "4847/4847 [==============================] - 10s 2ms/step - loss: 4.1537 - accuracy: 0.5880 - recall: 0.5920 - precision: 0.5867 - val_loss: 14.4058 - val_accuracy: 0.4971 - val_recall: 0.0011 - val_precision: 0.6667\n",
            "Epoch 13/80\n",
            "4847/4847 [==============================] - 10s 2ms/step - loss: 3.9167 - accuracy: 0.5836 - recall: 0.5883 - precision: 0.5821 - val_loss: 9.0611 - val_accuracy: 0.4980 - val_recall: 0.0034 - val_precision: 0.7500\n",
            "Epoch 14/80\n",
            "4847/4847 [==============================] - 10s 2ms/step - loss: 2.9921 - accuracy: 0.5882 - recall: 0.5901 - precision: 0.5872 - val_loss: 1.3124 - val_accuracy: 0.6431 - val_recall: 0.9066 - val_precision: 0.5955\n",
            "Epoch 15/80\n",
            "4847/4847 [==============================] - 10s 2ms/step - loss: 2.3554 - accuracy: 0.5919 - recall: 0.5941 - precision: 0.5908 - val_loss: 3.8367 - val_accuracy: 0.5010 - val_recall: 0.0094 - val_precision: 0.8919\n",
            "Epoch 16/80\n",
            "4847/4847 [==============================] - 11s 2ms/step - loss: 2.0056 - accuracy: 0.5932 - recall: 0.5959 - precision: 0.5920 - val_loss: 2.7223 - val_accuracy: 0.5033 - val_recall: 0.9974 - val_precision: 0.5032\n",
            "Epoch 17/80\n",
            "4847/4847 [==============================] - 10s 2ms/step - loss: 1.4780 - accuracy: 0.5695 - recall: 0.5367 - precision: 0.5737 - val_loss: 0.7255 - val_accuracy: 0.5031 - val_recall: 0.9989 - val_precision: 0.5031\n",
            "Epoch 18/80\n",
            "4847/4847 [==============================] - 10s 2ms/step - loss: 0.7328 - accuracy: 0.5225 - recall: 0.4648 - precision: 0.5246 - val_loss: 0.7775 - val_accuracy: 0.4967 - val_recall: 2.8393e-04 - val_precision: 0.3333\n",
            "Epoch 19/80\n",
            "4847/4847 [==============================] - 10s 2ms/step - loss: 0.7097 - accuracy: 0.5037 - recall: 0.2010 - precision: 0.5077 - val_loss: 0.6933 - val_accuracy: 0.4969 - val_recall: 0.0000e+00 - val_precision: 0.0000e+00\n",
            "Epoch 20/80\n",
            "4847/4847 [==============================] - 10s 2ms/step - loss: 0.7047 - accuracy: 0.4974 - recall: 0.3521 - precision: 0.4954 - val_loss: 0.6932 - val_accuracy: 0.4969 - val_recall: 0.0000e+00 - val_precision: 0.0000e+00\n",
            "Epoch 21/80\n",
            "4847/4847 [==============================] - 10s 2ms/step - loss: 0.6963 - accuracy: 0.4995 - recall: 0.3159 - precision: 0.4982 - val_loss: 0.6932 - val_accuracy: 0.4969 - val_recall: 0.0000e+00 - val_precision: 0.0000e+00\n",
            "Epoch 22/80\n",
            "4847/4847 [==============================] - 10s 2ms/step - loss: 0.6931 - accuracy: 0.4989 - recall: 0.3144 - precision: 0.4972 - val_loss: 0.6932 - val_accuracy: 0.4969 - val_recall: 0.0000e+00 - val_precision: 0.0000e+00\n",
            "Epoch 23/80\n",
            "4847/4847 [==============================] - 10s 2ms/step - loss: 0.6931 - accuracy: 0.5019 - recall: 0.4048 - precision: 0.5015 - val_loss: 0.6931 - val_accuracy: 0.5031 - val_recall: 1.0000 - val_precision: 0.5031\n",
            "Epoch 24/80\n",
            "4847/4847 [==============================] - 10s 2ms/step - loss: 0.6931 - accuracy: 0.4999 - recall: 0.5007 - precision: 0.4992 - val_loss: 0.6932 - val_accuracy: 0.4969 - val_recall: 0.0000e+00 - val_precision: 0.0000e+00\n",
            "Epoch 25/80\n",
            "4847/4847 [==============================] - 10s 2ms/step - loss: 0.6938 - accuracy: 0.4965 - recall: 0.3172 - precision: 0.4935 - val_loss: 0.6931 - val_accuracy: 0.5031 - val_recall: 1.0000 - val_precision: 0.5031\n",
            "Epoch 26/80\n",
            "4847/4847 [==============================] - 10s 2ms/step - loss: 0.6932 - accuracy: 0.4994 - recall: 0.4777 - precision: 0.4987 - val_loss: 0.6931 - val_accuracy: 0.5031 - val_recall: 1.0000 - val_precision: 0.5031\n",
            "Epoch 27/80\n",
            "4847/4847 [==============================] - 10s 2ms/step - loss: 0.6932 - accuracy: 0.4973 - recall: 0.5374 - precision: 0.4969 - val_loss: 0.6933 - val_accuracy: 0.4969 - val_recall: 0.0000e+00 - val_precision: 0.0000e+00\n",
            "Epoch 28/80\n",
            "4847/4847 [==============================] - 10s 2ms/step - loss: 0.6932 - accuracy: 0.4982 - recall: 0.2658 - precision: 0.4953 - val_loss: 0.6931 - val_accuracy: 0.5031 - val_recall: 1.0000 - val_precision: 0.5031\n",
            "Epoch 29/80\n",
            "4847/4847 [==============================] - 10s 2ms/step - loss: 0.6932 - accuracy: 0.4971 - recall: 0.4510 - precision: 0.4960 - val_loss: 0.6931 - val_accuracy: 0.5031 - val_recall: 1.0000 - val_precision: 0.5031\n",
            "Epoch 30/80\n",
            "4847/4847 [==============================] - 10s 2ms/step - loss: 0.6932 - accuracy: 0.4987 - recall: 0.5171 - precision: 0.4981 - val_loss: 0.6932 - val_accuracy: 0.4969 - val_recall: 0.0000e+00 - val_precision: 0.0000e+00\n",
            "Epoch 31/80\n",
            "4847/4847 [==============================] - 10s 2ms/step - loss: 0.6932 - accuracy: 0.4983 - recall: 0.3225 - precision: 0.4964 - val_loss: 0.6931 - val_accuracy: 0.5031 - val_recall: 1.0000 - val_precision: 0.5031\n",
            "Epoch 32/80\n",
            "4847/4847 [==============================] - 10s 2ms/step - loss: 0.6932 - accuracy: 0.5010 - recall: 0.4072 - precision: 0.5004 - val_loss: 0.6931 - val_accuracy: 0.5031 - val_recall: 1.0000 - val_precision: 0.5031\n",
            "Epoch 33/80\n",
            "4847/4847 [==============================] - 10s 2ms/step - loss: 0.6932 - accuracy: 0.4974 - recall: 0.4466 - precision: 0.4963 - val_loss: 0.6931 - val_accuracy: 0.5031 - val_recall: 1.0000 - val_precision: 0.5031\n",
            "Epoch 34/80\n",
            "4847/4847 [==============================] - 10s 2ms/step - loss: 0.6932 - accuracy: 0.4986 - recall: 0.4815 - precision: 0.4979 - val_loss: 0.6931 - val_accuracy: 0.5031 - val_recall: 1.0000 - val_precision: 0.5031\n",
            "Epoch 35/80\n",
            "4847/4847 [==============================] - 10s 2ms/step - loss: 0.6932 - accuracy: 0.4959 - recall: 0.4620 - precision: 0.4949 - val_loss: 0.6931 - val_accuracy: 0.4969 - val_recall: 0.0000e+00 - val_precision: 0.0000e+00\n",
            "Epoch 36/80\n",
            "4847/4847 [==============================] - 10s 2ms/step - loss: 0.6932 - accuracy: 0.4939 - recall: 0.3201 - precision: 0.4896 - val_loss: 0.6932 - val_accuracy: 0.4969 - val_recall: 0.0000e+00 - val_precision: 0.0000e+00\n",
            "Epoch 37/80\n",
            "4847/4847 [==============================] - 11s 2ms/step - loss: 0.6932 - accuracy: 0.5026 - recall: 0.5077 - precision: 0.5019 - val_loss: 0.6932 - val_accuracy: 0.4969 - val_recall: 0.0000e+00 - val_precision: 0.0000e+00\n",
            "Epoch 38/80\n",
            "4847/4847 [==============================] - 11s 2ms/step - loss: 0.6932 - accuracy: 0.4987 - recall: 0.2619 - precision: 0.4963 - val_loss: 0.6932 - val_accuracy: 0.4969 - val_recall: 0.0000e+00 - val_precision: 0.0000e+00\n",
            "Epoch 39/80\n",
            "4847/4847 [==============================] - 11s 2ms/step - loss: 0.6932 - accuracy: 0.4964 - recall: 0.2741 - precision: 0.4923 - val_loss: 0.6931 - val_accuracy: 0.5031 - val_recall: 1.0000 - val_precision: 0.5031\n",
            "Epoch 40/80\n",
            "4847/4847 [==============================] - 11s 2ms/step - loss: 0.6932 - accuracy: 0.4986 - recall: 0.4486 - precision: 0.4977 - val_loss: 0.6931 - val_accuracy: 0.5031 - val_recall: 1.0000 - val_precision: 0.5031\n",
            "Epoch 41/80\n",
            "4847/4847 [==============================] - 11s 2ms/step - loss: 0.6932 - accuracy: 0.4977 - recall: 0.3506 - precision: 0.4958 - val_loss: 0.6931 - val_accuracy: 0.5031 - val_recall: 1.0000 - val_precision: 0.5031\n",
            "Epoch 42/80\n",
            "4847/4847 [==============================] - 12s 2ms/step - loss: 0.6932 - accuracy: 0.4978 - recall: 0.4581 - precision: 0.4968 - val_loss: 0.6931 - val_accuracy: 0.5031 - val_recall: 1.0000 - val_precision: 0.5031\n",
            "Epoch 43/80\n",
            "4847/4847 [==============================] - 11s 2ms/step - loss: 0.6932 - accuracy: 0.4969 - recall: 0.3964 - precision: 0.4952 - val_loss: 0.6931 - val_accuracy: 0.5031 - val_recall: 1.0000 - val_precision: 0.5031\n",
            "Epoch 44/80\n",
            "4847/4847 [==============================] - 11s 2ms/step - loss: 0.6932 - accuracy: 0.5017 - recall: 0.4671 - precision: 0.5011 - val_loss: 0.6932 - val_accuracy: 0.4969 - val_recall: 0.0000e+00 - val_precision: 0.0000e+00\n",
            "Epoch 45/80\n",
            "4847/4847 [==============================] - 11s 2ms/step - loss: 0.6932 - accuracy: 0.4996 - recall: 0.3472 - precision: 0.4985 - val_loss: 0.6931 - val_accuracy: 0.5031 - val_recall: 1.0000 - val_precision: 0.5031\n",
            "Epoch 46/80\n",
            "4847/4847 [==============================] - 11s 2ms/step - loss: 0.6932 - accuracy: 0.4980 - recall: 0.5693 - precision: 0.4977 - val_loss: 0.6931 - val_accuracy: 0.5031 - val_recall: 1.0000 - val_precision: 0.5031\n",
            "Epoch 47/80\n",
            "4847/4847 [==============================] - 11s 2ms/step - loss: 0.6932 - accuracy: 0.4960 - recall: 0.5363 - precision: 0.4957 - val_loss: 0.6933 - val_accuracy: 0.4969 - val_recall: 0.0000e+00 - val_precision: 0.0000e+00\n",
            "Epoch 48/80\n",
            "4847/4847 [==============================] - 11s 2ms/step - loss: 0.6932 - accuracy: 0.4970 - recall: 0.3666 - precision: 0.4950 - val_loss: 0.6932 - val_accuracy: 0.4969 - val_recall: 0.0000e+00 - val_precision: 0.0000e+00\n",
            "Epoch 49/80\n",
            "4847/4847 [==============================] - 10s 2ms/step - loss: 0.6932 - accuracy: 0.4980 - recall: 0.2868 - precision: 0.4953 - val_loss: 0.6931 - val_accuracy: 0.5031 - val_recall: 1.0000 - val_precision: 0.5031\n",
            "Epoch 50/80\n",
            "4847/4847 [==============================] - 10s 2ms/step - loss: 0.6932 - accuracy: 0.4990 - recall: 0.4482 - precision: 0.4981 - val_loss: 0.6931 - val_accuracy: 0.5031 - val_recall: 1.0000 - val_precision: 0.5031\n",
            "Epoch 51/80\n",
            "4847/4847 [==============================] - 10s 2ms/step - loss: 0.6932 - accuracy: 0.4961 - recall: 0.4291 - precision: 0.4947 - val_loss: 0.6931 - val_accuracy: 0.5031 - val_recall: 1.0000 - val_precision: 0.5031\n",
            "Epoch 52/80\n",
            "4847/4847 [==============================] - 10s 2ms/step - loss: 0.6932 - accuracy: 0.4987 - recall: 0.4604 - precision: 0.4978 - val_loss: 0.6931 - val_accuracy: 0.5031 - val_recall: 1.0000 - val_precision: 0.5031\n",
            "Epoch 53/80\n",
            "4847/4847 [==============================] - 11s 2ms/step - loss: 0.6932 - accuracy: 0.5006 - recall: 0.4242 - precision: 0.4999 - val_loss: 0.6932 - val_accuracy: 0.4969 - val_recall: 0.0000e+00 - val_precision: 0.0000e+00\n",
            "Epoch 54/80\n",
            "4847/4847 [==============================] - 11s 2ms/step - loss: 0.6932 - accuracy: 0.4983 - recall: 0.4386 - precision: 0.4973 - val_loss: 0.6932 - val_accuracy: 0.4969 - val_recall: 0.0000e+00 - val_precision: 0.0000e+00\n",
            "Epoch 55/80\n",
            "4847/4847 [==============================] - 11s 2ms/step - loss: 0.6932 - accuracy: 0.4978 - recall: 0.2722 - precision: 0.4948 - val_loss: 0.6931 - val_accuracy: 0.5031 - val_recall: 1.0000 - val_precision: 0.5031\n",
            "Epoch 56/80\n",
            "4847/4847 [==============================] - 10s 2ms/step - loss: 0.6932 - accuracy: 0.4969 - recall: 0.4923 - precision: 0.4962 - val_loss: 0.6931 - val_accuracy: 0.4969 - val_recall: 0.0000e+00 - val_precision: 0.0000e+00\n",
            "Epoch 57/80\n",
            "4847/4847 [==============================] - 10s 2ms/step - loss: 0.6932 - accuracy: 0.4985 - recall: 0.4218 - precision: 0.4975 - val_loss: 0.6932 - val_accuracy: 0.4969 - val_recall: 0.0000e+00 - val_precision: 0.0000e+00\n",
            "Epoch 58/80\n",
            "4847/4847 [==============================] - 10s 2ms/step - loss: 0.6932 - accuracy: 0.4973 - recall: 0.4231 - precision: 0.4960 - val_loss: 0.6932 - val_accuracy: 0.4969 - val_recall: 0.0000e+00 - val_precision: 0.0000e+00\n",
            "Epoch 59/80\n",
            "4847/4847 [==============================] - 10s 2ms/step - loss: 0.6932 - accuracy: 0.5011 - recall: 0.4815 - precision: 0.5005 - val_loss: 0.6933 - val_accuracy: 0.4969 - val_recall: 0.0000e+00 - val_precision: 0.0000e+00\n",
            "Epoch 60/80\n",
            "4847/4847 [==============================] - 10s 2ms/step - loss: 0.6932 - accuracy: 0.5006 - recall: 0.4738 - precision: 0.4999 - val_loss: 0.6931 - val_accuracy: 0.5031 - val_recall: 1.0000 - val_precision: 0.5031\n",
            "Epoch 61/80\n",
            "4847/4847 [==============================] - 10s 2ms/step - loss: 0.6932 - accuracy: 0.5026 - recall: 0.5030 - precision: 0.5020 - val_loss: 0.6934 - val_accuracy: 0.4969 - val_recall: 0.0000e+00 - val_precision: 0.0000e+00\n",
            "Epoch 62/80\n",
            "4847/4847 [==============================] - 10s 2ms/step - loss: 0.6931 - accuracy: 0.5033 - recall: 0.4384 - precision: 0.5030 - val_loss: 0.6931 - val_accuracy: 0.5031 - val_recall: 1.0000 - val_precision: 0.5031\n",
            "Epoch 63/80\n",
            "4847/4847 [==============================] - 10s 2ms/step - loss: 0.6932 - accuracy: 0.5002 - recall: 0.5196 - precision: 0.4995 - val_loss: 0.6931 - val_accuracy: 0.5031 - val_recall: 1.0000 - val_precision: 0.5031\n",
            "Epoch 64/80\n",
            "4847/4847 [==============================] - 10s 2ms/step - loss: 0.6932 - accuracy: 0.4994 - recall: 0.4579 - precision: 0.4986 - val_loss: 0.6932 - val_accuracy: 0.4969 - val_recall: 0.0000e+00 - val_precision: 0.0000e+00\n",
            "Epoch 65/80\n",
            "4847/4847 [==============================] - 10s 2ms/step - loss: 0.6932 - accuracy: 0.5013 - recall: 0.4943 - precision: 0.5006 - val_loss: 0.6931 - val_accuracy: 0.5031 - val_recall: 1.0000 - val_precision: 0.5031\n",
            "Epoch 66/80\n",
            "4847/4847 [==============================] - 10s 2ms/step - loss: 0.6932 - accuracy: 0.4985 - recall: 0.4041 - precision: 0.4973 - val_loss: 0.6931 - val_accuracy: 0.5031 - val_recall: 1.0000 - val_precision: 0.5031\n",
            "Epoch 67/80\n",
            "4847/4847 [==============================] - 10s 2ms/step - loss: 0.6932 - accuracy: 0.5029 - recall: 0.5201 - precision: 0.5022 - val_loss: 0.6932 - val_accuracy: 0.4969 - val_recall: 0.0000e+00 - val_precision: 0.0000e+00\n",
            "Epoch 68/80\n",
            "4847/4847 [==============================] - 11s 2ms/step - loss: 0.6932 - accuracy: 0.5027 - recall: 0.4422 - precision: 0.5023 - val_loss: 0.6933 - val_accuracy: 0.4969 - val_recall: 0.0000e+00 - val_precision: 0.0000e+00\n",
            "Epoch 69/80\n",
            "4847/4847 [==============================] - 10s 2ms/step - loss: 0.6932 - accuracy: 0.4973 - recall: 0.3566 - precision: 0.4953 - val_loss: 0.6932 - val_accuracy: 0.4969 - val_recall: 0.0000e+00 - val_precision: 0.0000e+00\n",
            "Epoch 70/80\n",
            "4847/4847 [==============================] - 10s 2ms/step - loss: 0.6932 - accuracy: 0.5006 - recall: 0.2940 - precision: 0.4999 - val_loss: 0.6931 - val_accuracy: 0.5031 - val_recall: 1.0000 - val_precision: 0.5031\n",
            "Epoch 71/80\n",
            "4847/4847 [==============================] - 10s 2ms/step - loss: 0.6932 - accuracy: 0.4990 - recall: 0.5862 - precision: 0.4986 - val_loss: 0.6932 - val_accuracy: 0.4969 - val_recall: 0.0000e+00 - val_precision: 0.0000e+00\n",
            "Epoch 72/80\n",
            "4847/4847 [==============================] - 10s 2ms/step - loss: 0.6932 - accuracy: 0.4973 - recall: 0.4664 - precision: 0.4963 - val_loss: 0.6932 - val_accuracy: 0.4969 - val_recall: 0.0000e+00 - val_precision: 0.0000e+00\n",
            "Epoch 73/80\n",
            "4847/4847 [==============================] - 10s 2ms/step - loss: 0.6932 - accuracy: 0.4988 - recall: 0.4062 - precision: 0.4977 - val_loss: 0.6933 - val_accuracy: 0.4969 - val_recall: 0.0000e+00 - val_precision: 0.0000e+00\n",
            "Epoch 74/80\n",
            "4847/4847 [==============================] - 11s 2ms/step - loss: 0.6932 - accuracy: 0.4964 - recall: 0.3348 - precision: 0.4937 - val_loss: 0.6932 - val_accuracy: 0.4969 - val_recall: 0.0000e+00 - val_precision: 0.0000e+00\n",
            "Epoch 75/80\n",
            "4847/4847 [==============================] - 10s 2ms/step - loss: 0.6932 - accuracy: 0.5016 - recall: 0.2653 - precision: 0.5017 - val_loss: 0.6931 - val_accuracy: 0.5031 - val_recall: 1.0000 - val_precision: 0.5031\n",
            "Epoch 76/80\n",
            "4847/4847 [==============================] - 10s 2ms/step - loss: 0.6932 - accuracy: 0.4984 - recall: 0.4447 - precision: 0.4975 - val_loss: 0.6932 - val_accuracy: 0.4969 - val_recall: 0.0000e+00 - val_precision: 0.0000e+00\n",
            "Epoch 77/80\n",
            "4847/4847 [==============================] - 11s 2ms/step - loss: 0.6932 - accuracy: 0.4995 - recall: 0.5022 - precision: 0.4988 - val_loss: 0.6932 - val_accuracy: 0.4969 - val_recall: 0.0000e+00 - val_precision: 0.0000e+00\n",
            "Epoch 78/80\n",
            "4847/4847 [==============================] - 11s 2ms/step - loss: 0.6932 - accuracy: 0.4960 - recall: 0.3681 - precision: 0.4937 - val_loss: 0.6932 - val_accuracy: 0.4969 - val_recall: 0.0000e+00 - val_precision: 0.0000e+00\n",
            "Epoch 79/80\n",
            "4847/4847 [==============================] - 11s 2ms/step - loss: 0.6932 - accuracy: 0.4956 - recall: 0.4272 - precision: 0.4941 - val_loss: 0.6931 - val_accuracy: 0.5031 - val_recall: 1.0000 - val_precision: 0.5031\n",
            "Epoch 80/80\n",
            "4847/4847 [==============================] - 11s 2ms/step - loss: 0.6932 - accuracy: 0.5014 - recall: 0.4064 - precision: 0.5009 - val_loss: 0.6931 - val_accuracy: 0.5031 - val_recall: 1.0000 - val_precision: 0.5031\n"
          ]
        }
      ],
      "source": [
        "# fit the keras model on the dataset\n",
        "kera=model.fit(x_train, y_train, epochs=80, batch_size=13,validation_data=(x_val, y_val))\n",
        "#kera=model.fit(x, y, epochs=150, batch_size=13)"
      ]
    },
    {
      "cell_type": "code",
      "execution_count": null,
      "metadata": {
        "colab": {
          "base_uri": "https://localhost:8080/"
        },
        "id": "iXoIXw2i-sne",
        "outputId": "423c67c8-4308-429f-c88d-af66e44d5194"
      },
      "outputs": [
        {
          "output_type": "stream",
          "name": "stdout",
          "text": [
            "438/438 [==============================] - 1s 2ms/step - loss: 0.6941 - accuracy: 0.5329 - recall: 0.5167 - precision: 0.5287\n",
            "Accuracy: 53.29\n",
            "recall: 51.67\n",
            "precision: 52.87\n",
            "F1 score: 0.52\n"
          ]
        }
      ],
      "source": [
        "# evaluate the keras model\n",
        "_, DNNaccuracy,recall,precision = model.evaluate(x_test, y_test)\n",
        "print('Accuracy: %.2f' % (DNNaccuracy*100))\n",
        "print('recall: %.2f' % (recall*100))\n",
        "print('precision: %.2f' % (precision*100))\n",
        "F1 = 2 * (precision * recall) / (precision + recall)\n",
        "print('F1 score: %.2f' % (F1))\n"
      ]
    },
    {
      "cell_type": "code",
      "execution_count": null,
      "metadata": {
        "colab": {
          "base_uri": "https://localhost:8080/"
        },
        "id": "fubyy0VSgLbs",
        "outputId": "76ac1df0-310a-47e8-c13c-f4747c02efa8"
      },
      "outputs": [
        {
          "output_type": "stream",
          "name": "stdout",
          "text": [
            "+---------+--------------------+--------------------+--------------------+\n",
            "| METRICS |      ACCURACY      |  PRECISION SCORE   |    RECALL SCORE    |\n",
            "+---------+--------------------+--------------------+--------------------+\n",
            "|   DNN   | 0.5329285860061646 | 0.5286558270454407 | 0.5166738629341125 |\n",
            "+---------+--------------------+--------------------+--------------------+\n"
          ]
        }
      ],
      "source": [
        "myTable = PrettyTable([\"METRICS\", \"ACCURACY\",\"PRECISION SCORE\",\"RECALL SCORE\"]) \n",
        "  \n",
        "# Add rows \n",
        "myTable.add_row([\"DNN\",DNNaccuracy,precision,recall])\n",
        "print(myTable)"
      ]
    },
    {
      "cell_type": "code",
      "execution_count": null,
      "metadata": {
        "colab": {
          "base_uri": "https://localhost:8080/"
        },
        "id": "lIThMYfKa3eD",
        "outputId": "f9476d3d-1d23-49e3-b0b5-601ca3e63855"
      },
      "outputs": [
        {
          "output_type": "execute_result",
          "data": {
            "text/plain": [
              "0.5135257925838232"
            ]
          },
          "metadata": {},
          "execution_count": 82
        }
      ],
      "source": [
        "kera.history\n",
        "kera.history['accuracy']\n",
        "np.mean(kera.history['accuracy'])"
      ]
    },
    {
      "cell_type": "code",
      "execution_count": null,
      "metadata": {
        "colab": {
          "base_uri": "https://localhost:8080/"
        },
        "id": "gpNZvgu6ba2R",
        "outputId": "049351cc-838c-4499-8dcc-02e01ea92a91"
      },
      "outputs": [
        {
          "output_type": "stream",
          "name": "stdout",
          "text": [
            "Model: \"sequential\"\n",
            "_________________________________________________________________\n",
            " Layer (type)                Output Shape              Param #   \n",
            "=================================================================\n",
            " dense (Dense)               (None, 12)                168       \n",
            "                                                                 \n",
            " dense_1 (Dense)             (None, 13)                169       \n",
            "                                                                 \n",
            " dense_2 (Dense)             (None, 1)                 14        \n",
            "                                                                 \n",
            "=================================================================\n",
            "Total params: 351\n",
            "Trainable params: 351\n",
            "Non-trainable params: 0\n",
            "_________________________________________________________________\n"
          ]
        }
      ],
      "source": [
        "model.summary()"
      ]
    },
    {
      "cell_type": "code",
      "execution_count": null,
      "metadata": {
        "colab": {
          "base_uri": "https://localhost:8080/"
        },
        "id": "nTbYye1rbfcU",
        "outputId": "5825dfbc-feaf-4fad-f02d-0bd304285b29"
      },
      "outputs": [
        {
          "output_type": "execute_result",
          "data": {
            "image/png": "[encoded data removed]",
            "text/plain": [
              "<IPython.core.display.Image object>"
            ]
          },
          "metadata": {},
          "execution_count": 84
        }
      ],
      "source": [
        "plot_model(model, to_file='mlp-mnist.png', show_shapes=True)"
      ]
    },
    {
      "cell_type": "code",
      "execution_count": null,
      "metadata": {
        "colab": {
          "base_uri": "https://localhost:8080/"
        },
        "id": "qSrOKhR0bloB",
        "outputId": "c0b05a8a-42db-4a4d-d394-7994c1ae076c"
      },
      "outputs": [
        {
          "output_type": "display_data",
          "data": {
            "image/png": "[encoded data removed]",
            "text/plain": [
              "<Figure size 432x288 with 1 Axes>"
            ]
          },
          "metadata": {
            "needs_background": "light"
          }
        }
      ],
      "source": [
        "plt.plot(kera.history[\"loss\"])\n",
        "plt.plot(kera.history[\"val_loss\"])\n",
        "plt.title(\"model loss\")\n",
        "plt.ylabel(\"loss\")\n",
        "plt.xlabel(\"epoch\")\n",
        "plt.legend([\"train\", \"test\"], loc=\"upper left\")\n",
        "plt.show()"
      ]
    },
    {
      "cell_type": "code",
      "execution_count": null,
      "metadata": {
        "colab": {
          "base_uri": "https://localhost:8080/"
        },
        "id": "baqOgSjvbrqu",
        "outputId": "fa464692-c324-4cb7-a16a-49a6d3b6d190"
      },
      "outputs": [
        {
          "output_type": "display_data",
          "data": {
            "image/png": "[encoded data removed]",
            "text/plain": [
              "<Figure size 432x288 with 1 Axes>"
            ]
          },
          "metadata": {
            "needs_background": "light"
          }
        }
      ],
      "source": [
        "plt.plot(kera.history['accuracy'])\n",
        "plt.plot(kera.history['val_accuracy'])\n",
        "plt.title('model accuracy')\n",
        "plt.ylabel('accuracy')\n",
        "plt.xlabel('epoch')\n",
        "plt.legend(['train', 'test'], loc='upper left')\n",
        "plt.show()"
      ]
    },
    {
      "cell_type": "code",
      "execution_count": null,
      "metadata": {
        "colab": {
          "base_uri": "https://localhost:8080/"
        },
        "id": "WXMsjj86YMIL",
        "outputId": "71450540-2a8a-41c2-cc1e-440129c000f0"
      },
      "outputs": [
        {
          "output_type": "stream",
          "name": "stdout",
          "text": [
            "The prediction value for DNN Method : \n",
            "<keras.callbacks.History object at 0x7ff3222aab50>\n"
          ]
        }
      ],
      "source": [
        "print(\"The prediction value for DNN Method : \")\n",
        "print(kera)"
      ]
    }
  ],
  "metadata": {
    "colab": {
      "collapsed_sections": [
        "RWYAx5HYrMRq",
        "VUgqsHsM1QdH",
        "wcDtRZmJ2_pQ",
        "1HJ_zq-8ry6y",
        "-86JmAOJ7POD",
        "hxspQNsbO_bL",
        "LAiCfGJyawCS",
        "jnN8GLwjPQb0",
        "1JGgYTRO9oVu",
        "p0-oK0xH_1tw",
        "a-3e0SwBgSUR",
        "S55EwiO-2f1x",
        "B_UHawoGrU4p",
        "yhMylq7W55GV",
        "qwj8_r6xZkTw",
        "Ez0GR0hf-aQU",
        "jIrEhmwpZev_"
      ],
      "provenance": [],
      "toc_visible": true
    },
    "kernelspec": {
      "display_name": "Python 3",
      "name": "python3"
    },
    "language_info": {
      "name": "python"
    }
  },
  "nbformat": 4,
  "nbformat_minor": 0
}